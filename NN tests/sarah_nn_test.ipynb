{
 "cells": [
  {
   "cell_type": "code",
   "execution_count": null,
   "id": "8db8f4ce-144d-480d-9caa-dd04dd664f80",
   "metadata": {},
   "outputs": [],
   "source": []
  }
 ],
 "metadata": {
  "kernelspec": {
   "display_name": "",
   "name": ""
  },
  "language_info": {
   "name": ""
  }
 },
 "nbformat": 4,
 "nbformat_minor": 5
}
