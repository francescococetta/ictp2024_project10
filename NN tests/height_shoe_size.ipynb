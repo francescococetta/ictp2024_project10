{
 "cells": [
  {
   "cell_type": "code",
   "execution_count": 32,
   "id": "59a91c76-f0ce-4d8c-a995-32074889bddc",
   "metadata": {},
   "outputs": [
    {
     "name": "stderr",
     "output_type": "stream",
     "text": [
      "Matplotlib is building the font cache; this may take a moment.\n"
     ]
    }
   ],
   "source": [
    "import numpy as np\n",
    "import torch\n",
    "from torch import nn\n",
    "import pandas as pd\n",
    "import os\n",
    "import matplotlib.pyplot as plt"
   ]
  },
  {
   "cell_type": "markdown",
   "id": "05255358-b82c-4552-a19e-bb937441c252",
   "metadata": {},
   "source": [
    "Data downloaded from https://www.kaggle.com/datasets/peimandaii/dataset-of-people?resource=download"
   ]
  },
  {
   "cell_type": "code",
   "execution_count": 21,
   "id": "8db8f4ce-144d-480d-9caa-dd04dd664f80",
   "metadata": {},
   "outputs": [
    {
     "data": {
      "text/html": [
       "<div>\n",
       "<style scoped>\n",
       "    .dataframe tbody tr th:only-of-type {\n",
       "        vertical-align: middle;\n",
       "    }\n",
       "\n",
       "    .dataframe tbody tr th {\n",
       "        vertical-align: top;\n",
       "    }\n",
       "\n",
       "    .dataframe thead th {\n",
       "        text-align: right;\n",
       "    }\n",
       "</style>\n",
       "<table border=\"1\" class=\"dataframe\">\n",
       "  <thead>\n",
       "    <tr style=\"text-align: right;\">\n",
       "      <th></th>\n",
       "      <th>Height</th>\n",
       "      <th>Weight</th>\n",
       "      <th>Shoe size</th>\n",
       "      <th>Gender</th>\n",
       "    </tr>\n",
       "  </thead>\n",
       "  <tbody>\n",
       "    <tr>\n",
       "      <th>0</th>\n",
       "      <td>180</td>\n",
       "      <td>79.0</td>\n",
       "      <td>42</td>\n",
       "      <td>M</td>\n",
       "    </tr>\n",
       "    <tr>\n",
       "      <th>1</th>\n",
       "      <td>165</td>\n",
       "      <td>65.0</td>\n",
       "      <td>41</td>\n",
       "      <td>M</td>\n",
       "    </tr>\n",
       "    <tr>\n",
       "      <th>2</th>\n",
       "      <td>178</td>\n",
       "      <td>72.0</td>\n",
       "      <td>42</td>\n",
       "      <td>M</td>\n",
       "    </tr>\n",
       "    <tr>\n",
       "      <th>3</th>\n",
       "      <td>160</td>\n",
       "      <td>53.0</td>\n",
       "      <td>43</td>\n",
       "      <td>M</td>\n",
       "    </tr>\n",
       "    <tr>\n",
       "      <th>4</th>\n",
       "      <td>182</td>\n",
       "      <td>78.0</td>\n",
       "      <td>36</td>\n",
       "      <td>M</td>\n",
       "    </tr>\n",
       "  </tbody>\n",
       "</table>\n",
       "</div>"
      ],
      "text/plain": [
       "   Height  Weight  Shoe size Gender\n",
       "0     180    79.0         42      M\n",
       "1     165    65.0         41      M\n",
       "2     178    72.0         42      M\n",
       "3     160    53.0         43      M\n",
       "4     182    78.0         36      M"
      ]
     },
     "execution_count": 21,
     "metadata": {},
     "output_type": "execute_result"
    }
   ],
   "source": [
    "fp = os.getcwd()\n",
    "fn = \"/height_shoe.csv\"\n",
    "data = pd.read_csv(fp + fn).rename(columns={\"Hight\": \"Height\"})\n",
    "data.head()"
   ]
  },
  {
   "cell_type": "code",
   "execution_count": 134,
   "id": "3854142b-8d38-4109-8182-ab5c829700bd",
   "metadata": {},
   "outputs": [
    {
     "data": {
      "text/html": [
       "<div>\n",
       "<style scoped>\n",
       "    .dataframe tbody tr th:only-of-type {\n",
       "        vertical-align: middle;\n",
       "    }\n",
       "\n",
       "    .dataframe tbody tr th {\n",
       "        vertical-align: top;\n",
       "    }\n",
       "\n",
       "    .dataframe thead th {\n",
       "        text-align: right;\n",
       "    }\n",
       "</style>\n",
       "<table border=\"1\" class=\"dataframe\">\n",
       "  <thead>\n",
       "    <tr style=\"text-align: right;\">\n",
       "      <th></th>\n",
       "      <th>Height</th>\n",
       "      <th>Weight</th>\n",
       "      <th>Shoe size</th>\n",
       "      <th>Gender</th>\n",
       "      <th>h_norm</th>\n",
       "      <th>s_norm</th>\n",
       "      <th>g_binary</th>\n",
       "      <th>w_norm</th>\n",
       "    </tr>\n",
       "  </thead>\n",
       "  <tbody>\n",
       "    <tr>\n",
       "      <th>0</th>\n",
       "      <td>180</td>\n",
       "      <td>79.0</td>\n",
       "      <td>42</td>\n",
       "      <td>M</td>\n",
       "      <td>1.038040</td>\n",
       "      <td>1.030849</td>\n",
       "      <td>0</td>\n",
       "      <td>0.823885</td>\n",
       "    </tr>\n",
       "    <tr>\n",
       "      <th>1</th>\n",
       "      <td>165</td>\n",
       "      <td>65.0</td>\n",
       "      <td>41</td>\n",
       "      <td>M</td>\n",
       "      <td>0.951537</td>\n",
       "      <td>1.006305</td>\n",
       "      <td>0</td>\n",
       "      <td>0.677880</td>\n",
       "    </tr>\n",
       "    <tr>\n",
       "      <th>2</th>\n",
       "      <td>178</td>\n",
       "      <td>72.0</td>\n",
       "      <td>42</td>\n",
       "      <td>M</td>\n",
       "      <td>1.026507</td>\n",
       "      <td>1.030849</td>\n",
       "      <td>0</td>\n",
       "      <td>0.750883</td>\n",
       "    </tr>\n",
       "    <tr>\n",
       "      <th>3</th>\n",
       "      <td>160</td>\n",
       "      <td>53.0</td>\n",
       "      <td>43</td>\n",
       "      <td>M</td>\n",
       "      <td>0.922703</td>\n",
       "      <td>1.055393</td>\n",
       "      <td>0</td>\n",
       "      <td>0.552733</td>\n",
       "    </tr>\n",
       "    <tr>\n",
       "      <th>4</th>\n",
       "      <td>182</td>\n",
       "      <td>78.0</td>\n",
       "      <td>36</td>\n",
       "      <td>M</td>\n",
       "      <td>1.049574</td>\n",
       "      <td>0.883585</td>\n",
       "      <td>0</td>\n",
       "      <td>0.813456</td>\n",
       "    </tr>\n",
       "    <tr>\n",
       "      <th>...</th>\n",
       "      <td>...</td>\n",
       "      <td>...</td>\n",
       "      <td>...</td>\n",
       "      <td>...</td>\n",
       "      <td>...</td>\n",
       "      <td>...</td>\n",
       "      <td>...</td>\n",
       "      <td>...</td>\n",
       "    </tr>\n",
       "    <tr>\n",
       "      <th>104</th>\n",
       "      <td>166</td>\n",
       "      <td>140.0</td>\n",
       "      <td>41</td>\n",
       "      <td>F</td>\n",
       "      <td>0.957304</td>\n",
       "      <td>1.006305</td>\n",
       "      <td>1</td>\n",
       "      <td>1.460050</td>\n",
       "    </tr>\n",
       "    <tr>\n",
       "      <th>105</th>\n",
       "      <td>190</td>\n",
       "      <td>105.0</td>\n",
       "      <td>42</td>\n",
       "      <td>F</td>\n",
       "      <td>1.095709</td>\n",
       "      <td>1.030849</td>\n",
       "      <td>1</td>\n",
       "      <td>1.095037</td>\n",
       "    </tr>\n",
       "    <tr>\n",
       "      <th>106</th>\n",
       "      <td>186</td>\n",
       "      <td>118.0</td>\n",
       "      <td>43</td>\n",
       "      <td>M</td>\n",
       "      <td>1.072642</td>\n",
       "      <td>1.055393</td>\n",
       "      <td>0</td>\n",
       "      <td>1.230613</td>\n",
       "    </tr>\n",
       "    <tr>\n",
       "      <th>107</th>\n",
       "      <td>168</td>\n",
       "      <td>123.0</td>\n",
       "      <td>42</td>\n",
       "      <td>M</td>\n",
       "      <td>0.968838</td>\n",
       "      <td>1.030849</td>\n",
       "      <td>0</td>\n",
       "      <td>1.282758</td>\n",
       "    </tr>\n",
       "    <tr>\n",
       "      <th>108</th>\n",
       "      <td>183</td>\n",
       "      <td>96.0</td>\n",
       "      <td>40</td>\n",
       "      <td>F</td>\n",
       "      <td>1.055341</td>\n",
       "      <td>0.981761</td>\n",
       "      <td>1</td>\n",
       "      <td>1.001177</td>\n",
       "    </tr>\n",
       "  </tbody>\n",
       "</table>\n",
       "<p>109 rows × 8 columns</p>\n",
       "</div>"
      ],
      "text/plain": [
       "     Height  Weight  Shoe size Gender    h_norm    s_norm  g_binary    w_norm\n",
       "0       180    79.0         42      M  1.038040  1.030849         0  0.823885\n",
       "1       165    65.0         41      M  0.951537  1.006305         0  0.677880\n",
       "2       178    72.0         42      M  1.026507  1.030849         0  0.750883\n",
       "3       160    53.0         43      M  0.922703  1.055393         0  0.552733\n",
       "4       182    78.0         36      M  1.049574  0.883585         0  0.813456\n",
       "..      ...     ...        ...    ...       ...       ...       ...       ...\n",
       "104     166   140.0         41      F  0.957304  1.006305         1  1.460050\n",
       "105     190   105.0         42      F  1.095709  1.030849         1  1.095037\n",
       "106     186   118.0         43      M  1.072642  1.055393         0  1.230613\n",
       "107     168   123.0         42      M  0.968838  1.030849         0  1.282758\n",
       "108     183    96.0         40      F  1.055341  0.981761         1  1.001177\n",
       "\n",
       "[109 rows x 8 columns]"
      ]
     },
     "execution_count": 134,
     "metadata": {},
     "output_type": "execute_result"
    }
   ],
   "source": [
    "h_mean = np.mean(data['Height'])\n",
    "s_mean = np.mean(data['Shoe size'])\n",
    "w_mean = np.mean(data['Weight'])\n",
    "data['h_norm'] = data['Height'] / h_mean\n",
    "data['s_norm'] = data['Shoe size'] / s_mean\n",
    "data['w_norm'] = data['Weight'] / w_mean\n",
    "data['g_binary'] = (data['Gender'] == 'F').astype('int')\n",
    "data"
   ]
  },
  {
   "cell_type": "code",
   "execution_count": 135,
   "id": "b065ca39-dbd8-470b-8b2b-9a0927766642",
   "metadata": {
    "scrolled": true
   },
   "outputs": [],
   "source": [
    "n = len(heights)\n",
    "heights = torch.FloatTensor(data[\"Height\"]).view(-1, 1)\n",
    "sizes = torch.FloatTensor(data[\"Shoe size\"]).view(-1, 1)"
   ]
  },
  {
   "cell_type": "code",
   "execution_count": null,
   "id": "1ededda9-ed6f-439d-9be1-2246763407aa",
   "metadata": {},
   "outputs": [],
   "source": []
  },
  {
   "cell_type": "code",
   "execution_count": 111,
   "id": "40cb29fa-af11-41da-bb7c-bfbae2374844",
   "metadata": {},
   "outputs": [
    {
     "data": {
      "image/png": "[encoded data removed]",
      "text/plain": [
       "<Figure size 640x480 with 1 Axes>"
      ]
     },
     "metadata": {},
     "output_type": "display_data"
    }
   ],
   "source": [
    "plt.scatter(heights, sizes);\n",
    "plt.xlabel(\"Height (cm)\");\n",
    "plt.ylabel(\"Shoe size\");"
   ]
  },
  {
   "cell_type": "code",
   "execution_count": 113,
   "id": "bc7cf2c4-be5f-43fd-9e84-2b6ead98d6bf",
   "metadata": {},
   "outputs": [],
   "source": [
    "class Simple_Neural_Net(nn.Module):\n",
    "    def __init__(self):\n",
    "        super().__init__()\n",
    "        self.Dense1 = nn.Linear(1, 30)\n",
    "        self.Dense2 = nn.Linear(30, 30)\n",
    "        self.Dense3 = nn.Linear(30, 1)\n",
    "\n",
    "        self.relu = nn.ReLU()\n",
    "\n",
    "    def forward(self, x):\n",
    "        # This method is automatically executed when\n",
    "        # we call a object of this class\n",
    "        x = self.Dense1(x)\n",
    "        x = self.relu(x)\n",
    "        x = self.Dense2(x)\n",
    "        x = self.relu(x)\n",
    "        x = self.Dense3(x)\n",
    "\n",
    "        return x"
   ]
  },
  {
   "cell_type": "code",
   "execution_count": 114,
   "id": "b642bc15-c162-4111-a91d-0b118b2a74c6",
   "metadata": {},
   "outputs": [],
   "source": [
    "neural_net = Simple_Neural_Net()"
   ]
  },
  {
   "cell_type": "code",
   "execution_count": 115,
   "id": "a2ff08dc-f1cb-4061-88b8-9460c2a45b8d",
   "metadata": {},
   "outputs": [
    {
     "name": "stdout",
     "output_type": "stream",
     "text": [
      "The output of the random input 98.9630 from untrained network is: 10.0337\n"
     ]
    }
   ],
   "source": [
    "net_input = torch.randn(1, 1) + 100\n",
    "out = neural_net(net_input)\n",
    "print(\n",
    "    f\"The output of the random input {net_input.item():.4f} from untrained network is: {out.item():.4f}\"\n",
    ")"
   ]
  },
  {
   "cell_type": "code",
   "execution_count": 116,
   "id": "91d9b14a-637d-4b76-9ac5-f54749d56095",
   "metadata": {},
   "outputs": [],
   "source": [
    "# Here we use the Adam optimizer.\n",
    "learning_rate = 0.005\n",
    "optimizer = torch.optim.Adam(neural_net.parameters())"
   ]
  },
  {
   "cell_type": "code",
   "execution_count": 117,
   "id": "7b052a27-4a35-47ee-8d8e-ff6fecac08a5",
   "metadata": {},
   "outputs": [],
   "source": [
    "# MSE loss function\n",
    "loss_fn = torch.nn.MSELoss()"
   ]
  },
  {
   "cell_type": "code",
   "execution_count": 118,
   "id": "32263d77-7a18-4591-8d0b-7d3a1618a99c",
   "metadata": {},
   "outputs": [],
   "source": [
    "def train_step(model, loss_fn, optimizer):\n",
    "    # Set the model to training mode - important for batch normalization and dropout layers\n",
    "    # Unnecessary in this situation but added for best practices\n",
    "\n",
    "    pred = model(heights)\n",
    "    loss = loss_fn(pred, sizes)\n",
    "\n",
    "    # Backpropagation\n",
    "    loss.backward()\n",
    "    optimizer.step()\n",
    "    optimizer.zero_grad()\n",
    "\n",
    "    loss = loss.item()\n",
    "    return loss"
   ]
  },
  {
   "cell_type": "code",
   "execution_count": 119,
   "id": "5fcc8b2a-8175-41fe-afe1-852cc654e4db",
   "metadata": {},
   "outputs": [
    {
     "name": "stdout",
     "output_type": "stream",
     "text": [
      "Loss at Epoch 1 is  550.7774047851562\n",
      "Loss at Epoch 201 is  8.41129207611084\n",
      "Loss at Epoch 401 is  8.391043663024902\n",
      "Loss at Epoch 601 is  8.363556861877441\n",
      "Loss at Epoch 801 is  8.329376220703125\n"
     ]
    }
   ],
   "source": [
    "epochs = 1000\n",
    "Loss = np.zeros(epochs)\n",
    "for t in range(epochs):\n",
    "    Loss[t] = train_step(neural_net, loss_fn, optimizer)\n",
    "    if np.mod(t, 200) == 0:\n",
    "        print(f\"Loss at Epoch {t+1} is \", Loss[t])"
   ]
  },
  {
   "cell_type": "code",
   "execution_count": 120,
   "id": "8f6c4c2c-2f2a-4a47-8113-991b19191915",
   "metadata": {},
   "outputs": [
    {
     "data": {
      "image/png": "[encoded data removed]",
      "text/plain": [
       "<Figure size 960x720 with 1 Axes>"
      ]
     },
     "metadata": {},
     "output_type": "display_data"
    }
   ],
   "source": [
    "plt.figure(dpi=150)\n",
    "plt.plot(Loss)\n",
    "plt.xlabel(\"Iteration\")\n",
    "plt.ylabel(\"Loss\")\n",
    "plt.yscale(\"log\")\n",
    "plt.title(\"Loss vs Iteration\")\n",
    "plt.show();"
   ]
  },
  {
   "cell_type": "code",
   "execution_count": 121,
   "id": "c26feb4d-ba8b-4d3e-9bfa-d1ea1bf06f13",
   "metadata": {},
   "outputs": [],
   "source": [
    "x_test = torch.linspace(130, 200, 501).reshape(501, 1)\n",
    "pred = neural_net(x_test).detach().numpy()"
   ]
  },
  {
   "cell_type": "code",
   "execution_count": 122,
   "id": "bc05d962-0a36-4e27-bf06-4a48db95544e",
   "metadata": {},
   "outputs": [
    {
     "data": {
      "text/plain": [
       "<matplotlib.legend.Legend at 0x2926462e0>"
      ]
     },
     "execution_count": 122,
     "metadata": {},
     "output_type": "execute_result"
    },
    {
     "data": {
      "image/png": "[encoded data removed]",
      "text/plain": [
       "<Figure size 640x480 with 1 Axes>"
      ]
     },
     "metadata": {},
     "output_type": "display_data"
    }
   ],
   "source": [
    "plt.plot(heights, sizes, \".\", label=\"Data\")\n",
    "plt.plot(x_test, pred, markersize=0.5, label=\"Predicted fit\")\n",
    "\n",
    "plt.legend()"
   ]
  },
  {
   "cell_type": "code",
   "execution_count": null,
   "id": "10d16163-7c5a-43a9-a8da-3e4168978c3b",
   "metadata": {},
   "outputs": [],
   "source": []
  }
 ],
 "metadata": {
  "kernelspec": {
   "display_name": "Python 3 (ipykernel)",
   "language": "python",
   "name": "python3"
  },
  "language_info": {
   "codemirror_mode": {
    "name": "ipython",
    "version": 3
   },
   "file_extension": ".py",
   "mimetype": "text/x-python",
   "name": "python",
   "nbconvert_exporter": "python",
   "pygments_lexer": "ipython3",
   "version": "3.9.19"
  }
 },
 "nbformat": 4,
 "nbformat_minor": 5
}
