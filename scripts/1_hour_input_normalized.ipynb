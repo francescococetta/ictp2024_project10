{
  "cells": [
    {
      "cell_type": "code",
      "execution_count": 1,
      "metadata": {
        "colab": {
          "base_uri": "https://localhost:8080/"
        },
        "id": "xPiwhFVAwDBk",
        "outputId": "22558410-ff9c-4d8b-e930-2666f0a49be5"
      },
      "outputs": [
        {
          "output_type": "stream",
          "name": "stdout",
          "text": [
            "Mounted at /content/drive/\n"
          ]
        }
      ],
      "source": [
        "# Import machine-learning packages\n",
        "import torch\n",
        "from torch import nn\n",
        "\n",
        "# Import plotting packages\n",
        "from IPython.display import Image, HTML\n",
        "from matplotlib.animation import FuncAnimation\n",
        "import matplotlib.pyplot as plt\n",
        "import time\n",
        "import base64\n",
        "import numpy as np\n",
        "import random\n",
        "\n",
        "%matplotlib inline\n",
        "import xarray as xr\n",
        "from google.colab import drive\n",
        "drive.mount(\"/content/drive/\", force_remount=True)\n",
        "from google.colab import auth\n",
        "auth.authenticate_user()\n",
        "import requests\n",
        "gcloud_token = !gcloud auth print-access-token\n",
        "gcloud_tokeninfo = requests.get('https://www.googleapis.com/oauth2/v3/tokeninfo?access_token=' + gcloud_token[0]).json()"
      ]
    },
    {
      "cell_type": "markdown",
      "metadata": {
        "id": "k5DqaUTwwDBq"
      },
      "source": [
        "# Creating Data-Sets"
      ]
    },
    {
      "cell_type": "code",
      "source": [
        "import glob\n",
        "\n",
        "flist = glob.glob(\"/content/drive/MyDrive/ictp2024_icepack_project/training/*.20*0101.nc\")\n",
        "print(flist)"
      ],
      "metadata": {
        "colab": {
          "base_uri": "https://localhost:8080/"
        },
        "id": "Ux4cV6cIwmp5",
        "outputId": "d66beed0-45a3-4c0c-8217-9db4a4749f3d"
      },
      "execution_count": 2,
      "outputs": [
        {
          "output_type": "stream",
          "name": "stdout",
          "text": [
            "['/content/drive/MyDrive/ictp2024_icepack_project/training/Antarctica.sit2.20090101.nc', '/content/drive/MyDrive/ictp2024_icepack_project/training/Arctic.sit2.20090101.nc', '/content/drive/MyDrive/ictp2024_icepack_project/training/Arctic.sit2.20110101.nc', '/content/drive/MyDrive/ictp2024_icepack_project/training/Arctic.sit2.20120101.nc', '/content/drive/MyDrive/ictp2024_icepack_project/training/Arctic.sit1.20120101.nc', '/content/drive/MyDrive/ictp2024_icepack_project/training/Arctic.sit1.20110101.nc', '/content/drive/MyDrive/ictp2024_icepack_project/training/Arctic.sit1.20090101.nc', '/content/drive/MyDrive/ictp2024_icepack_project/training/Antarctica.sit1.20090101.nc', '/content/drive/MyDrive/ictp2024_icepack_project/training/Antarctica.1it.20090101.nc', '/content/drive/MyDrive/ictp2024_icepack_project/training/Antarctica.2it.20090101.nc', '/content/drive/MyDrive/ictp2024_icepack_project/training/Antarctica.0it.20090101.nc', '/content/drive/MyDrive/ictp2024_icepack_project/training/Arctic.1it.20090101.nc', '/content/drive/MyDrive/ictp2024_icepack_project/training/Arctic.1it.20110101.nc', '/content/drive/MyDrive/ictp2024_icepack_project/training/Arctic.1it.20120101.nc', '/content/drive/MyDrive/ictp2024_icepack_project/training/Arctic.2it.20090101.nc', '/content/drive/MyDrive/ictp2024_icepack_project/training/Arctic.2it.20110101.nc', '/content/drive/MyDrive/ictp2024_icepack_project/training/Arctic.2it.20120101.nc', '/content/drive/MyDrive/ictp2024_icepack_project/training/Arctic.0it.20090101.nc', '/content/drive/MyDrive/ictp2024_icepack_project/training/Arctic.0it.20110101.nc']\n"
          ]
        }
      ]
    },
    {
      "cell_type": "code",
      "source": [
        "import pandas as pd\n",
        "\n",
        "datasets = []\n",
        "i_init = 1\n",
        "\n",
        "for file_path in flist:\n",
        "    ds = xr.open_dataset(file_path, decode_times=False)\n",
        "    time = ds['time']\n",
        "    time_values = pd.to_datetime(time.values)\n",
        "    new_time_values = [i for i in np.arange(i_init, len(time)+i_init)]\n",
        "    new_time = xr.DataArray(new_time_values, dims='time', coords={'time': new_time_values})\n",
        "    ds = ds.assign_coords(time=new_time)\n",
        "    datasets.append(ds)\n",
        "    i_init += len(time)\n",
        "\n",
        "combined_ds = xr.concat(datasets, dim='time')\n",
        "\n",
        "# Close all datasets\n",
        "for ds in datasets:\n",
        "    ds.close()\n",
        "combined_ds.close()"
      ],
      "metadata": {
        "id": "YfcGEO0c7LKJ"
      },
      "execution_count": 3,
      "outputs": []
    },
    {
      "cell_type": "code",
      "source": [
        "combined_ds"
      ],
      "metadata": {
        "colab": {
          "base_uri": "https://localhost:8080/",
          "height": 270
        },
        "id": "yja-lttE8ZOW",
        "outputId": "4939ee64-249a-4495-fd0c-17fc5a5da749"
      },
      "execution_count": 4,
      "outputs": [
        {
          "output_type": "execute_result",
          "data": {
            "text/plain": [
              "<xarray.Dataset> Size: 925MB\n",
              "Dimensions:   (time: 166440, ni: 4, ncat: 5, ntrcr: 21)\n",
              "Coordinates:\n",
              "  * ni        (ni) int32 16B 1 2 3 4\n",
              "  * ncat      (ncat) int32 20B 1 2 3 4 5\n",
              "  * ntrcr     (ntrcr) int32 84B 1 2 3 4 5 6 7 8 9 ... 13 14 15 16 17 18 19 20 21\n",
              "  * time      (time) int64 1MB 1 2 3 4 5 ... 166436 166437 166438 166439 166440\n",
              "Data variables: (12/39)\n",
              "    timestep  (time) int32 666kB 1 2 3 4 5 6 7 ... 8755 8756 8757 8758 8759 8760\n",
              "    date      (time) float64 1MB 2.015e+07 2.015e+07 ... 2.015e+07 2.016e+07\n",
              "    aice      (time, ni) float64 5MB 0.0 0.9999 0.9999 0.0 ... 0.9999 0.9999 0.0\n",
              "    vice      (time, ni) float64 5MB 0.0 2.001 1.795 0.0 ... 0.9966 0.9658 0.0\n",
              "    vsno      (time, ni) float64 5MB 0.0 0.0 0.2175 0.0 ... 0.0954 0.1068 0.0\n",
              "    uvel      (time, ni) float64 5MB 0.0 0.0 0.0 0.0 0.0 ... 0.0 0.0 0.0 0.0 0.0\n",
              "    ...        ...\n",
              "    fhocn     (time, ni) float64 5MB 0.0 -6.829 -12.6 0.0 ... -3.198 -3.137 0.0\n",
              "    aicen     (time, ncat, ni) float64 27MB 0.0 0.0 0.09942 ... 0.004224 0.0\n",
              "    vicen     (time, ncat, ni) float64 27MB 0.0 0.0 0.03011 ... 0.02483 0.0\n",
              "    vsnon     (time, ncat, ni) float64 27MB 0.0 0.0 0.005966 ... 0.001064 0.0\n",
              "    trcr      (time, ntrcr, ni) float64 112MB -1.905 -7.001 -8.812 ... 0.0 0.0\n",
              "    trcrn     (time, ncat, ntrcr, ni) float64 559MB -1.905 -1.905 ... 0.0 0.0"
            ],
            "text/html": [
              "<div><svg style=\"position: absolute; width: 0; height: 0; overflow: hidden\">\n",
              "<defs>\n",
              "<symbol id=\"icon-database\" viewBox=\"0 0 32 32\">\n",
              "<path d=\"M16 0c-8.837 0-16 2.239-16 5v4c0 2.761 7.163 5 16 5s16-2.239 16-5v-4c0-2.761-7.163-5-16-5z\"></path>\n",
              "<path d=\"M16 17c-8.837 0-16-2.239-16-5v6c0 2.761 7.163 5 16 5s16-2.239 16-5v-6c0 2.761-7.163 5-16 5z\"></path>\n",
              "<path d=\"M16 26c-8.837 0-16-2.239-16-5v6c0 2.761 7.163 5 16 5s16-2.239 16-5v-6c0 2.761-7.163 5-16 5z\"></path>\n",
              "</symbol>\n",
              "<symbol id=\"icon-file-text2\" viewBox=\"0 0 32 32\">\n",
              "<path d=\"M28.681 7.159c-0.694-0.947-1.662-2.053-2.724-3.116s-2.169-2.030-3.116-2.724c-1.612-1.182-2.393-1.319-2.841-1.319h-15.5c-1.378 0-2.5 1.121-2.5 2.5v27c0 1.378 1.122 2.5 2.5 2.5h23c1.378 0 2.5-1.122 2.5-2.5v-19.5c0-0.448-0.137-1.23-1.319-2.841zM24.543 5.457c0.959 0.959 1.712 1.825 2.268 2.543h-4.811v-4.811c0.718 0.556 1.584 1.309 2.543 2.268zM28 29.5c0 0.271-0.229 0.5-0.5 0.5h-23c-0.271 0-0.5-0.229-0.5-0.5v-27c0-0.271 0.229-0.5 0.5-0.5 0 0 15.499-0 15.5 0v7c0 0.552 0.448 1 1 1h7v19.5z\"></path>\n",
              "<path d=\"M23 26h-14c-0.552 0-1-0.448-1-1s0.448-1 1-1h14c0.552 0 1 0.448 1 1s-0.448 1-1 1z\"></path>\n",
              "<path d=\"M23 22h-14c-0.552 0-1-0.448-1-1s0.448-1 1-1h14c0.552 0 1 0.448 1 1s-0.448 1-1 1z\"></path>\n",
              "<path d=\"M23 18h-14c-0.552 0-1-0.448-1-1s0.448-1 1-1h14c0.552 0 1 0.448 1 1s-0.448 1-1 1z\"></path>\n",
              "</symbol>\n",
              "</defs>\n",
              "</svg>\n",
              "<style>/* CSS stylesheet for displaying xarray objects in jupyterlab.\n",
              " *\n",
              " */\n",
              "\n",
              ":root {\n",
              "  --xr-font-color0: var(--jp-content-font-color0, rgba(0, 0, 0, 1));\n",
              "  --xr-font-color2: var(--jp-content-font-color2, rgba(0, 0, 0, 0.54));\n",
              "  --xr-font-color3: var(--jp-content-font-color3, rgba(0, 0, 0, 0.38));\n",
              "  --xr-border-color: var(--jp-border-color2, #e0e0e0);\n",
              "  --xr-disabled-color: var(--jp-layout-color3, #bdbdbd);\n",
              "  --xr-background-color: var(--jp-layout-color0, white);\n",
              "  --xr-background-color-row-even: var(--jp-layout-color1, white);\n",
              "  --xr-background-color-row-odd: var(--jp-layout-color2, #eeeeee);\n",
              "}\n",
              "\n",
              "html[theme=dark],\n",
              "body[data-theme=dark],\n",
              "body.vscode-dark {\n",
              "  --xr-font-color0: rgba(255, 255, 255, 1);\n",
              "  --xr-font-color2: rgba(255, 255, 255, 0.54);\n",
              "  --xr-font-color3: rgba(255, 255, 255, 0.38);\n",
              "  --xr-border-color: #1F1F1F;\n",
              "  --xr-disabled-color: #515151;\n",
              "  --xr-background-color: #111111;\n",
              "  --xr-background-color-row-even: #111111;\n",
              "  --xr-background-color-row-odd: #313131;\n",
              "}\n",
              "\n",
              ".xr-wrap {\n",
              "  display: block !important;\n",
              "  min-width: 300px;\n",
              "  max-width: 700px;\n",
              "}\n",
              "\n",
              ".xr-text-repr-fallback {\n",
              "  /* fallback to plain text repr when CSS is not injected (untrusted notebook) */\n",
              "  display: none;\n",
              "}\n",
              "\n",
              ".xr-header {\n",
              "  padding-top: 6px;\n",
              "  padding-bottom: 6px;\n",
              "  margin-bottom: 4px;\n",
              "  border-bottom: solid 1px var(--xr-border-color);\n",
              "}\n",
              "\n",
              ".xr-header > div,\n",
              ".xr-header > ul {\n",
              "  display: inline;\n",
              "  margin-top: 0;\n",
              "  margin-bottom: 0;\n",
              "}\n",
              "\n",
              ".xr-obj-type,\n",
              ".xr-array-name {\n",
              "  margin-left: 2px;\n",
              "  margin-right: 10px;\n",
              "}\n",
              "\n",
              ".xr-obj-type {\n",
              "  color: var(--xr-font-color2);\n",
              "}\n",
              "\n",
              ".xr-sections {\n",
              "  padding-left: 0 !important;\n",
              "  display: grid;\n",
              "  grid-template-columns: 150px auto auto 1fr 20px 20px;\n",
              "}\n",
              "\n",
              ".xr-section-item {\n",
              "  display: contents;\n",
              "}\n",
              "\n",
              ".xr-section-item input {\n",
              "  display: none;\n",
              "}\n",
              "\n",
              ".xr-section-item input + label {\n",
              "  color: var(--xr-disabled-color);\n",
              "}\n",
              "\n",
              ".xr-section-item input:enabled + label {\n",
              "  cursor: pointer;\n",
              "  color: var(--xr-font-color2);\n",
              "}\n",
              "\n",
              ".xr-section-item input:enabled + label:hover {\n",
              "  color: var(--xr-font-color0);\n",
              "}\n",
              "\n",
              ".xr-section-summary {\n",
              "  grid-column: 1;\n",
              "  color: var(--xr-font-color2);\n",
              "  font-weight: 500;\n",
              "}\n",
              "\n",
              ".xr-section-summary > span {\n",
              "  display: inline-block;\n",
              "  padding-left: 0.5em;\n",
              "}\n",
              "\n",
              ".xr-section-summary-in:disabled + label {\n",
              "  color: var(--xr-font-color2);\n",
              "}\n",
              "\n",
              ".xr-section-summary-in + label:before {\n",
              "  display: inline-block;\n",
              "  content: '►';\n",
              "  font-size: 11px;\n",
              "  width: 15px;\n",
              "  text-align: center;\n",
              "}\n",
              "\n",
              ".xr-section-summary-in:disabled + label:before {\n",
              "  color: var(--xr-disabled-color);\n",
              "}\n",
              "\n",
              ".xr-section-summary-in:checked + label:before {\n",
              "  content: '▼';\n",
              "}\n",
              "\n",
              ".xr-section-summary-in:checked + label > span {\n",
              "  display: none;\n",
              "}\n",
              "\n",
              ".xr-section-summary,\n",
              ".xr-section-inline-details {\n",
              "  padding-top: 4px;\n",
              "  padding-bottom: 4px;\n",
              "}\n",
              "\n",
              ".xr-section-inline-details {\n",
              "  grid-column: 2 / -1;\n",
              "}\n",
              "\n",
              ".xr-section-details {\n",
              "  display: none;\n",
              "  grid-column: 1 / -1;\n",
              "  margin-bottom: 5px;\n",
              "}\n",
              "\n",
              ".xr-section-summary-in:checked ~ .xr-section-details {\n",
              "  display: contents;\n",
              "}\n",
              "\n",
              ".xr-array-wrap {\n",
              "  grid-column: 1 / -1;\n",
              "  display: grid;\n",
              "  grid-template-columns: 20px auto;\n",
              "}\n",
              "\n",
              ".xr-array-wrap > label {\n",
              "  grid-column: 1;\n",
              "  vertical-align: top;\n",
              "}\n",
              "\n",
              ".xr-preview {\n",
              "  color: var(--xr-font-color3);\n",
              "}\n",
              "\n",
              ".xr-array-preview,\n",
              ".xr-array-data {\n",
              "  padding: 0 5px !important;\n",
              "  grid-column: 2;\n",
              "}\n",
              "\n",
              ".xr-array-data,\n",
              ".xr-array-in:checked ~ .xr-array-preview {\n",
              "  display: none;\n",
              "}\n",
              "\n",
              ".xr-array-in:checked ~ .xr-array-data,\n",
              ".xr-array-preview {\n",
              "  display: inline-block;\n",
              "}\n",
              "\n",
              ".xr-dim-list {\n",
              "  display: inline-block !important;\n",
              "  list-style: none;\n",
              "  padding: 0 !important;\n",
              "  margin: 0;\n",
              "}\n",
              "\n",
              ".xr-dim-list li {\n",
              "  display: inline-block;\n",
              "  padding: 0;\n",
              "  margin: 0;\n",
              "}\n",
              "\n",
              ".xr-dim-list:before {\n",
              "  content: '(';\n",
              "}\n",
              "\n",
              ".xr-dim-list:after {\n",
              "  content: ')';\n",
              "}\n",
              "\n",
              ".xr-dim-list li:not(:last-child):after {\n",
              "  content: ',';\n",
              "  padding-right: 5px;\n",
              "}\n",
              "\n",
              ".xr-has-index {\n",
              "  font-weight: bold;\n",
              "}\n",
              "\n",
              ".xr-var-list,\n",
              ".xr-var-item {\n",
              "  display: contents;\n",
              "}\n",
              "\n",
              ".xr-var-item > div,\n",
              ".xr-var-item label,\n",
              ".xr-var-item > .xr-var-name span {\n",
              "  background-color: var(--xr-background-color-row-even);\n",
              "  margin-bottom: 0;\n",
              "}\n",
              "\n",
              ".xr-var-item > .xr-var-name:hover span {\n",
              "  padding-right: 5px;\n",
              "}\n",
              "\n",
              ".xr-var-list > li:nth-child(odd) > div,\n",
              ".xr-var-list > li:nth-child(odd) > label,\n",
              ".xr-var-list > li:nth-child(odd) > .xr-var-name span {\n",
              "  background-color: var(--xr-background-color-row-odd);\n",
              "}\n",
              "\n",
              ".xr-var-name {\n",
              "  grid-column: 1;\n",
              "}\n",
              "\n",
              ".xr-var-dims {\n",
              "  grid-column: 2;\n",
              "}\n",
              "\n",
              ".xr-var-dtype {\n",
              "  grid-column: 3;\n",
              "  text-align: right;\n",
              "  color: var(--xr-font-color2);\n",
              "}\n",
              "\n",
              ".xr-var-preview {\n",
              "  grid-column: 4;\n",
              "}\n",
              "\n",
              ".xr-index-preview {\n",
              "  grid-column: 2 / 5;\n",
              "  color: var(--xr-font-color2);\n",
              "}\n",
              "\n",
              ".xr-var-name,\n",
              ".xr-var-dims,\n",
              ".xr-var-dtype,\n",
              ".xr-preview,\n",
              ".xr-attrs dt {\n",
              "  white-space: nowrap;\n",
              "  overflow: hidden;\n",
              "  text-overflow: ellipsis;\n",
              "  padding-right: 10px;\n",
              "}\n",
              "\n",
              ".xr-var-name:hover,\n",
              ".xr-var-dims:hover,\n",
              ".xr-var-dtype:hover,\n",
              ".xr-attrs dt:hover {\n",
              "  overflow: visible;\n",
              "  width: auto;\n",
              "  z-index: 1;\n",
              "}\n",
              "\n",
              ".xr-var-attrs,\n",
              ".xr-var-data,\n",
              ".xr-index-data {\n",
              "  display: none;\n",
              "  background-color: var(--xr-background-color) !important;\n",
              "  padding-bottom: 5px !important;\n",
              "}\n",
              "\n",
              ".xr-var-attrs-in:checked ~ .xr-var-attrs,\n",
              ".xr-var-data-in:checked ~ .xr-var-data,\n",
              ".xr-index-data-in:checked ~ .xr-index-data {\n",
              "  display: block;\n",
              "}\n",
              "\n",
              ".xr-var-data > table {\n",
              "  float: right;\n",
              "}\n",
              "\n",
              ".xr-var-name span,\n",
              ".xr-var-data,\n",
              ".xr-index-name div,\n",
              ".xr-index-data,\n",
              ".xr-attrs {\n",
              "  padding-left: 25px !important;\n",
              "}\n",
              "\n",
              ".xr-attrs,\n",
              ".xr-var-attrs,\n",
              ".xr-var-data,\n",
              ".xr-index-data {\n",
              "  grid-column: 1 / -1;\n",
              "}\n",
              "\n",
              "dl.xr-attrs {\n",
              "  padding: 0;\n",
              "  margin: 0;\n",
              "  display: grid;\n",
              "  grid-template-columns: 125px auto;\n",
              "}\n",
              "\n",
              ".xr-attrs dt,\n",
              ".xr-attrs dd {\n",
              "  padding: 0;\n",
              "  margin: 0;\n",
              "  float: left;\n",
              "  padding-right: 10px;\n",
              "  width: auto;\n",
              "}\n",
              "\n",
              ".xr-attrs dt {\n",
              "  font-weight: normal;\n",
              "  grid-column: 1;\n",
              "}\n",
              "\n",
              ".xr-attrs dt:hover span {\n",
              "  display: inline-block;\n",
              "  background: var(--xr-background-color);\n",
              "  padding-right: 10px;\n",
              "}\n",
              "\n",
              ".xr-attrs dd {\n",
              "  grid-column: 2;\n",
              "  white-space: pre-wrap;\n",
              "  word-break: break-all;\n",
              "}\n",
              "\n",
              ".xr-icon-database,\n",
              ".xr-icon-file-text2,\n",
              ".xr-no-icon {\n",
              "  display: inline-block;\n",
              "  vertical-align: middle;\n",
              "  width: 1em;\n",
              "  height: 1.5em !important;\n",
              "  stroke-width: 0;\n",
              "  stroke: currentColor;\n",
              "  fill: currentColor;\n",
              "}\n",
              "</style><pre class='xr-text-repr-fallback'>&lt;xarray.Dataset&gt; Size: 925MB\n",
              "Dimensions:   (time: 166440, ni: 4, ncat: 5, ntrcr: 21)\n",
              "Coordinates:\n",
              "  * ni        (ni) int32 16B 1 2 3 4\n",
              "  * ncat      (ncat) int32 20B 1 2 3 4 5\n",
              "  * ntrcr     (ntrcr) int32 84B 1 2 3 4 5 6 7 8 9 ... 13 14 15 16 17 18 19 20 21\n",
              "  * time      (time) int64 1MB 1 2 3 4 5 ... 166436 166437 166438 166439 166440\n",
              "Data variables: (12/39)\n",
              "    timestep  (time) int32 666kB 1 2 3 4 5 6 7 ... 8755 8756 8757 8758 8759 8760\n",
              "    date      (time) float64 1MB 2.015e+07 2.015e+07 ... 2.015e+07 2.016e+07\n",
              "    aice      (time, ni) float64 5MB 0.0 0.9999 0.9999 0.0 ... 0.9999 0.9999 0.0\n",
              "    vice      (time, ni) float64 5MB 0.0 2.001 1.795 0.0 ... 0.9966 0.9658 0.0\n",
              "    vsno      (time, ni) float64 5MB 0.0 0.0 0.2175 0.0 ... 0.0954 0.1068 0.0\n",
              "    uvel      (time, ni) float64 5MB 0.0 0.0 0.0 0.0 0.0 ... 0.0 0.0 0.0 0.0 0.0\n",
              "    ...        ...\n",
              "    fhocn     (time, ni) float64 5MB 0.0 -6.829 -12.6 0.0 ... -3.198 -3.137 0.0\n",
              "    aicen     (time, ncat, ni) float64 27MB 0.0 0.0 0.09942 ... 0.004224 0.0\n",
              "    vicen     (time, ncat, ni) float64 27MB 0.0 0.0 0.03011 ... 0.02483 0.0\n",
              "    vsnon     (time, ncat, ni) float64 27MB 0.0 0.0 0.005966 ... 0.001064 0.0\n",
              "    trcr      (time, ntrcr, ni) float64 112MB -1.905 -7.001 -8.812 ... 0.0 0.0\n",
              "    trcrn     (time, ncat, ntrcr, ni) float64 559MB -1.905 -1.905 ... 0.0 0.0</pre><div class='xr-wrap' style='display:none'><div class='xr-header'><div class='xr-obj-type'>xarray.Dataset</div></div><ul class='xr-sections'><li class='xr-section-item'><input id='section-74164d42-8ece-439c-97de-7b1dd533dcf5' class='xr-section-summary-in' type='checkbox' disabled ><label for='section-74164d42-8ece-439c-97de-7b1dd533dcf5' class='xr-section-summary'  title='Expand/collapse section'>Dimensions:</label><div class='xr-section-inline-details'><ul class='xr-dim-list'><li><span class='xr-has-index'>time</span>: 166440</li><li><span class='xr-has-index'>ni</span>: 4</li><li><span class='xr-has-index'>ncat</span>: 5</li><li><span class='xr-has-index'>ntrcr</span>: 21</li></ul></div><div class='xr-section-details'></div></li><li class='xr-section-item'><input id='section-4cc7a555-de84-46ce-9bd1-48fc5f783313' class='xr-section-summary-in' type='checkbox'  checked><label for='section-4cc7a555-de84-46ce-9bd1-48fc5f783313' class='xr-section-summary' >Coordinates: <span>(4)</span></label><div class='xr-section-inline-details'></div><div class='xr-section-details'><ul class='xr-var-list'><li class='xr-var-item'><div class='xr-var-name'><span class='xr-has-index'>ni</span></div><div class='xr-var-dims'>(ni)</div><div class='xr-var-dtype'>int32</div><div class='xr-var-preview xr-preview'>1 2 3 4</div><input id='attrs-dc1043c9-4157-4411-af94-f69c6d7b2e01' class='xr-var-attrs-in' type='checkbox' ><label for='attrs-dc1043c9-4157-4411-af94-f69c6d7b2e01' title='Show/Hide attributes'><svg class='icon xr-icon-file-text2'><use xlink:href='#icon-file-text2'></use></svg></label><input id='data-4109b9c4-e67c-4b30-81e6-fd8f628b172d' class='xr-var-data-in' type='checkbox'><label for='data-4109b9c4-e67c-4b30-81e6-fd8f628b172d' title='Show/Hide data repr'><svg class='icon xr-icon-database'><use xlink:href='#icon-database'></use></svg></label><div class='xr-var-attrs'><dl class='xr-attrs'><dt><span>column_name_001 :</span></dt><dd>icefree</dd><dt><span>column_name_002 :</span></dt><dd>slab</dd><dt><span>column_name_003 :</span></dt><dd>full_ITD</dd><dt><span>column_name_004 :</span></dt><dd>land</dd></dl></div><div class='xr-var-data'><pre>array([1, 2, 3, 4], dtype=int32)</pre></div></li><li class='xr-var-item'><div class='xr-var-name'><span class='xr-has-index'>ncat</span></div><div class='xr-var-dims'>(ncat)</div><div class='xr-var-dtype'>int32</div><div class='xr-var-preview xr-preview'>1 2 3 4 5</div><input id='attrs-02525285-9f9e-45ab-a2aa-4ca403a739fc' class='xr-var-attrs-in' type='checkbox' disabled><label for='attrs-02525285-9f9e-45ab-a2aa-4ca403a739fc' title='Show/Hide attributes'><svg class='icon xr-icon-file-text2'><use xlink:href='#icon-file-text2'></use></svg></label><input id='data-1ab62839-448b-42eb-8e4e-46d1e501d17c' class='xr-var-data-in' type='checkbox'><label for='data-1ab62839-448b-42eb-8e4e-46d1e501d17c' title='Show/Hide data repr'><svg class='icon xr-icon-database'><use xlink:href='#icon-database'></use></svg></label><div class='xr-var-attrs'><dl class='xr-attrs'></dl></div><div class='xr-var-data'><pre>array([1, 2, 3, 4, 5], dtype=int32)</pre></div></li><li class='xr-var-item'><div class='xr-var-name'><span class='xr-has-index'>ntrcr</span></div><div class='xr-var-dims'>(ntrcr)</div><div class='xr-var-dtype'>int32</div><div class='xr-var-preview xr-preview'>1 2 3 4 5 6 7 ... 16 17 18 19 20 21</div><input id='attrs-58a1dc99-fcda-4a97-811e-58f9a8c713df' class='xr-var-attrs-in' type='checkbox' disabled><label for='attrs-58a1dc99-fcda-4a97-811e-58f9a8c713df' title='Show/Hide attributes'><svg class='icon xr-icon-file-text2'><use xlink:href='#icon-file-text2'></use></svg></label><input id='data-1675132d-8cde-4005-9efc-2d199aabbd2e' class='xr-var-data-in' type='checkbox'><label for='data-1675132d-8cde-4005-9efc-2d199aabbd2e' title='Show/Hide data repr'><svg class='icon xr-icon-database'><use xlink:href='#icon-database'></use></svg></label><div class='xr-var-attrs'><dl class='xr-attrs'></dl></div><div class='xr-var-data'><pre>array([ 1,  2,  3,  4,  5,  6,  7,  8,  9, 10, 11, 12, 13, 14, 15, 16, 17, 18,\n",
              "       19, 20, 21], dtype=int32)</pre></div></li><li class='xr-var-item'><div class='xr-var-name'><span class='xr-has-index'>time</span></div><div class='xr-var-dims'>(time)</div><div class='xr-var-dtype'>int64</div><div class='xr-var-preview xr-preview'>1 2 3 4 ... 166438 166439 166440</div><input id='attrs-0faac2c1-feb2-4044-968a-5ee66c673867' class='xr-var-attrs-in' type='checkbox' disabled><label for='attrs-0faac2c1-feb2-4044-968a-5ee66c673867' title='Show/Hide attributes'><svg class='icon xr-icon-file-text2'><use xlink:href='#icon-file-text2'></use></svg></label><input id='data-3c4ef7af-0a1a-4720-a4d5-6ccbcb2d15c7' class='xr-var-data-in' type='checkbox'><label for='data-3c4ef7af-0a1a-4720-a4d5-6ccbcb2d15c7' title='Show/Hide data repr'><svg class='icon xr-icon-database'><use xlink:href='#icon-database'></use></svg></label><div class='xr-var-attrs'><dl class='xr-attrs'></dl></div><div class='xr-var-data'><pre>array([     1,      2,      3, ..., 166438, 166439, 166440])</pre></div></li></ul></div></li><li class='xr-section-item'><input id='section-e1288e33-5168-4d8a-bbc3-8ab9e8fc7015' class='xr-section-summary-in' type='checkbox'  ><label for='section-e1288e33-5168-4d8a-bbc3-8ab9e8fc7015' class='xr-section-summary' >Data variables: <span>(39)</span></label><div class='xr-section-inline-details'></div><div class='xr-section-details'><ul class='xr-var-list'><li class='xr-var-item'><div class='xr-var-name'><span>timestep</span></div><div class='xr-var-dims'>(time)</div><div class='xr-var-dtype'>int32</div><div class='xr-var-preview xr-preview'>1 2 3 4 5 ... 8757 8758 8759 8760</div><input id='attrs-220d8008-3240-421b-a43f-958851137e2b' class='xr-var-attrs-in' type='checkbox' disabled><label for='attrs-220d8008-3240-421b-a43f-958851137e2b' title='Show/Hide attributes'><svg class='icon xr-icon-file-text2'><use xlink:href='#icon-file-text2'></use></svg></label><input id='data-4c2c0ecc-ac1e-42ae-b7a0-60b24a63d599' class='xr-var-data-in' type='checkbox'><label for='data-4c2c0ecc-ac1e-42ae-b7a0-60b24a63d599' title='Show/Hide data repr'><svg class='icon xr-icon-database'><use xlink:href='#icon-database'></use></svg></label><div class='xr-var-attrs'><dl class='xr-attrs'></dl></div><div class='xr-var-data'><pre>array([   1,    2,    3, ..., 8758, 8759, 8760], dtype=int32)</pre></div></li><li class='xr-var-item'><div class='xr-var-name'><span>date</span></div><div class='xr-var-dims'>(time)</div><div class='xr-var-dtype'>float64</div><div class='xr-var-preview xr-preview'>2.015e+07 2.015e+07 ... 2.016e+07</div><input id='attrs-6c7c5d8d-6dcd-4cc4-bf05-06f2a473a62b' class='xr-var-attrs-in' type='checkbox' disabled><label for='attrs-6c7c5d8d-6dcd-4cc4-bf05-06f2a473a62b' title='Show/Hide attributes'><svg class='icon xr-icon-file-text2'><use xlink:href='#icon-file-text2'></use></svg></label><input id='data-8b961f92-d152-4dbc-992f-4b99c9e16844' class='xr-var-data-in' type='checkbox'><label for='data-8b961f92-d152-4dbc-992f-4b99c9e16844' title='Show/Hide data repr'><svg class='icon xr-icon-database'><use xlink:href='#icon-database'></use></svg></label><div class='xr-var-attrs'><dl class='xr-attrs'></dl></div><div class='xr-var-data'><pre>array([20150101.04166667, 20150101.08333333, 20150101.125     , ...,\n",
              "       20151231.91666667, 20151231.95833333, 20160101.        ])</pre></div></li><li class='xr-var-item'><div class='xr-var-name'><span>aice</span></div><div class='xr-var-dims'>(time, ni)</div><div class='xr-var-dtype'>float64</div><div class='xr-var-preview xr-preview'>0.0 0.9999 0.9999 ... 0.9999 0.0</div><input id='attrs-f507f3f8-951a-4339-ad61-0d0c748cf4a4' class='xr-var-attrs-in' type='checkbox' disabled><label for='attrs-f507f3f8-951a-4339-ad61-0d0c748cf4a4' title='Show/Hide attributes'><svg class='icon xr-icon-file-text2'><use xlink:href='#icon-file-text2'></use></svg></label><input id='data-24818a11-6c13-4fa7-b579-7967798b3df6' class='xr-var-data-in' type='checkbox'><label for='data-24818a11-6c13-4fa7-b579-7967798b3df6' title='Show/Hide data repr'><svg class='icon xr-icon-database'><use xlink:href='#icon-database'></use></svg></label><div class='xr-var-attrs'><dl class='xr-attrs'></dl></div><div class='xr-var-data'><pre>array([[0.        , 0.99988217, 0.99988217, 0.        ],\n",
              "       [0.        , 0.99978421, 0.9997842 , 0.        ],\n",
              "       [0.        , 0.99970782, 0.9997078 , 0.        ],\n",
              "       ...,\n",
              "       [0.99980282, 0.99980282, 0.99980282, 0.        ],\n",
              "       [0.9998304 , 0.9998304 , 0.9998304 , 0.        ],\n",
              "       [0.9998569 , 0.9998569 , 0.9998569 , 0.        ]])</pre></div></li><li class='xr-var-item'><div class='xr-var-name'><span>vice</span></div><div class='xr-var-dims'>(time, ni)</div><div class='xr-var-dtype'>float64</div><div class='xr-var-preview xr-preview'>0.0 2.001 1.795 ... 0.9658 0.0</div><input id='attrs-770e5fd6-8657-4a86-9de7-f11e718ada0d' class='xr-var-attrs-in' type='checkbox' disabled><label for='attrs-770e5fd6-8657-4a86-9de7-f11e718ada0d' title='Show/Hide attributes'><svg class='icon xr-icon-file-text2'><use xlink:href='#icon-file-text2'></use></svg></label><input id='data-a5a38c29-6ea3-4e73-afd2-38ef6042ba75' class='xr-var-data-in' type='checkbox'><label for='data-a5a38c29-6ea3-4e73-afd2-38ef6042ba75' title='Show/Hide data repr'><svg class='icon xr-icon-database'><use xlink:href='#icon-database'></use></svg></label><div class='xr-var-attrs'><dl class='xr-attrs'></dl></div><div class='xr-var-data'><pre>array([[0.        , 2.00052526, 1.79513512, 0.        ],\n",
              "       [0.        , 2.0009649 , 1.79601449, 0.        ],\n",
              "       [0.        , 2.00143375, 1.79686188, 0.        ],\n",
              "       ...,\n",
              "       [0.9723341 , 0.99597714, 0.96518692, 0.        ],\n",
              "       [0.9726672 , 0.99629926, 0.96550416, 0.        ],\n",
              "       [0.97302563, 0.99664744, 0.96584655, 0.        ]])</pre></div></li><li class='xr-var-item'><div class='xr-var-name'><span>vsno</span></div><div class='xr-var-dims'>(time, ni)</div><div class='xr-var-dtype'>float64</div><div class='xr-var-preview xr-preview'>0.0 0.0 0.2175 ... 0.1068 0.0</div><input id='attrs-20870a8e-ff81-4dc0-9f74-d25f878bfe4d' class='xr-var-attrs-in' type='checkbox' disabled><label for='attrs-20870a8e-ff81-4dc0-9f74-d25f878bfe4d' title='Show/Hide attributes'><svg class='icon xr-icon-file-text2'><use xlink:href='#icon-file-text2'></use></svg></label><input id='data-85694d23-ef79-4a1f-8a1f-152d5b15d70e' class='xr-var-data-in' type='checkbox'><label for='data-85694d23-ef79-4a1f-8a1f-152d5b15d70e' title='Show/Hide data repr'><svg class='icon xr-icon-database'><use xlink:href='#icon-database'></use></svg></label><div class='xr-var-attrs'><dl class='xr-attrs'></dl></div><div class='xr-var-data'><pre>array([[0.        , 0.        , 0.21747469, 0.        ],\n",
              "       [0.        , 0.        , 0.2174668 , 0.        ],\n",
              "       [0.        , 0.        , 0.21746181, 0.        ],\n",
              "       ...,\n",
              "       [0.08938668, 0.09541348, 0.10676887, 0.        ],\n",
              "       [0.0893782 , 0.09540438, 0.10675854, 0.        ],\n",
              "       [0.08937374, 0.0953995 , 0.10675274, 0.        ]])</pre></div></li><li class='xr-var-item'><div class='xr-var-name'><span>uvel</span></div><div class='xr-var-dims'>(time, ni)</div><div class='xr-var-dtype'>float64</div><div class='xr-var-preview xr-preview'>0.0 0.0 0.0 0.0 ... 0.0 0.0 0.0 0.0</div><input id='attrs-cf49f07e-b2d6-477b-88ee-ce2d97713b8e' class='xr-var-attrs-in' type='checkbox' disabled><label for='attrs-cf49f07e-b2d6-477b-88ee-ce2d97713b8e' title='Show/Hide attributes'><svg class='icon xr-icon-file-text2'><use xlink:href='#icon-file-text2'></use></svg></label><input id='data-7c0f3d3d-8024-44f8-a1ab-06e744e594aa' class='xr-var-data-in' type='checkbox'><label for='data-7c0f3d3d-8024-44f8-a1ab-06e744e594aa' title='Show/Hide data repr'><svg class='icon xr-icon-database'><use xlink:href='#icon-database'></use></svg></label><div class='xr-var-attrs'><dl class='xr-attrs'></dl></div><div class='xr-var-data'><pre>array([[0., 0., 0., 0.],\n",
              "       [0., 0., 0., 0.],\n",
              "       [0., 0., 0., 0.],\n",
              "       ...,\n",
              "       [0., 0., 0., 0.],\n",
              "       [0., 0., 0., 0.],\n",
              "       [0., 0., 0., 0.]])</pre></div></li><li class='xr-var-item'><div class='xr-var-name'><span>vvel</span></div><div class='xr-var-dims'>(time, ni)</div><div class='xr-var-dtype'>float64</div><div class='xr-var-preview xr-preview'>0.0 0.0 0.0 0.0 ... 0.0 0.0 0.0 0.0</div><input id='attrs-394899c3-f2f4-435a-98be-4e93cd8be6ab' class='xr-var-attrs-in' type='checkbox' disabled><label for='attrs-394899c3-f2f4-435a-98be-4e93cd8be6ab' title='Show/Hide attributes'><svg class='icon xr-icon-file-text2'><use xlink:href='#icon-file-text2'></use></svg></label><input id='data-6855fc4b-bf2c-41e4-99f2-842614b68b83' class='xr-var-data-in' type='checkbox'><label for='data-6855fc4b-bf2c-41e4-99f2-842614b68b83' title='Show/Hide data repr'><svg class='icon xr-icon-database'><use xlink:href='#icon-database'></use></svg></label><div class='xr-var-attrs'><dl class='xr-attrs'></dl></div><div class='xr-var-data'><pre>array([[0., 0., 0., 0.],\n",
              "       [0., 0., 0., 0.],\n",
              "       [0., 0., 0., 0.],\n",
              "       ...,\n",
              "       [0., 0., 0., 0.],\n",
              "       [0., 0., 0., 0.],\n",
              "       [0., 0., 0., 0.]])</pre></div></li><li class='xr-var-item'><div class='xr-var-name'><span>divu</span></div><div class='xr-var-dims'>(time, ni)</div><div class='xr-var-dtype'>float64</div><div class='xr-var-preview xr-preview'>0.0 0.0 0.0 0.0 ... 0.0 0.0 0.0 0.0</div><input id='attrs-abb673ca-b525-4c7d-bea2-f1af622567bd' class='xr-var-attrs-in' type='checkbox' disabled><label for='attrs-abb673ca-b525-4c7d-bea2-f1af622567bd' title='Show/Hide attributes'><svg class='icon xr-icon-file-text2'><use xlink:href='#icon-file-text2'></use></svg></label><input id='data-367dd72d-5470-4cde-b85f-79a0576aacbc' class='xr-var-data-in' type='checkbox'><label for='data-367dd72d-5470-4cde-b85f-79a0576aacbc' title='Show/Hide data repr'><svg class='icon xr-icon-database'><use xlink:href='#icon-database'></use></svg></label><div class='xr-var-attrs'><dl class='xr-attrs'></dl></div><div class='xr-var-data'><pre>array([[0., 0., 0., 0.],\n",
              "       [0., 0., 0., 0.],\n",
              "       [0., 0., 0., 0.],\n",
              "       ...,\n",
              "       [0., 0., 0., 0.],\n",
              "       [0., 0., 0., 0.],\n",
              "       [0., 0., 0., 0.]])</pre></div></li><li class='xr-var-item'><div class='xr-var-name'><span>shear</span></div><div class='xr-var-dims'>(time, ni)</div><div class='xr-var-dtype'>float64</div><div class='xr-var-preview xr-preview'>0.0 0.0 0.0 0.0 ... 0.0 0.0 0.0 0.0</div><input id='attrs-f6f895b8-379b-4a49-9232-3fd457e784fc' class='xr-var-attrs-in' type='checkbox' disabled><label for='attrs-f6f895b8-379b-4a49-9232-3fd457e784fc' title='Show/Hide attributes'><svg class='icon xr-icon-file-text2'><use xlink:href='#icon-file-text2'></use></svg></label><input id='data-94825dad-bbbc-429f-8a94-3c29f3e7364e' class='xr-var-data-in' type='checkbox'><label for='data-94825dad-bbbc-429f-8a94-3c29f3e7364e' title='Show/Hide data repr'><svg class='icon xr-icon-database'><use xlink:href='#icon-database'></use></svg></label><div class='xr-var-attrs'><dl class='xr-attrs'></dl></div><div class='xr-var-data'><pre>array([[0., 0., 0., 0.],\n",
              "       [0., 0., 0., 0.],\n",
              "       [0., 0., 0., 0.],\n",
              "       ...,\n",
              "       [0., 0., 0., 0.],\n",
              "       [0., 0., 0., 0.],\n",
              "       [0., 0., 0., 0.]])</pre></div></li><li class='xr-var-item'><div class='xr-var-name'><span>strength</span></div><div class='xr-var-dims'>(time, ni)</div><div class='xr-var-dtype'>float64</div><div class='xr-var-preview xr-preview'>0.0 0.0 0.0 0.0 ... 0.0 0.0 0.0 0.0</div><input id='attrs-6b4d81c9-c04d-43b6-a6b3-f1302ba41128' class='xr-var-attrs-in' type='checkbox' disabled><label for='attrs-6b4d81c9-c04d-43b6-a6b3-f1302ba41128' title='Show/Hide attributes'><svg class='icon xr-icon-file-text2'><use xlink:href='#icon-file-text2'></use></svg></label><input id='data-fcf88108-cfc8-4283-9c4b-7c39b04b0924' class='xr-var-data-in' type='checkbox'><label for='data-fcf88108-cfc8-4283-9c4b-7c39b04b0924' title='Show/Hide data repr'><svg class='icon xr-icon-database'><use xlink:href='#icon-database'></use></svg></label><div class='xr-var-attrs'><dl class='xr-attrs'></dl></div><div class='xr-var-data'><pre>array([[0., 0., 0., 0.],\n",
              "       [0., 0., 0., 0.],\n",
              "       [0., 0., 0., 0.],\n",
              "       ...,\n",
              "       [0., 0., 0., 0.],\n",
              "       [0., 0., 0., 0.],\n",
              "       [0., 0., 0., 0.]])</pre></div></li><li class='xr-var-item'><div class='xr-var-name'><span>evap</span></div><div class='xr-var-dims'>(time, ni)</div><div class='xr-var-dtype'>float64</div><div class='xr-var-preview xr-preview'>0.0 3.971e-08 ... -7.491e-07 0.0</div><input id='attrs-3def53c2-c97c-4936-b2b0-82f1095269d8' class='xr-var-attrs-in' type='checkbox' disabled><label for='attrs-3def53c2-c97c-4936-b2b0-82f1095269d8' title='Show/Hide attributes'><svg class='icon xr-icon-file-text2'><use xlink:href='#icon-file-text2'></use></svg></label><input id='data-a4ac8d5b-3a15-428f-9121-3e4c469e056f' class='xr-var-data-in' type='checkbox'><label for='data-a4ac8d5b-3a15-428f-9121-3e4c469e056f' title='Show/Hide data repr'><svg class='icon xr-icon-database'><use xlink:href='#icon-database'></use></svg></label><div class='xr-var-attrs'><dl class='xr-attrs'></dl></div><div class='xr-var-data'><pre>array([[ 0.00000000e+00,  3.97079184e-08,  4.14674374e-07,\n",
              "         0.00000000e+00],\n",
              "       [ 0.00000000e+00, -2.88257113e-07,  3.22610412e-07,\n",
              "         0.00000000e+00],\n",
              "       [ 0.00000000e+00, -9.61873063e-07,  8.87084989e-08,\n",
              "         0.00000000e+00],\n",
              "       ...,\n",
              "       [-9.99548851e-07, -9.88812887e-07, -9.75127738e-07,\n",
              "         0.00000000e+00],\n",
              "       [-9.00924600e-07, -8.89675251e-07, -8.76157081e-07,\n",
              "         0.00000000e+00],\n",
              "       [-7.73016948e-07, -7.61664127e-07, -7.49105738e-07,\n",
              "         0.00000000e+00]])</pre></div></li><li class='xr-var-item'><div class='xr-var-name'><span>fsnow</span></div><div class='xr-var-dims'>(time, ni)</div><div class='xr-var-dtype'>float64</div><div class='xr-var-preview xr-preview'>0.0 0.0 0.0 ... 1.19e-06 1.19e-06</div><input id='attrs-3e8bafe0-7474-49f3-b4f9-372ce363ee3f' class='xr-var-attrs-in' type='checkbox' disabled><label for='attrs-3e8bafe0-7474-49f3-b4f9-372ce363ee3f' title='Show/Hide attributes'><svg class='icon xr-icon-file-text2'><use xlink:href='#icon-file-text2'></use></svg></label><input id='data-12e39b0a-a830-4a40-918c-b03dd2dd52b5' class='xr-var-data-in' type='checkbox'><label for='data-12e39b0a-a830-4a40-918c-b03dd2dd52b5' title='Show/Hide data repr'><svg class='icon xr-icon-database'><use xlink:href='#icon-database'></use></svg></label><div class='xr-var-attrs'><dl class='xr-attrs'></dl></div><div class='xr-var-data'><pre>array([[0.00e+00, 0.00e+00, 0.00e+00, 0.00e+00],\n",
              "       [0.00e+00, 0.00e+00, 0.00e+00, 0.00e+00],\n",
              "       [0.00e+00, 0.00e+00, 0.00e+00, 0.00e+00],\n",
              "       ...,\n",
              "       [1.19e-06, 1.19e-06, 1.19e-06, 1.19e-06],\n",
              "       [1.19e-06, 1.19e-06, 1.19e-06, 1.19e-06],\n",
              "       [1.19e-06, 1.19e-06, 1.19e-06, 1.19e-06]])</pre></div></li><li class='xr-var-item'><div class='xr-var-name'><span>frazil</span></div><div class='xr-var-dims'>(time, ni)</div><div class='xr-var-dtype'>float64</div><div class='xr-var-preview xr-preview'>0.0 0.0 0.0 ... 0.0001375 0.0</div><input id='attrs-d31ae037-4dbd-467f-bb4b-5b6c82f8b369' class='xr-var-attrs-in' type='checkbox' disabled><label for='attrs-d31ae037-4dbd-467f-bb4b-5b6c82f8b369' title='Show/Hide attributes'><svg class='icon xr-icon-file-text2'><use xlink:href='#icon-file-text2'></use></svg></label><input id='data-7ab2c78e-5189-4289-aef6-6e64c62f1b58' class='xr-var-data-in' type='checkbox'><label for='data-7ab2c78e-5189-4289-aef6-6e64c62f1b58' title='Show/Hide data repr'><svg class='icon xr-icon-database'><use xlink:href='#icon-database'></use></svg></label><div class='xr-var-attrs'><dl class='xr-attrs'></dl></div><div class='xr-var-data'><pre>array([[0.        , 0.        , 0.        , 0.        ],\n",
              "       [0.        , 0.        , 0.        , 0.        ],\n",
              "       [0.        , 0.        , 0.        , 0.        ],\n",
              "       ...,\n",
              "       [0.00014552, 0.00014317, 0.00014061, 0.        ],\n",
              "       [0.00014375, 0.0001414 , 0.00013883, 0.        ],\n",
              "       [0.0001424 , 0.00014005, 0.00013748, 0.        ]])</pre></div></li><li class='xr-var-item'><div class='xr-var-name'><span>fswabs</span></div><div class='xr-var-dims'>(time, ni)</div><div class='xr-var-dtype'>float64</div><div class='xr-var-preview xr-preview'>0.0 198.5 83.78 0.0 ... 0.0 0.0 0.0</div><input id='attrs-1fd363b9-a275-49a8-b48a-a5e62eff053e' class='xr-var-attrs-in' type='checkbox' disabled><label for='attrs-1fd363b9-a275-49a8-b48a-a5e62eff053e' title='Show/Hide attributes'><svg class='icon xr-icon-file-text2'><use xlink:href='#icon-file-text2'></use></svg></label><input id='data-2e3a9ec1-fef8-41f4-acc5-29369760d840' class='xr-var-data-in' type='checkbox'><label for='data-2e3a9ec1-fef8-41f4-acc5-29369760d840' title='Show/Hide data repr'><svg class='icon xr-icon-database'><use xlink:href='#icon-database'></use></svg></label><div class='xr-var-attrs'><dl class='xr-attrs'></dl></div><div class='xr-var-data'><pre>array([[  0.        , 198.45059153,  83.77659267,   0.        ],\n",
              "       [  0.        , 202.24462035,  85.37605353,   0.        ],\n",
              "       [  0.        , 208.16114004,  87.87185413,   0.        ],\n",
              "       ...,\n",
              "       [  0.        ,   0.        ,   0.        ,   0.        ],\n",
              "       [  0.        ,   0.        ,   0.        ,   0.        ],\n",
              "       [  0.        ,   0.        ,   0.        ,   0.        ]])</pre></div></li><li class='xr-var-item'><div class='xr-var-name'><span>flw</span></div><div class='xr-var-dims'>(time, ni)</div><div class='xr-var-dtype'>float64</div><div class='xr-var-preview xr-preview'>187.6 187.6 187.6 ... 160.2 160.2</div><input id='attrs-c9ec7f47-78f4-4476-ac7d-ff02856bb9e2' class='xr-var-attrs-in' type='checkbox' disabled><label for='attrs-c9ec7f47-78f4-4476-ac7d-ff02856bb9e2' title='Show/Hide attributes'><svg class='icon xr-icon-file-text2'><use xlink:href='#icon-file-text2'></use></svg></label><input id='data-904d7acb-7ed9-4c03-9777-210acaf88591' class='xr-var-data-in' type='checkbox'><label for='data-904d7acb-7ed9-4c03-9777-210acaf88591' title='Show/Hide data repr'><svg class='icon xr-icon-database'><use xlink:href='#icon-database'></use></svg></label><div class='xr-var-attrs'><dl class='xr-attrs'></dl></div><div class='xr-var-data'><pre>array([[187.56036, 187.56036, 187.56036, 187.56036],\n",
              "       [191.75185, 191.75185, 191.75185, 191.75185],\n",
              "       [192.71793, 192.71793, 192.71793, 192.71793],\n",
              "       ...,\n",
              "       [186.56696, 186.56696, 186.56696, 186.56696],\n",
              "       [173.57582, 173.57582, 173.57582, 173.57582],\n",
              "       [160.20718, 160.20718, 160.20718, 160.20718]])</pre></div></li><li class='xr-var-item'><div class='xr-var-name'><span>flwout</span></div><div class='xr-var-dims'>(time, ni)</div><div class='xr-var-dtype'>float64</div><div class='xr-var-preview xr-preview'>0.0 -283.0 -275.5 ... -194.0 0.0</div><input id='attrs-024efde0-00ea-4647-bd72-ec0e4d1f5ee3' class='xr-var-attrs-in' type='checkbox' disabled><label for='attrs-024efde0-00ea-4647-bd72-ec0e4d1f5ee3' title='Show/Hide attributes'><svg class='icon xr-icon-file-text2'><use xlink:href='#icon-file-text2'></use></svg></label><input id='data-9369fa75-02e0-463e-99ea-df4d614e45ce' class='xr-var-data-in' type='checkbox'><label for='data-9369fa75-02e0-463e-99ea-df4d614e45ce' title='Show/Hide data repr'><svg class='icon xr-icon-database'><use xlink:href='#icon-database'></use></svg></label><div class='xr-var-attrs'><dl class='xr-attrs'></dl></div><div class='xr-var-data'><pre>array([[   0.        , -283.04424807, -275.49661238,    0.        ],\n",
              "       [   0.        , -286.48633134, -279.50106627,    0.        ],\n",
              "       [   0.        , -289.05080342, -282.48004196,    0.        ],\n",
              "       ...,\n",
              "       [-201.28642411, -201.11638639, -200.80086568,    0.        ],\n",
              "       [-198.72615282, -198.55186967, -198.23367259,    0.        ],\n",
              "       [-194.53703488, -194.3492473 , -194.01246528,    0.        ]])</pre></div></li><li class='xr-var-item'><div class='xr-var-name'><span>fsens</span></div><div class='xr-var-dims'>(time, ni)</div><div class='xr-var-dtype'>float64</div><div class='xr-var-preview xr-preview'>0.0 7.765 11.87 ... -26.67 0.0</div><input id='attrs-4124bb06-85e4-49af-9c53-398a757fb209' class='xr-var-attrs-in' type='checkbox' disabled><label for='attrs-4124bb06-85e4-49af-9c53-398a757fb209' title='Show/Hide attributes'><svg class='icon xr-icon-file-text2'><use xlink:href='#icon-file-text2'></use></svg></label><input id='data-c8008493-1836-4f53-8f3d-9659109cda88' class='xr-var-data-in' type='checkbox'><label for='data-c8008493-1836-4f53-8f3d-9659109cda88' title='Show/Hide data repr'><svg class='icon xr-icon-database'><use xlink:href='#icon-database'></use></svg></label><div class='xr-var-attrs'><dl class='xr-attrs'></dl></div><div class='xr-var-data'><pre>array([[  0.        ,   7.76518033,  11.87183793,   0.        ],\n",
              "       [  0.        ,   9.85705687,  12.28664466,   0.        ],\n",
              "       [  0.        ,  10.90048538,  13.77115814,   0.        ],\n",
              "       ...,\n",
              "       [-38.78895317, -38.20496086, -37.14768793,   0.        ],\n",
              "       [-31.83418998, -31.19690103, -30.06991234,   0.        ],\n",
              "       [-28.67250309, -27.94151825, -26.67449031,   0.        ]])</pre></div></li><li class='xr-var-item'><div class='xr-var-name'><span>fsurf</span></div><div class='xr-var-dims'>(time, ni)</div><div class='xr-var-dtype'>float64</div><div class='xr-var-preview xr-preview'>0.0 30.09 2.477 ... -62.67 0.0</div><input id='attrs-5626b875-0ed4-40ef-88b1-6e78f2880289' class='xr-var-attrs-in' type='checkbox' disabled><label for='attrs-5626b875-0ed4-40ef-88b1-6e78f2880289' title='Show/Hide attributes'><svg class='icon xr-icon-file-text2'><use xlink:href='#icon-file-text2'></use></svg></label><input id='data-fab878d4-0c66-4e73-b089-747d449b4905' class='xr-var-data-in' type='checkbox'><label for='data-fab878d4-0c66-4e73-b089-747d449b4905' title='Show/Hide data repr'><svg class='icon xr-icon-database'><use xlink:href='#icon-database'></use></svg></label><div class='xr-var-attrs'><dl class='xr-attrs'></dl></div><div class='xr-var-data'><pre>array([[  0.        ,  30.08832024,   2.47684175,   0.        ],\n",
              "       [  0.        ,  34.22258382,   4.27374606,   0.        ],\n",
              "       [  0.        ,  35.23830398,   5.36641514,   0.        ],\n",
              "       ...,\n",
              "       [-56.42950875, -55.64429836, -54.23177224,   0.        ],\n",
              "       [-59.61432457, -58.77012069, -57.28574783,   0.        ],\n",
              "       [-65.25750707, -64.30583241, -62.66566867,   0.        ]])</pre></div></li><li class='xr-var-item'><div class='xr-var-name'><span>flat</span></div><div class='xr-var-dims'>(time, ni)</div><div class='xr-var-dtype'>float64</div><div class='xr-var-preview xr-preview'>0.0 0.1133 1.184 ... -2.159 0.0</div><input id='attrs-214abe81-435f-469f-a503-9b5b7d9afb13' class='xr-var-attrs-in' type='checkbox' disabled><label for='attrs-214abe81-435f-469f-a503-9b5b7d9afb13' title='Show/Hide attributes'><svg class='icon xr-icon-file-text2'><use xlink:href='#icon-file-text2'></use></svg></label><input id='data-879157d2-9c49-4f51-bd91-f0af4375879c' class='xr-var-data-in' type='checkbox'><label for='data-879157d2-9c49-4f51-bd91-f0af4375879c' title='Show/Hide data repr'><svg class='icon xr-icon-database'><use xlink:href='#icon-database'></use></svg></label><div class='xr-var-attrs'><dl class='xr-attrs'></dl></div><div class='xr-var-data'><pre>array([[ 0.        ,  0.11328666,  1.18410463,  0.        ],\n",
              "       [ 0.        , -0.82205773,  0.9210202 ,  0.        ],\n",
              "       [ 0.        , -2.74197114,  0.25321149,  0.        ],\n",
              "       ...,\n",
              "       [-2.87898698, -2.84780663, -2.80807414,  0.        ],\n",
              "       [-2.59557682, -2.56294505, -2.52375797,  0.        ],\n",
              "       [-2.22797823, -2.195076  , -2.15872222,  0.        ]])</pre></div></li><li class='xr-var-item'><div class='xr-var-name'><span>frain</span></div><div class='xr-var-dims'>(time, ni)</div><div class='xr-var-dtype'>float64</div><div class='xr-var-preview xr-preview'>0.0 0.0 0.0 0.0 ... 0.0 0.0 0.0 0.0</div><input id='attrs-d47643e3-f0da-46ff-8624-81e4716aa4fa' class='xr-var-attrs-in' type='checkbox' disabled><label for='attrs-d47643e3-f0da-46ff-8624-81e4716aa4fa' title='Show/Hide attributes'><svg class='icon xr-icon-file-text2'><use xlink:href='#icon-file-text2'></use></svg></label><input id='data-8d173441-3a99-439c-b4e7-c035102cf6cd' class='xr-var-data-in' type='checkbox'><label for='data-8d173441-3a99-439c-b4e7-c035102cf6cd' title='Show/Hide data repr'><svg class='icon xr-icon-database'><use xlink:href='#icon-database'></use></svg></label><div class='xr-var-attrs'><dl class='xr-attrs'></dl></div><div class='xr-var-data'><pre>array([[0., 0., 0., 0.],\n",
              "       [0., 0., 0., 0.],\n",
              "       [0., 0., 0., 0.],\n",
              "       ...,\n",
              "       [0., 0., 0., 0.],\n",
              "       [0., 0., 0., 0.],\n",
              "       [0., 0., 0., 0.]])</pre></div></li><li class='xr-var-item'><div class='xr-var-name'><span>Tair</span></div><div class='xr-var-dims'>(time, ni)</div><div class='xr-var-dtype'>float64</div><div class='xr-var-preview xr-preview'>269.6 269.6 269.6 ... 240.0 240.0</div><input id='attrs-0a6918fc-143c-4512-965a-c12536e1a70b' class='xr-var-attrs-in' type='checkbox' disabled><label for='attrs-0a6918fc-143c-4512-965a-c12536e1a70b' title='Show/Hide attributes'><svg class='icon xr-icon-file-text2'><use xlink:href='#icon-file-text2'></use></svg></label><input id='data-6b663218-ed93-4761-98a2-f7d8c0266619' class='xr-var-data-in' type='checkbox'><label for='data-6b663218-ed93-4761-98a2-f7d8c0266619' title='Show/Hide data repr'><svg class='icon xr-icon-database'><use xlink:href='#icon-database'></use></svg></label><div class='xr-var-attrs'><dl class='xr-attrs'></dl></div><div class='xr-var-data'><pre>array([[269.57199, 269.57199, 269.57199, 269.57199],\n",
              "       [269.6864 , 269.6864 , 269.6864 , 269.6864 ],\n",
              "       [269.81433, 269.81433, 269.81433, 269.81433],\n",
              "       ...,\n",
              "       [240.64209, 240.64209, 240.64209, 240.64209],\n",
              "       [240.75432, 240.75432, 240.75432, 240.75432],\n",
              "       [239.95261, 239.95261, 239.95261, 239.95261]])</pre></div></li><li class='xr-var-item'><div class='xr-var-name'><span>Qa</span></div><div class='xr-var-dims'>(time, ni)</div><div class='xr-var-dtype'>float64</div><div class='xr-var-preview xr-preview'>0.00216 0.00216 ... 0.000175</div><input id='attrs-c109fae1-60a9-4863-90c7-ad9c1973891b' class='xr-var-attrs-in' type='checkbox' disabled><label for='attrs-c109fae1-60a9-4863-90c7-ad9c1973891b' title='Show/Hide attributes'><svg class='icon xr-icon-file-text2'><use xlink:href='#icon-file-text2'></use></svg></label><input id='data-138f6053-0461-4de5-b231-31b6058ea9fb' class='xr-var-data-in' type='checkbox'><label for='data-138f6053-0461-4de5-b231-31b6058ea9fb' title='Show/Hide data repr'><svg class='icon xr-icon-database'><use xlink:href='#icon-database'></use></svg></label><div class='xr-var-attrs'><dl class='xr-attrs'></dl></div><div class='xr-var-data'><pre>array([[0.00216008, 0.00216008, 0.00216008, 0.00216008],\n",
              "       [0.0021639 , 0.0021639 , 0.0021639 , 0.0021639 ],\n",
              "       [0.0021384 , 0.0021384 , 0.0021384 , 0.0021384 ],\n",
              "       ...,\n",
              "       [0.00019263, 0.00019263, 0.00019263, 0.00019263],\n",
              "       [0.00018905, 0.00018905, 0.00018905, 0.00018905],\n",
              "       [0.00017497, 0.00017497, 0.00017497, 0.00017497]])</pre></div></li><li class='xr-var-item'><div class='xr-var-name'><span>fsw</span></div><div class='xr-var-dims'>(time, ni)</div><div class='xr-var-dtype'>float64</div><div class='xr-var-preview xr-preview'>634.9 634.9 634.9 ... 0.0 0.0 0.0</div><input id='attrs-c8a5b11c-4139-4584-882b-e6b703c5a3d7' class='xr-var-attrs-in' type='checkbox' disabled><label for='attrs-c8a5b11c-4139-4584-882b-e6b703c5a3d7' title='Show/Hide attributes'><svg class='icon xr-icon-file-text2'><use xlink:href='#icon-file-text2'></use></svg></label><input id='data-d234d614-c8cb-4963-ba0a-db1b08519eec' class='xr-var-data-in' type='checkbox'><label for='data-d234d614-c8cb-4963-ba0a-db1b08519eec' title='Show/Hide data repr'><svg class='icon xr-icon-database'><use xlink:href='#icon-database'></use></svg></label><div class='xr-var-attrs'><dl class='xr-attrs'></dl></div><div class='xr-var-data'><pre>array([[634.90625, 634.90625, 634.90625, 634.90625],\n",
              "       [647.125  , 647.125  , 647.125  , 647.125  ],\n",
              "       [666.125  , 666.125  , 666.125  , 666.125  ],\n",
              "       ...,\n",
              "       [  0.     ,   0.     ,   0.     ,   0.     ],\n",
              "       [  0.     ,   0.     ,   0.     ,   0.     ],\n",
              "       [  0.     ,   0.     ,   0.     ,   0.     ]])</pre></div></li><li class='xr-var-item'><div class='xr-var-name'><span>fcondtop</span></div><div class='xr-var-dims'>(time, ni)</div><div class='xr-var-dtype'>float64</div><div class='xr-var-preview xr-preview'>0.0 30.09 2.477 ... -62.67 0.0</div><input id='attrs-96ee0250-8948-40e7-87a5-3c08cb554081' class='xr-var-attrs-in' type='checkbox' disabled><label for='attrs-96ee0250-8948-40e7-87a5-3c08cb554081' title='Show/Hide attributes'><svg class='icon xr-icon-file-text2'><use xlink:href='#icon-file-text2'></use></svg></label><input id='data-ce48f327-f8e8-4a3a-8907-261ede32fabd' class='xr-var-data-in' type='checkbox'><label for='data-ce48f327-f8e8-4a3a-8907-261ede32fabd' title='Show/Hide data repr'><svg class='icon xr-icon-database'><use xlink:href='#icon-database'></use></svg></label><div class='xr-var-attrs'><dl class='xr-attrs'></dl></div><div class='xr-var-data'><pre>array([[  0.        ,  30.08832024,   2.47684175,   0.        ],\n",
              "       [  0.        ,  34.22258382,   4.27374606,   0.        ],\n",
              "       [  0.        ,  35.23830398,   5.36641514,   0.        ],\n",
              "       ...,\n",
              "       [-56.42950875, -55.64429836, -54.23177224,   0.        ],\n",
              "       [-59.61432457, -58.77012069, -57.28574783,   0.        ],\n",
              "       [-65.25750707, -64.30583241, -62.66566867,   0.        ]])</pre></div></li><li class='xr-var-item'><div class='xr-var-name'><span>meltt</span></div><div class='xr-var-dims'>(time, ni)</div><div class='xr-var-dtype'>float64</div><div class='xr-var-preview xr-preview'>0.0 2.694e-18 0.0 ... 0.0 0.0 0.0</div><input id='attrs-5763b2b3-6e59-41f1-9e9e-ce27fcdae6b8' class='xr-var-attrs-in' type='checkbox' disabled><label for='attrs-5763b2b3-6e59-41f1-9e9e-ce27fcdae6b8' title='Show/Hide attributes'><svg class='icon xr-icon-file-text2'><use xlink:href='#icon-file-text2'></use></svg></label><input id='data-c744eea2-fb08-43db-b28d-30f9f57f0aff' class='xr-var-data-in' type='checkbox'><label for='data-c744eea2-fb08-43db-b28d-30f9f57f0aff' title='Show/Hide data repr'><svg class='icon xr-icon-database'><use xlink:href='#icon-database'></use></svg></label><div class='xr-var-attrs'><dl class='xr-attrs'></dl></div><div class='xr-var-data'><pre>array([[0.00000000e+00, 2.69439165e-18, 0.00000000e+00, 0.00000000e+00],\n",
              "       [0.00000000e+00, 0.00000000e+00, 0.00000000e+00, 0.00000000e+00],\n",
              "       [0.00000000e+00, 5.02026365e-23, 0.00000000e+00, 0.00000000e+00],\n",
              "       ...,\n",
              "       [0.00000000e+00, 0.00000000e+00, 0.00000000e+00, 0.00000000e+00],\n",
              "       [0.00000000e+00, 0.00000000e+00, 0.00000000e+00, 0.00000000e+00],\n",
              "       [0.00000000e+00, 0.00000000e+00, 0.00000000e+00, 0.00000000e+00]])</pre></div></li><li class='xr-var-item'><div class='xr-var-name'><span>meltb</span></div><div class='xr-var-dims'>(time, ni)</div><div class='xr-var-dtype'>float64</div><div class='xr-var-preview xr-preview'>0.0 0.0 0.0 ... 6.852e-07 0.0</div><input id='attrs-b0ba57e6-8d97-4eb4-926f-c327b5b86f2c' class='xr-var-attrs-in' type='checkbox' disabled><label for='attrs-b0ba57e6-8d97-4eb4-926f-c327b5b86f2c' title='Show/Hide attributes'><svg class='icon xr-icon-file-text2'><use xlink:href='#icon-file-text2'></use></svg></label><input id='data-52544997-5fba-4137-84bd-1bba9a60599e' class='xr-var-data-in' type='checkbox'><label for='data-52544997-5fba-4137-84bd-1bba9a60599e' title='Show/Hide data repr'><svg class='icon xr-icon-database'><use xlink:href='#icon-database'></use></svg></label><div class='xr-var-attrs'><dl class='xr-attrs'></dl></div><div class='xr-var-data'><pre>array([[0.00000000e+00, 0.00000000e+00, 0.00000000e+00, 0.00000000e+00],\n",
              "       [0.00000000e+00, 0.00000000e+00, 0.00000000e+00, 0.00000000e+00],\n",
              "       [0.00000000e+00, 0.00000000e+00, 0.00000000e+00, 0.00000000e+00],\n",
              "       ...,\n",
              "       [6.34605595e-07, 9.23979288e-07, 6.84986079e-07, 0.00000000e+00],\n",
              "       [6.35155040e-07, 9.24659670e-07, 6.85077022e-07, 0.00000000e+00],\n",
              "       [6.35730395e-07, 9.25364099e-07, 6.85185641e-07, 0.00000000e+00]])</pre></div></li><li class='xr-var-item'><div class='xr-var-name'><span>meltl</span></div><div class='xr-var-dims'>(time, ni)</div><div class='xr-var-dtype'>float64</div><div class='xr-var-preview xr-preview'>0.0 0.0 0.0 0.0 ... 0.0 0.0 0.0 0.0</div><input id='attrs-17b2057d-7d03-444d-838a-ae3b2a453a0b' class='xr-var-attrs-in' type='checkbox' disabled><label for='attrs-17b2057d-7d03-444d-838a-ae3b2a453a0b' title='Show/Hide attributes'><svg class='icon xr-icon-file-text2'><use xlink:href='#icon-file-text2'></use></svg></label><input id='data-d3c6b604-b379-4f8e-89b2-190da2527e23' class='xr-var-data-in' type='checkbox'><label for='data-d3c6b604-b379-4f8e-89b2-190da2527e23' title='Show/Hide data repr'><svg class='icon xr-icon-database'><use xlink:href='#icon-database'></use></svg></label><div class='xr-var-attrs'><dl class='xr-attrs'></dl></div><div class='xr-var-data'><pre>array([[0.00000000e+00, 0.00000000e+00, 0.00000000e+00, 0.00000000e+00],\n",
              "       [0.00000000e+00, 8.47968269e-06, 7.56633147e-06, 0.00000000e+00],\n",
              "       [0.00000000e+00, 8.47401044e-06, 7.52292852e-06, 0.00000000e+00],\n",
              "       ...,\n",
              "       [0.00000000e+00, 0.00000000e+00, 0.00000000e+00, 0.00000000e+00],\n",
              "       [0.00000000e+00, 0.00000000e+00, 0.00000000e+00, 0.00000000e+00],\n",
              "       [0.00000000e+00, 0.00000000e+00, 0.00000000e+00, 0.00000000e+00]])</pre></div></li><li class='xr-var-item'><div class='xr-var-name'><span>snoice</span></div><div class='xr-var-dims'>(time, ni)</div><div class='xr-var-dtype'>float64</div><div class='xr-var-preview xr-preview'>0.0 0.0 0.0 0.0 ... 0.0 0.0 0.0 0.0</div><input id='attrs-ddc7e1a7-ed25-4b9b-b5b0-7c6a4bc933a3' class='xr-var-attrs-in' type='checkbox' disabled><label for='attrs-ddc7e1a7-ed25-4b9b-b5b0-7c6a4bc933a3' title='Show/Hide attributes'><svg class='icon xr-icon-file-text2'><use xlink:href='#icon-file-text2'></use></svg></label><input id='data-4075a1e1-55b9-4f59-add2-6b824d43ab30' class='xr-var-data-in' type='checkbox'><label for='data-4075a1e1-55b9-4f59-add2-6b824d43ab30' title='Show/Hide data repr'><svg class='icon xr-icon-database'><use xlink:href='#icon-database'></use></svg></label><div class='xr-var-attrs'><dl class='xr-attrs'></dl></div><div class='xr-var-data'><pre>array([[0., 0., 0., 0.],\n",
              "       [0., 0., 0., 0.],\n",
              "       [0., 0., 0., 0.],\n",
              "       ...,\n",
              "       [0., 0., 0., 0.],\n",
              "       [0., 0., 0., 0.],\n",
              "       [0., 0., 0., 0.]])</pre></div></li><li class='xr-var-item'><div class='xr-var-name'><span>dsnow</span></div><div class='xr-var-dims'>(time, ni)</div><div class='xr-var-dtype'>float64</div><div class='xr-var-preview xr-preview'>0.0 0.0 4.524e-06 ... 4.808e-06 0.0</div><input id='attrs-33d85718-947e-426a-9fb7-a24db7a49c60' class='xr-var-attrs-in' type='checkbox' disabled><label for='attrs-33d85718-947e-426a-9fb7-a24db7a49c60' title='Show/Hide attributes'><svg class='icon xr-icon-file-text2'><use xlink:href='#icon-file-text2'></use></svg></label><input id='data-8f36e6ab-2b80-4a07-b7d4-0bbcbf6b34c7' class='xr-var-data-in' type='checkbox'><label for='data-8f36e6ab-2b80-4a07-b7d4-0bbcbf6b34c7' title='Show/Hide data repr'><svg class='icon xr-icon-database'><use xlink:href='#icon-database'></use></svg></label><div class='xr-var-attrs'><dl class='xr-attrs'></dl></div><div class='xr-var-data'><pre>array([[0.00000000e+00, 0.00000000e+00, 4.52372045e-06, 0.00000000e+00],\n",
              "       [0.00000000e+00, 0.00000000e+00, 3.51938631e-06, 0.00000000e+00],\n",
              "       [0.00000000e+00, 0.00000000e+00, 9.67729079e-07, 0.00000000e+00],\n",
              "       ...,\n",
              "       [2.07471916e-06, 2.19183877e-06, 2.34113130e-06, 0.00000000e+00],\n",
              "       [3.15099012e-06, 3.27371029e-06, 3.42118123e-06, 0.00000000e+00],\n",
              "       [4.54670433e-06, 4.67055329e-06, 4.80755389e-06, 0.00000000e+00]])</pre></div></li><li class='xr-var-item'><div class='xr-var-name'><span>congel</span></div><div class='xr-var-dims'>(time, ni)</div><div class='xr-var-dtype'>float64</div><div class='xr-var-preview xr-preview'>0.0 0.0006521 ... 0.0002948 0.0</div><input id='attrs-44fee48f-219c-4b44-9ff2-8297eaa7e5d4' class='xr-var-attrs-in' type='checkbox' disabled><label for='attrs-44fee48f-219c-4b44-9ff2-8297eaa7e5d4' title='Show/Hide attributes'><svg class='icon xr-icon-file-text2'><use xlink:href='#icon-file-text2'></use></svg></label><input id='data-981cf362-6aeb-4f06-9627-bc6272d98eeb' class='xr-var-data-in' type='checkbox'><label for='data-981cf362-6aeb-4f06-9627-bc6272d98eeb' title='Show/Hide data repr'><svg class='icon xr-icon-database'><use xlink:href='#icon-database'></use></svg></label><div class='xr-var-attrs'><dl class='xr-attrs'></dl></div><div class='xr-var-data'><pre>array([[0.        , 0.0006521 , 0.00119502, 0.        ],\n",
              "       [0.        , 0.00052117, 0.00095148, 0.        ],\n",
              "       [0.        , 0.000501  , 0.00087278, 0.        ],\n",
              "       ...,\n",
              "       [0.0003114 , 0.00030595, 0.00029964, 0.        ],\n",
              "       [0.00030905, 0.00030362, 0.0002973 , 0.        ],\n",
              "       [0.00030655, 0.00030113, 0.00029482, 0.        ]])</pre></div></li><li class='xr-var-item'><div class='xr-var-name'><span>sst</span></div><div class='xr-var-dims'>(time, ni)</div><div class='xr-var-dtype'>float64</div><div class='xr-var-preview xr-preview'>-1.781 -1.8 -1.8 ... -1.905 0.0</div><input id='attrs-de71bf8a-7245-4393-ade6-2932abd7b7b0' class='xr-var-attrs-in' type='checkbox' disabled><label for='attrs-de71bf8a-7245-4393-ade6-2932abd7b7b0' title='Show/Hide attributes'><svg class='icon xr-icon-file-text2'><use xlink:href='#icon-file-text2'></use></svg></label><input id='data-4b68dfeb-70c9-498f-a959-a190baa03cd1' class='xr-var-data-in' type='checkbox'><label for='data-4b68dfeb-70c9-498f-a959-a190baa03cd1' title='Show/Hide data repr'><svg class='icon xr-icon-database'><use xlink:href='#icon-database'></use></svg></label><div class='xr-var-attrs'><dl class='xr-attrs'></dl></div><div class='xr-var-data'><pre>array([[-1.78146227, -1.80004419, -1.80049711,  0.        ],\n",
              "       [-1.7622654 , -1.80011161, -1.80097043,  0.        ],\n",
              "       [-1.74230351, -1.80016153, -1.80140698,  0.        ],\n",
              "       ...,\n",
              "       [-1.90458265, -1.90458265, -1.90458265,  0.        ],\n",
              "       [-1.90458265, -1.90458265, -1.90458265,  0.        ],\n",
              "       [-1.90458265, -1.90458265, -1.90458265,  0.        ]])</pre></div></li><li class='xr-var-item'><div class='xr-var-name'><span>sss</span></div><div class='xr-var-dims'>(time, ni)</div><div class='xr-var-dtype'>float64</div><div class='xr-var-preview xr-preview'>34.0 34.0 34.0 ... 34.0 34.0 34.0</div><input id='attrs-55673491-dee7-47e9-ab9e-f1b7bc67e73b' class='xr-var-attrs-in' type='checkbox' disabled><label for='attrs-55673491-dee7-47e9-ab9e-f1b7bc67e73b' title='Show/Hide attributes'><svg class='icon xr-icon-file-text2'><use xlink:href='#icon-file-text2'></use></svg></label><input id='data-a4bed0d4-06a3-40e7-9b29-092df69b31e7' class='xr-var-data-in' type='checkbox'><label for='data-a4bed0d4-06a3-40e7-9b29-092df69b31e7' title='Show/Hide data repr'><svg class='icon xr-icon-database'><use xlink:href='#icon-database'></use></svg></label><div class='xr-var-attrs'><dl class='xr-attrs'></dl></div><div class='xr-var-data'><pre>array([[34., 34., 34., 34.],\n",
              "       [34., 34., 34., 34.],\n",
              "       [34., 34., 34., 34.],\n",
              "       ...,\n",
              "       [34., 34., 34., 34.],\n",
              "       [34., 34., 34., 34.],\n",
              "       [34., 34., 34., 34.]])</pre></div></li><li class='xr-var-item'><div class='xr-var-name'><span>Tf</span></div><div class='xr-var-dims'>(time, ni)</div><div class='xr-var-dtype'>float64</div><div class='xr-var-preview xr-preview'>-1.905 -1.905 ... -1.905 -1.905</div><input id='attrs-e7c965c2-f5a0-4333-a0e0-a340e32e5bca' class='xr-var-attrs-in' type='checkbox' disabled><label for='attrs-e7c965c2-f5a0-4333-a0e0-a340e32e5bca' title='Show/Hide attributes'><svg class='icon xr-icon-file-text2'><use xlink:href='#icon-file-text2'></use></svg></label><input id='data-d5a2fe15-42a6-4692-b3f9-dd011aa8826e' class='xr-var-data-in' type='checkbox'><label for='data-d5a2fe15-42a6-4692-b3f9-dd011aa8826e' title='Show/Hide data repr'><svg class='icon xr-icon-database'><use xlink:href='#icon-database'></use></svg></label><div class='xr-var-attrs'><dl class='xr-attrs'></dl></div><div class='xr-var-data'><pre>array([[-1.90458265, -1.90458265, -1.90458265, -1.90458265],\n",
              "       [-1.90458265, -1.90458265, -1.90458265, -1.90458265],\n",
              "       [-1.90458265, -1.90458265, -1.90458265, -1.90458265],\n",
              "       ...,\n",
              "       [-1.90458265, -1.90458265, -1.90458265, -1.90458265],\n",
              "       [-1.90458265, -1.90458265, -1.90458265, -1.90458265],\n",
              "       [-1.90458265, -1.90458265, -1.90458265, -1.90458265]])</pre></div></li><li class='xr-var-item'><div class='xr-var-name'><span>fhocn</span></div><div class='xr-var-dims'>(time, ni)</div><div class='xr-var-dtype'>float64</div><div class='xr-var-preview xr-preview'>0.0 -6.829 -12.6 ... -3.137 0.0</div><input id='attrs-bb93164b-4244-422f-b8db-5845d6d3f7c8' class='xr-var-attrs-in' type='checkbox' disabled><label for='attrs-bb93164b-4244-422f-b8db-5845d6d3f7c8' title='Show/Hide attributes'><svg class='icon xr-icon-file-text2'><use xlink:href='#icon-file-text2'></use></svg></label><input id='data-a025e1a7-5ee9-4899-9643-183ccf7a71ca' class='xr-var-data-in' type='checkbox'><label for='data-a025e1a7-5ee9-4899-9643-183ccf7a71ca' title='Show/Hide data repr'><svg class='icon xr-icon-database'><use xlink:href='#icon-database'></use></svg></label><div class='xr-var-attrs'><dl class='xr-attrs'></dl></div><div class='xr-var-data'><pre>array([[  0.        ,  -6.82876012, -12.59567429,   0.        ],\n",
              "       [  0.        ,  -7.53985447, -12.07869171,   0.        ],\n",
              "       [  0.        ,  -7.32659184, -11.25042215,   0.        ],\n",
              "       ...,\n",
              "       [ -3.30143334,  -3.24559062,  -3.18468613,   0.        ],\n",
              "       [ -3.2781181 ,  -3.22235396,  -3.16152739,   0.        ],\n",
              "       [ -3.25311968,  -3.19759827,  -3.13675614,   0.        ]])</pre></div></li><li class='xr-var-item'><div class='xr-var-name'><span>aicen</span></div><div class='xr-var-dims'>(time, ncat, ni)</div><div class='xr-var-dtype'>float64</div><div class='xr-var-preview xr-preview'>0.0 0.0 0.09942 ... 0.004224 0.0</div><input id='attrs-63dae1a1-de6c-4b49-8eb1-6b65ee3c6ac0' class='xr-var-attrs-in' type='checkbox' disabled><label for='attrs-63dae1a1-de6c-4b49-8eb1-6b65ee3c6ac0' title='Show/Hide attributes'><svg class='icon xr-icon-file-text2'><use xlink:href='#icon-file-text2'></use></svg></label><input id='data-7d736106-bdc8-4cd2-a3fd-d191bf8756fe' class='xr-var-data-in' type='checkbox'><label for='data-7d736106-bdc8-4cd2-a3fd-d191bf8756fe' title='Show/Hide data repr'><svg class='icon xr-icon-database'><use xlink:href='#icon-database'></use></svg></label><div class='xr-var-attrs'><dl class='xr-attrs'></dl></div><div class='xr-var-data'><pre>array([[[0.00000000e+00, 0.00000000e+00, 9.94184176e-02, 0.00000000e+00],\n",
              "        [0.00000000e+00, 0.00000000e+00, 2.70402118e-01, 0.00000000e+00],\n",
              "        [0.00000000e+00, 9.98818154e-01, 3.59587255e-01, 0.00000000e+00],\n",
              "        [0.00000000e+00, 1.04601399e-03, 2.70368734e-01, 0.00000000e+00],\n",
              "        [0.00000000e+00, 1.80031296e-05, 1.05645718e-04, 0.00000000e+00]],\n",
              "\n",
              "       [[0.00000000e+00, 0.00000000e+00, 9.89471568e-02, 0.00000000e+00],\n",
              "        [0.00000000e+00, 0.00000000e+00, 2.70486153e-01, 0.00000000e+00],\n",
              "        [0.00000000e+00, 9.98013972e-01, 3.59708915e-01, 0.00000000e+00],\n",
              "        [0.00000000e+00, 1.73309196e-03, 2.70474037e-01, 0.00000000e+00],\n",
              "        [0.00000000e+00, 3.71463089e-05, 1.67943575e-04, 0.00000000e+00]],\n",
              "\n",
              "       [[0.00000000e+00, 0.00000000e+00, 9.85248956e-02, 0.00000000e+00],\n",
              "        [0.00000000e+00, 0.00000000e+00, 2.70541111e-01, 0.00000000e+00],\n",
              "        [0.00000000e+00, 9.97255700e-01, 3.59828480e-01, 0.00000000e+00],\n",
              "        [0.00000000e+00, 2.39435844e-03, 2.70584334e-01, 0.00000000e+00],\n",
              "        [0.00000000e+00, 5.77586905e-05, 2.28979912e-04, 0.00000000e+00]],\n",
              "\n",
              "       ...,\n",
              "\n",
              "       [[1.03852325e-01, 1.01165872e-01, 9.17912141e-02, 0.00000000e+00],\n",
              "        [8.53395575e-01, 8.49431795e-01, 8.53850172e-01, 0.00000000e+00],\n",
              "        [3.46422610e-02, 3.36610217e-02, 4.35439456e-02, 0.00000000e+00],\n",
              "        [3.37989351e-03, 5.19237299e-03, 6.39806185e-03, 0.00000000e+00],\n",
              "        [4.53277026e-03, 1.03517623e-02, 4.21943112e-03, 0.00000000e+00]],\n",
              "\n",
              "       [[1.03842689e-01, 1.01156183e-01, 9.17872092e-02, 0.00000000e+00],\n",
              "        [8.53250772e-01, 8.49318180e-01, 8.53753984e-01, 0.00000000e+00],\n",
              "        [3.48207329e-02, 3.38092971e-02, 4.36684143e-02, 0.00000000e+00],\n",
              "        [3.38153394e-03, 5.19388860e-03, 6.39932264e-03, 0.00000000e+00],\n",
              "        [4.53467430e-03, 1.03528529e-02, 4.22147200e-03, 0.00000000e+00]],\n",
              "\n",
              "       [[1.03804292e-01, 1.01117574e-01, 9.17538765e-02, 0.00000000e+00],\n",
              "        [8.53133225e-01, 8.49231613e-01, 8.53684892e-01, 0.00000000e+00],\n",
              "        [3.49990488e-02, 3.39575533e-02, 4.37933678e-02, 0.00000000e+00],\n",
              "        [3.38342061e-03, 5.19570633e-03, 6.40092034e-03, 0.00000000e+00],\n",
              "        [4.53691292e-03, 1.03544525e-02, 4.22384211e-03, 0.00000000e+00]]])</pre></div></li><li class='xr-var-item'><div class='xr-var-name'><span>vicen</span></div><div class='xr-var-dims'>(time, ncat, ni)</div><div class='xr-var-dtype'>float64</div><div class='xr-var-preview xr-preview'>0.0 0.0 0.03011 ... 0.02483 0.0</div><input id='attrs-3d3fdf1a-5ce9-4852-be32-be7fbe833212' class='xr-var-attrs-in' type='checkbox' disabled><label for='attrs-3d3fdf1a-5ce9-4852-be32-be7fbe833212' title='Show/Hide attributes'><svg class='icon xr-icon-file-text2'><use xlink:href='#icon-file-text2'></use></svg></label><input id='data-b2685e89-0f47-480d-9d5c-5fbbf3ffe824' class='xr-var-data-in' type='checkbox'><label for='data-b2685e89-0f47-480d-9d5c-5fbbf3ffe824' title='Show/Hide data repr'><svg class='icon xr-icon-database'><use xlink:href='#icon-database'></use></svg></label><div class='xr-var-attrs'><dl class='xr-attrs'></dl></div><div class='xr-var-data'><pre>array([[[0.00000000e+00, 0.00000000e+00, 3.01072544e-02, 0.00000000e+00],\n",
              "        [0.00000000e+00, 0.00000000e+00, 2.70419353e-01, 0.00000000e+00],\n",
              "        [0.00000000e+00, 1.99787085e+00, 6.83185251e-01, 0.00000000e+00],\n",
              "        [0.00000000e+00, 2.51321504e-03, 8.11037860e-01, 0.00000000e+00],\n",
              "        [0.00000000e+00, 1.41196561e-04, 3.85403620e-04, 0.00000000e+00]],\n",
              "\n",
              "       [[0.00000000e+00, 0.00000000e+00, 3.01700606e-02, 0.00000000e+00],\n",
              "        [0.00000000e+00, 0.00000000e+00, 2.70531239e-01, 0.00000000e+00],\n",
              "        [0.00000000e+00, 1.99650817e+00, 6.83390820e-01, 0.00000000e+00],\n",
              "        [0.00000000e+00, 4.16539009e-03, 8.11307223e-01, 0.00000000e+00],\n",
              "        [0.00000000e+00, 2.91340448e-04, 6.15150398e-04, 0.00000000e+00]],\n",
              "\n",
              "       [[0.00000000e+00, 0.00000000e+00, 3.02099051e-02, 0.00000000e+00],\n",
              "        [0.00000000e+00, 0.00000000e+00, 2.70621080e-01, 0.00000000e+00],\n",
              "        [0.00000000e+00, 1.99522466e+00, 6.83596396e-01, 0.00000000e+00],\n",
              "        [0.00000000e+00, 5.75606969e-03, 8.11593650e-01, 0.00000000e+00],\n",
              "        [0.00000000e+00, 4.53013416e-04, 8.40846555e-04, 0.00000000e+00]],\n",
              "\n",
              "       ...,\n",
              "\n",
              "       [[4.36150825e-02, 4.21562555e-02, 3.76489390e-02, 0.00000000e+00],\n",
              "        [8.40554320e-01, 8.21820149e-01, 8.08730524e-01, 0.00000000e+00],\n",
              "        [5.14960444e-02, 5.12917668e-02, 7.60286758e-02, 0.00000000e+00],\n",
              "        [1.01370379e-02, 1.58179495e-02, 1.79722069e-02, 0.00000000e+00],\n",
              "        [2.65316152e-02, 6.48910161e-02, 2.48065740e-02, 0.00000000e+00]],\n",
              "\n",
              "       [[4.36550849e-02, 4.21983380e-02, 3.76973232e-02, 0.00000000e+00],\n",
              "        [8.40573615e-01, 8.21874969e-01, 8.08802926e-01, 0.00000000e+00],\n",
              "        [5.17537957e-02, 5.15064178e-02, 7.62093909e-02, 0.00000000e+00],\n",
              "        [1.01416757e-02, 1.58221637e-02, 1.79758231e-02, 0.00000000e+00],\n",
              "        [2.65430240e-02, 6.48973664e-02, 2.48186931e-02, 0.00000000e+00]],\n",
              "\n",
              "       [[4.36812211e-02, 4.22264757e-02, 3.77315080e-02, 0.00000000e+00],\n",
              "        [8.40628887e-01, 8.21964944e-01, 8.08909832e-01, 0.00000000e+00],\n",
              "        [5.20119705e-02, 5.17216969e-02, 7.63919043e-02, 0.00000000e+00],\n",
              "        [1.01470906e-02, 1.58273534e-02, 1.79804936e-02, 0.00000000e+00],\n",
              "        [2.65564568e-02, 6.49069693e-02, 2.48328094e-02, 0.00000000e+00]]])</pre></div></li><li class='xr-var-item'><div class='xr-var-name'><span>vsnon</span></div><div class='xr-var-dims'>(time, ncat, ni)</div><div class='xr-var-dtype'>float64</div><div class='xr-var-preview xr-preview'>0.0 0.0 0.005966 ... 0.001064 0.0</div><input id='attrs-e79a4bd1-4ea7-4cff-9121-0cc60cec810d' class='xr-var-attrs-in' type='checkbox' disabled><label for='attrs-e79a4bd1-4ea7-4cff-9121-0cc60cec810d' title='Show/Hide attributes'><svg class='icon xr-icon-file-text2'><use xlink:href='#icon-file-text2'></use></svg></label><input id='data-0988e04f-cdd5-4ac5-93a0-ae8a534416e9' class='xr-var-data-in' type='checkbox'><label for='data-0988e04f-cdd5-4ac5-93a0-ae8a534416e9' title='Show/Hide data repr'><svg class='icon xr-icon-database'><use xlink:href='#icon-database'></use></svg></label><div class='xr-var-attrs'><dl class='xr-attrs'></dl></div><div class='xr-var-data'><pre>array([[[0.00000000e+00, 0.00000000e+00, 5.96557636e-03, 0.00000000e+00],\n",
              "        [0.00000000e+00, 0.00000000e+00, 5.40085050e-02, 0.00000000e+00],\n",
              "        [0.00000000e+00, 0.00000000e+00, 8.98799944e-02, 0.00000000e+00],\n",
              "        [0.00000000e+00, 0.00000000e+00, 6.75934660e-02, 0.00000000e+00],\n",
              "        [0.00000000e+00, 0.00000000e+00, 2.71525671e-05, 0.00000000e+00]],\n",
              "\n",
              "       [[0.00000000e+00, 0.00000000e+00, 5.93764905e-03, 0.00000000e+00],\n",
              "        [0.00000000e+00, 0.00000000e+00, 5.39688154e-02, 0.00000000e+00],\n",
              "        [0.00000000e+00, 0.00000000e+00, 8.98960271e-02, 0.00000000e+00],\n",
              "        [0.00000000e+00, 0.00000000e+00, 6.76207940e-02, 0.00000000e+00],\n",
              "        [0.00000000e+00, 0.00000000e+00, 4.35190952e-05, 0.00000000e+00]],\n",
              "\n",
              "       [[0.00000000e+00, 0.00000000e+00, 5.91236736e-03, 0.00000000e+00],\n",
              "        [0.00000000e+00, 0.00000000e+00, 5.39298157e-02, 0.00000000e+00],\n",
              "        [0.00000000e+00, 0.00000000e+00, 8.99113154e-02, 0.00000000e+00],\n",
              "        [0.00000000e+00, 0.00000000e+00, 6.76486772e-02, 0.00000000e+00],\n",
              "        [0.00000000e+00, 0.00000000e+00, 5.96341933e-05, 0.00000000e+00]],\n",
              "\n",
              "       ...,\n",
              "\n",
              "       [[1.50594407e-03, 1.30633397e-03, 7.24988873e-04, 0.00000000e+00],\n",
              "        [8.30008779e-02, 8.69916490e-02, 9.64695275e-02, 0.00000000e+00],\n",
              "        [3.55220352e-03, 3.85698852e-03, 7.25657814e-03, 0.00000000e+00],\n",
              "        [4.73067170e-04, 9.29100381e-04, 1.25417073e-03, 0.00000000e+00],\n",
              "        [8.54590255e-04, 2.32940996e-03, 1.06360953e-03, 0.00000000e+00]],\n",
              "\n",
              "       [[1.50081902e-03, 1.30145722e-03, 7.20926087e-04, 0.00000000e+00],\n",
              "        [8.29795976e-02, 8.69718709e-02, 9.64488626e-02, 0.00000000e+00],\n",
              "        [3.56964030e-03, 3.87221529e-03, 7.27054294e-03, 0.00000000e+00],\n",
              "        [4.73200698e-04, 9.29222499e-04, 1.25423365e-03, 0.00000000e+00],\n",
              "        [8.54939852e-04, 2.32961900e-03, 1.06397237e-03, 0.00000000e+00]],\n",
              "\n",
              "       [[1.49588929e-03, 1.29676711e-03, 7.17021391e-04, 0.00000000e+00],\n",
              "        [8.29620385e-02, 8.69559194e-02, 9.64322915e-02, 0.00000000e+00],\n",
              "        [3.58709992e-03, 3.88748242e-03, 7.28467296e-03, 0.00000000e+00],\n",
              "        [4.73362157e-04, 9.29388684e-04, 1.25435112e-03, 0.00000000e+00],\n",
              "        [8.55352675e-04, 2.32994355e-03, 1.06440739e-03, 0.00000000e+00]]])</pre></div></li><li class='xr-var-item'><div class='xr-var-name'><span>trcr</span></div><div class='xr-var-dims'>(time, ntrcr, ni)</div><div class='xr-var-dtype'>float64</div><div class='xr-var-preview xr-preview'>-1.905 -7.001 -8.812 ... 0.0 0.0</div><input id='attrs-f406a52c-46af-4677-92b6-c84d74e81b5f' class='xr-var-attrs-in' type='checkbox' disabled><label for='attrs-f406a52c-46af-4677-92b6-c84d74e81b5f' title='Show/Hide attributes'><svg class='icon xr-icon-file-text2'><use xlink:href='#icon-file-text2'></use></svg></label><input id='data-14b835b8-974e-4f08-b1cc-523084d5d5fa' class='xr-var-data-in' type='checkbox'><label for='data-14b835b8-974e-4f08-b1cc-523084d5d5fa' title='Show/Hide data repr'><svg class='icon xr-icon-database'><use xlink:href='#icon-database'></use></svg></label><div class='xr-var-attrs'><dl class='xr-attrs'></dl></div><div class='xr-var-data'><pre>array([[[-1.90458265e+00, -7.00141544e+00, -8.81189691e+00,\n",
              "          0.00000000e+00],\n",
              "        [ 0.00000000e+00, -3.22846016e+08, -3.23746886e+08,\n",
              "          0.00000000e+00],\n",
              "        [ 0.00000000e+00, -3.19089350e+08, -3.19184047e+08,\n",
              "          0.00000000e+00],\n",
              "        ...,\n",
              "        [ 0.00000000e+00,  1.75739763e-09,  0.00000000e+00,\n",
              "          0.00000000e+00],\n",
              "        [ 0.00000000e+00,  1.40591811e-09,  0.00000000e+00,\n",
              "          0.00000000e+00],\n",
              "        [ 0.00000000e+00,  0.00000000e+00,  0.00000000e+00,\n",
              "          0.00000000e+00]],\n",
              "\n",
              "       [[-1.90458265e+00, -6.19472562e+00, -7.85389714e+00,\n",
              "          0.00000000e+00],\n",
              "        [ 0.00000000e+00, -3.21766333e+08, -3.23603103e+08,\n",
              "          0.00000000e+00],\n",
              "        [ 0.00000000e+00, -3.18913418e+08, -3.19138390e+08,\n",
              "          0.00000000e+00],\n",
              "...\n",
              "        [ 1.56534699e-09,  1.11107664e-10,  2.15316842e-09,\n",
              "          0.00000000e+00],\n",
              "        [ 4.47025200e-10,  7.56792032e-10,  9.44162729e-10,\n",
              "          0.00000000e+00],\n",
              "        [ 0.00000000e+00,  0.00000000e+00,  0.00000000e+00,\n",
              "          0.00000000e+00]],\n",
              "\n",
              "       [[-3.09706080e+01, -3.10315474e+01, -3.11428882e+01,\n",
              "          0.00000000e+00],\n",
              "        [-3.19656572e+08, -3.19326278e+08, -3.18602410e+08,\n",
              "          0.00000000e+00],\n",
              "        [-3.14324842e+08, -3.13857088e+08, -3.13726874e+08,\n",
              "          0.00000000e+00],\n",
              "        ...,\n",
              "        [ 1.27825972e-10,  1.21195591e-09,  2.47497387e-09,\n",
              "          0.00000000e+00],\n",
              "        [ 1.69830506e-10,  1.06654395e-09,  4.53881619e-10,\n",
              "          0.00000000e+00],\n",
              "        [ 0.00000000e+00,  0.00000000e+00,  0.00000000e+00,\n",
              "          0.00000000e+00]]])</pre></div></li><li class='xr-var-item'><div class='xr-var-name'><span>trcrn</span></div><div class='xr-var-dims'>(time, ncat, ntrcr, ni)</div><div class='xr-var-dtype'>float64</div><div class='xr-var-preview xr-preview'>-1.905 -1.905 -8.914 ... 0.0 0.0</div><input id='attrs-70af7f3e-7046-461e-948a-16d734335d10' class='xr-var-attrs-in' type='checkbox' disabled><label for='attrs-70af7f3e-7046-461e-948a-16d734335d10' title='Show/Hide attributes'><svg class='icon xr-icon-file-text2'><use xlink:href='#icon-file-text2'></use></svg></label><input id='data-90fb1740-5d72-4f5c-bf62-e97a91c266dd' class='xr-var-data-in' type='checkbox'><label for='data-90fb1740-5d72-4f5c-bf62-e97a91c266dd' title='Show/Hide data repr'><svg class='icon xr-icon-database'><use xlink:href='#icon-database'></use></svg></label><div class='xr-var-attrs'><dl class='xr-attrs'></dl></div><div class='xr-var-data'><pre>array([[[[-1.90458265e+00, -1.90458265e+00, -8.91403009e+00,\n",
              "          -1.90458265e+00],\n",
              "         [ 0.00000000e+00,  0.00000000e+00, -3.21642831e+08,\n",
              "           0.00000000e+00],\n",
              "         [ 0.00000000e+00,  0.00000000e+00, -3.17933949e+08,\n",
              "           0.00000000e+00],\n",
              "         ...,\n",
              "         [ 0.00000000e+00,  0.00000000e+00,  0.00000000e+00,\n",
              "           0.00000000e+00],\n",
              "         [ 0.00000000e+00,  0.00000000e+00,  0.00000000e+00,\n",
              "           0.00000000e+00],\n",
              "         [ 0.00000000e+00,  0.00000000e+00,  0.00000000e+00,\n",
              "           0.00000000e+00]],\n",
              "\n",
              "        [[-1.90458265e+00, -1.90458265e+00, -8.83476009e+00,\n",
              "          -1.90458265e+00],\n",
              "         [ 0.00000000e+00,  0.00000000e+00, -3.23529417e+08,\n",
              "           0.00000000e+00],\n",
              "         [ 0.00000000e+00,  0.00000000e+00, -3.19151919e+08,\n",
              "           0.00000000e+00],\n",
              "...\n",
              "         [ 2.61486717e-03,  6.22697473e-08,  0.00000000e+00,\n",
              "           0.00000000e+00],\n",
              "         [ 3.59987741e-10,  2.93881897e-10,  0.00000000e+00,\n",
              "           0.00000000e+00],\n",
              "         [ 0.00000000e+00,  0.00000000e+00,  0.00000000e+00,\n",
              "           0.00000000e+00]],\n",
              "\n",
              "        [[-3.32954438e+01, -3.32779990e+01, -3.34675716e+01,\n",
              "          -1.90458265e+00],\n",
              "         [-3.24875879e+08, -3.24210823e+08, -3.22812605e+08,\n",
              "           0.00000000e+00],\n",
              "         [-3.15461369e+08, -3.13322453e+08, -3.14291494e+08,\n",
              "           0.00000000e+00],\n",
              "         ...,\n",
              "         [ 0.00000000e+00,  1.72635150e-04,  0.00000000e+00,\n",
              "           0.00000000e+00],\n",
              "         [ 0.00000000e+00,  6.41386134e-10,  0.00000000e+00,\n",
              "           0.00000000e+00],\n",
              "         [ 0.00000000e+00,  0.00000000e+00,  0.00000000e+00,\n",
              "           0.00000000e+00]]]])</pre></div></li></ul></div></li><li class='xr-section-item'><input id='section-18fca9ba-2353-4e6f-a688-4d736ba80010' class='xr-section-summary-in' type='checkbox'  ><label for='section-18fca9ba-2353-4e6f-a688-4d736ba80010' class='xr-section-summary' >Indexes: <span>(4)</span></label><div class='xr-section-inline-details'></div><div class='xr-section-details'><ul class='xr-var-list'><li class='xr-var-item'><div class='xr-index-name'><div>ni</div></div><div class='xr-index-preview'>PandasIndex</div><div></div><input id='index-4bb611ee-084a-487c-8309-d030710fcfa6' class='xr-index-data-in' type='checkbox'/><label for='index-4bb611ee-084a-487c-8309-d030710fcfa6' title='Show/Hide index repr'><svg class='icon xr-icon-database'><use xlink:href='#icon-database'></use></svg></label><div class='xr-index-data'><pre>PandasIndex(Index([1, 2, 3, 4], dtype=&#x27;int32&#x27;, name=&#x27;ni&#x27;))</pre></div></li><li class='xr-var-item'><div class='xr-index-name'><div>ncat</div></div><div class='xr-index-preview'>PandasIndex</div><div></div><input id='index-435108b4-c6b6-43c3-9823-0511ce5074ae' class='xr-index-data-in' type='checkbox'/><label for='index-435108b4-c6b6-43c3-9823-0511ce5074ae' title='Show/Hide index repr'><svg class='icon xr-icon-database'><use xlink:href='#icon-database'></use></svg></label><div class='xr-index-data'><pre>PandasIndex(Index([1, 2, 3, 4, 5], dtype=&#x27;int32&#x27;, name=&#x27;ncat&#x27;))</pre></div></li><li class='xr-var-item'><div class='xr-index-name'><div>ntrcr</div></div><div class='xr-index-preview'>PandasIndex</div><div></div><input id='index-e244b432-1617-4aa4-ac54-1136705724b1' class='xr-index-data-in' type='checkbox'/><label for='index-e244b432-1617-4aa4-ac54-1136705724b1' title='Show/Hide index repr'><svg class='icon xr-icon-database'><use xlink:href='#icon-database'></use></svg></label><div class='xr-index-data'><pre>PandasIndex(Index([1, 2, 3, 4, 5, 6, 7, 8, 9, 10, 11, 12, 13, 14, 15, 16, 17, 18, 19, 20,\n",
              "       21],\n",
              "      dtype=&#x27;int32&#x27;, name=&#x27;ntrcr&#x27;))</pre></div></li><li class='xr-var-item'><div class='xr-index-name'><div>time</div></div><div class='xr-index-preview'>PandasIndex</div><div></div><input id='index-119b550b-346f-4960-9b2c-d7ecdaad74c5' class='xr-index-data-in' type='checkbox'/><label for='index-119b550b-346f-4960-9b2c-d7ecdaad74c5' title='Show/Hide index repr'><svg class='icon xr-icon-database'><use xlink:href='#icon-database'></use></svg></label><div class='xr-index-data'><pre>PandasIndex(Index([     1,      2,      3,      4,      5,      6,      7,      8,      9,\n",
              "           10,\n",
              "       ...\n",
              "       166431, 166432, 166433, 166434, 166435, 166436, 166437, 166438, 166439,\n",
              "       166440],\n",
              "      dtype=&#x27;int64&#x27;, name=&#x27;time&#x27;, length=166440))</pre></div></li></ul></div></li><li class='xr-section-item'><input id='section-d8b7a94d-ae44-47a1-8ded-668710c27acd' class='xr-section-summary-in' type='checkbox' disabled ><label for='section-d8b7a94d-ae44-47a1-8ded-668710c27acd' class='xr-section-summary'  title='Expand/collapse section'>Attributes: <span>(0)</span></label><div class='xr-section-inline-details'></div><div class='xr-section-details'><dl class='xr-attrs'></dl></div></li></ul></div></div>"
            ]
          },
          "metadata": {},
          "execution_count": 4
        }
      ]
    },
    {
      "cell_type": "code",
      "execution_count": 42,
      "metadata": {
        "id": "Clr7LKjnwDBy"
      },
      "outputs": [],
      "source": [
        "data = combined_ds\n",
        "input_vars = [\"vice\", \"sst\", \"sss\", \"Tair\", \"Qa\", \"frain\", \"fsnow\", \"flw\", \"fsw\"]\n",
        "data_x = []\n",
        "for var in input_vars:\n",
        "    data_x += [data[var].values[:-1, 2]]\n",
        "\n",
        "data_y = data.vice.values[1:,2] - data.vice.values[:-1,2]"
      ]
    },
    {
      "cell_type": "markdown",
      "metadata": {
        "id": "rHKi0pLpwDB3"
      },
      "source": [
        "## Partitioning Data"
      ]
    },
    {
      "cell_type": "code",
      "execution_count": 7,
      "metadata": {
        "colab": {
          "base_uri": "https://localhost:8080/"
        },
        "id": "INyOniVDwDB4",
        "outputId": "3517da0d-2865-43ab-e3fb-2fc58b0eba58"
      },
      "outputs": [
        {
          "output_type": "stream",
          "name": "stdout",
          "text": [
            "Train, first and last:  [0, 166438]\n",
            "Validation, first and last:  [240, 166271]\n",
            "Test, first and last:  [288, 166319]\n",
            "Train set size:  118919\n",
            "Validation set size:  23760\n",
            "Test set size:  23760\n",
            "Sum of sizes: 166439\n"
          ]
        }
      ],
      "source": [
        "num_t = len(data_x[0])\n",
        "ind = np.arange(num_t)\n",
        "train_prop, val_prop, test_prop = 0.7, 0.15, 0.15\n",
        "\n",
        "# 10 days train, 2 days validation, 2 days test\n",
        "index_train = [i for i in ind if i % (14 * 24) in np.arange(10 * 24)]\n",
        "index_val = [i for i in ind if i % (14 * 24) in np.arange(10 * 24, 12 * 24)]\n",
        "index_test = [i for i in ind if i % (14 * 24) in np.arange(12 * 24, 14 * 24)]\n",
        "\n",
        "print(\"Train, first and last: \", [index_train[0], index_train[-1]])\n",
        "print(\"Validation, first and last: \", [index_val[0], index_val[-1]])\n",
        "print(\"Test, first and last: \", [index_test[0], index_test[-1]])\n",
        "print(\"Train set size: \", len(index_train))\n",
        "print(\"Validation set size: \", len(index_val))\n",
        "print(\"Test set size: \", len(index_test))\n",
        "print(\"Sum of sizes:\", sum([len(index_train), len(index_val), len(index_test)]))\n",
        "\n",
        "# shuffle training and validation sets in place\n",
        "random.shuffle(index_train)\n",
        "random.shuffle(index_val)"
      ]
    },
    {
      "cell_type": "markdown",
      "metadata": {
        "id": "QCHodKmYwDB9"
      },
      "source": [
        "### Creating Training Set"
      ]
    },
    {
      "cell_type": "code",
      "source": [
        "epsilon = 1e-8  # Small constant\n",
        "lnorm = True\n",
        "lbatch = False"
      ],
      "metadata": {
        "id": "aiJinQLemWuQ"
      },
      "execution_count": 43,
      "outputs": []
    },
    {
      "cell_type": "code",
      "execution_count": 44,
      "metadata": {
        "id": "kmRaZbqewDCA"
      },
      "outputs": [],
      "source": [
        "n = len(index_train)\n",
        "x = torch.ones(n,9)\n",
        "y = torch.ones(n,1)\n",
        "for i in range(n):\n",
        "    for j in range(9):\n",
        "        x[i][j]= data_x[j][index_train[i]]\n",
        "    y[i] = data_y[index_train[i]]\n",
        "\n",
        "#y = (y - torch.mean(y)) / (torch.std(y) + epsilon)"
      ]
    },
    {
      "cell_type": "code",
      "source": [
        "if lnorm:\n",
        "    std = []\n",
        "    mean = []\n",
        "\n",
        "    for i in range(9):\n",
        "        std.append(torch.std(x[:,i]))\n",
        "        mean.append(torch.mean(x[:,i]))\n",
        "        x[:,i] = (x[:,i] - mean[i]) / (std[i] + epsilon)"
      ],
      "metadata": {
        "id": "kAaI0tvki32o"
      },
      "execution_count": 45,
      "outputs": []
    },
    {
      "cell_type": "markdown",
      "metadata": {
        "id": "ukeuW01swDCD"
      },
      "source": [
        "### Creating Validation Set"
      ]
    },
    {
      "cell_type": "code",
      "execution_count": 46,
      "metadata": {
        "id": "PObj4VY7wDCI"
      },
      "outputs": [],
      "source": [
        "n = len(index_val)\n",
        "x_val = torch.ones(n,9)\n",
        "y_val = torch.ones(n,1)\n",
        "for i in range(n):\n",
        "    for j in range(9):\n",
        "        x_val[i][j]= data_x[j][index_val[i]]\n",
        "    y_val[i] = data_y[index_val[i]]\n",
        "\n",
        "#y_val = (y_val - torch.mean(y_val)) / (torch.std(y_val) + epsilon)"
      ]
    },
    {
      "cell_type": "code",
      "source": [
        "if lnorm:\n",
        "    std_val = std\n",
        "    mean_val = mean\n",
        "\n",
        "    for i in range(9):\n",
        "    #    std_val.append(torch.std(x_val[:,i]))\n",
        "    #    mean_val.append(torch.mean(x_val[:,i]))\n",
        "        x_val[:,i] = (x_val[:,i] - mean_val[i]) / (std_val[i] + epsilon)"
      ],
      "metadata": {
        "id": "m1g8cu_NkGxY"
      },
      "execution_count": 47,
      "outputs": []
    },
    {
      "cell_type": "markdown",
      "metadata": {
        "id": "aWLFwrCGwDCM"
      },
      "source": [
        "Check if normalized or not:"
      ]
    },
    {
      "cell_type": "code",
      "execution_count": 48,
      "metadata": {
        "colab": {
          "base_uri": "https://localhost:8080/"
        },
        "id": "RnjnT5DJwDCN",
        "outputId": "9551efc6-9846-4833-d1dd-0edb6ab80d81"
      },
      "outputs": [
        {
          "output_type": "stream",
          "name": "stdout",
          "text": [
            "tensor(-1.2715) tensor(2.7319)\n"
          ]
        }
      ],
      "source": [
        "print(min(x[:,0]), max(x[:,0]))"
      ]
    },
    {
      "cell_type": "code",
      "source": [
        "import torch.utils.data as Data"
      ],
      "metadata": {
        "id": "Jry8v03x0xkv"
      },
      "execution_count": 49,
      "outputs": []
    },
    {
      "cell_type": "code",
      "source": [
        "# CAN PLAY AROUND W/ # OF BATCHES/BATCH SIZES\n",
        "n_batches = 4\n",
        "BATCH_SIZE = int(np.floor(len(x) / n_batches))\n",
        "print(BATCH_SIZE)\n",
        "\n",
        "local_dataset = Data.TensorDataset(x,y)\n",
        "\n",
        "local_loader_train = Data.DataLoader(\n",
        "    dataset=local_dataset, batch_size=BATCH_SIZE, shuffle=True\n",
        ")"
      ],
      "metadata": {
        "colab": {
          "base_uri": "https://localhost:8080/"
        },
        "id": "stgexIcj00ES",
        "outputId": "9dad901c-19e3-48ba-a299-b237cb031dac"
      },
      "execution_count": 50,
      "outputs": [
        {
          "output_type": "stream",
          "name": "stdout",
          "text": [
            "29729\n"
          ]
        }
      ]
    },
    {
      "cell_type": "code",
      "source": [
        "local_dataset_val = Data.TensorDataset(x_val,y_val)\n",
        "\n",
        "local_loader_val = Data.DataLoader(\n",
        "    dataset=local_dataset_val, batch_size=BATCH_SIZE, shuffle=False\n",
        ")"
      ],
      "metadata": {
        "id": "jku6VLEP05bC"
      },
      "execution_count": 51,
      "outputs": []
    },
    {
      "cell_type": "markdown",
      "metadata": {
        "id": "_CnMAwoywDCQ"
      },
      "source": [
        "# Defintion Neural Network"
      ]
    },
    {
      "cell_type": "code",
      "execution_count": 52,
      "metadata": {
        "id": "kSOTWAN_wDCR"
      },
      "outputs": [],
      "source": [
        "class Simple_Neural_Net(nn.Module):\n",
        "    def __init__(self):\n",
        "        super().__init__()\n",
        "        self.Dense1 = nn.Linear(9, 30)\n",
        "        self.Dense2 = nn.Linear(30, 30)\n",
        "        self.Dense3 = nn.Linear(30, 1)\n",
        "\n",
        "        self.relu = nn.ReLU()\n",
        "\n",
        "    def forward(self, x):\n",
        "        # This method is automatically executed when\n",
        "        # we call a object of this class\n",
        "        x = self.Dense1(x)\n",
        "        x = self.relu(x)\n",
        "        x = self.Dense2(x)\n",
        "        x = self.relu(x)\n",
        "        x = self.Dense3(x)\n",
        "\n",
        "        return x\n",
        "\n",
        "class FCNN(nn.Module):\n",
        "    def __init__(self):\n",
        "        super().__init__()\n",
        "        self.linear1 = nn.Linear(9, 30)\n",
        "        self.linear2 = nn.Linear(30, 40)\n",
        "        self.linear3 = nn.Linear(40, 20)\n",
        "        self.linear4 = nn.Linear(20, 1)\n",
        "\n",
        "        self.relu = nn.ReLU()\n",
        "\n",
        "    def forward(self, x):\n",
        "        x = self.relu(self.linear1(x))\n",
        "        x = self.relu(self.linear2(x))\n",
        "        x = self.relu(self.linear3(x))\n",
        "        x = self.linear4(x)\n",
        "        return x\n"
      ]
    },
    {
      "cell_type": "code",
      "execution_count": 53,
      "metadata": {
        "id": "a1X-FCG_wDCT"
      },
      "outputs": [],
      "source": [
        "#neural_net = Simple_Neural_Net()"
      ]
    },
    {
      "cell_type": "code",
      "execution_count": 54,
      "metadata": {
        "id": "bobecfFZwDCU"
      },
      "outputs": [],
      "source": [
        "neural_net = FCNN()"
      ]
    },
    {
      "cell_type": "code",
      "execution_count": 55,
      "metadata": {
        "id": "Jx4bLt5qwDCW"
      },
      "outputs": [],
      "source": [
        "# Here we use the Adam optimizer.\n",
        "learning_rate = 0.001 #0.005\n",
        "optimizer = torch.optim.Adam(neural_net.parameters())"
      ]
    },
    {
      "cell_type": "code",
      "execution_count": 56,
      "metadata": {
        "id": "ga69oFA1wDCY"
      },
      "outputs": [],
      "source": [
        "# MSE loss function\n",
        "loss_fn = torch.nn.MSELoss()"
      ]
    },
    {
      "cell_type": "markdown",
      "metadata": {
        "id": "z4ykAmMGwDCZ"
      },
      "source": [
        "# Training"
      ]
    },
    {
      "cell_type": "code",
      "execution_count": 57,
      "metadata": {
        "id": "zi_SJUiWwDCa"
      },
      "outputs": [],
      "source": [
        "def train_step(model, loss_fn, optimizer):\n",
        "    model.train()\n",
        "    # Set the model to training mode - important for batch normalization and dropout layers\n",
        "    # Unnecessary in this situation but added for best practices\n",
        "\n",
        "    pred = model(x)\n",
        "    loss = loss_fn(pred, y)\n",
        "\n",
        "    # Backpropagation\n",
        "    loss.backward()\n",
        "    optimizer.step()\n",
        "    optimizer.zero_grad()\n",
        "\n",
        "    loss = loss.item()\n",
        "    return loss"
      ]
    },
    {
      "cell_type": "code",
      "source": [
        "def train_step_batch(model, loss_fn, optimizer, loader):\n",
        "    model.train()\n",
        "    train_loss = 0\n",
        "    for batch_x, batch_y in loader:\n",
        "        # Get predictions\n",
        "        if len(batch_x.shape) == 1:\n",
        "            # This if block is needed to add a dummy dimension if our inputs are 1D\n",
        "            # (where each number is a different sample)\n",
        "            prediction = torch.squeeze(model(torch.unsqueeze(batch_x, 1)))\n",
        "        else:\n",
        "            prediction = model(batch_x)\n",
        "\n",
        "        # Compute the loss\n",
        "        loss = loss_fn(prediction, batch_y)\n",
        "        train_loss += loss.item()\n",
        "\n",
        "        # Clear the gradients\n",
        "        optimizer.zero_grad()\n",
        "\n",
        "        # Backpropagation to compute the gradients and update the weights\n",
        "        loss.backward()\n",
        "        optimizer.step()\n",
        "\n",
        "    return train_loss / len(loader)"
      ],
      "metadata": {
        "id": "H55oWVjK1CCM"
      },
      "execution_count": 58,
      "outputs": []
    },
    {
      "cell_type": "code",
      "execution_count": 59,
      "metadata": {
        "id": "AHxtMCtNwDCc"
      },
      "outputs": [],
      "source": [
        "def validate_step(model, loss_fn):\n",
        "    # Set the model to training mode - important for batch normalization and dropout layers\n",
        "    # Unnecessary in this situation but added for best practices\n",
        "\n",
        "    pred = model(x_val)\n",
        "    loss = loss_fn(pred, y_val)\n",
        "\n",
        "    loss = loss.item()\n",
        "    return loss"
      ]
    },
    {
      "cell_type": "code",
      "source": [
        "def validate_step_batch(model, loss_fn, loader):\n",
        "    model.eval()  # Evaluation mode (important when having dropout layers)\n",
        "\n",
        "    val_loss = 0\n",
        "    with torch.no_grad():\n",
        "        for batch_x, batch_y in loader:\n",
        "            # Get predictions\n",
        "            if len(batch_x.shape) == 1:\n",
        "                # This if block is needed to add a dummy dimension if our inputs are 1D\n",
        "                # (where each number is a different sample)\n",
        "                prediction = torch.squeeze(model(torch.unsqueeze(batch_x, 1)))\n",
        "            else:\n",
        "                prediction = model(batch_x)\n",
        "\n",
        "            # Compute the loss\n",
        "            loss = loss_fn(prediction, batch_y)\n",
        "            val_loss += loss.item()\n",
        "\n",
        "        # Get an average loss for the entire dataset\n",
        "        val_loss /= len(loader)\n",
        "\n",
        "    return val_loss"
      ],
      "metadata": {
        "id": "0d00-owe1HA-"
      },
      "execution_count": 60,
      "outputs": []
    },
    {
      "cell_type": "code",
      "execution_count": 61,
      "metadata": {
        "colab": {
          "base_uri": "https://localhost:8080/"
        },
        "id": "XaGzavTOwDCc",
        "outputId": "647fc460-2efc-4a8b-df1d-9e6f27dd5e61"
      },
      "outputs": [
        {
          "output_type": "stream",
          "name": "stdout",
          "text": [
            "Loss at Epoch 1 is  0.004535127896815538\n",
            "Loss at Epoch 201 is  8.935952791944146e-05\n",
            "Loss at Epoch 401 is  8.717455057194456e-05\n",
            "Loss at Epoch 601 is  8.650546078570187e-05\n",
            "Loss at Epoch 801 is  8.620866719866171e-05\n"
          ]
        }
      ],
      "source": [
        "if lbatch:\n",
        "    # TRAIN MODEL, WITH BATCHES\n",
        "    epochs = 1000\n",
        "    Loss = np.zeros(epochs)\n",
        "    V_Loss = np.zeros(epochs)\n",
        "    for t in range(epochs):\n",
        "        Loss[t] = train_step_batch(neural_net, loss_fn, optimizer, local_loader_train)\n",
        "        V_Loss[t] = validate_step_batch(neural_net, loss_fn, local_loader_val)\n",
        "        if np.mod(t, 200) == 0:\n",
        "            print(f\"Loss at Epoch {t+1} is \", Loss[t])\n",
        "else:\n",
        "    epochs = 1000\n",
        "    Loss = np.zeros(epochs)\n",
        "    V_Loss = np.zeros(epochs)\n",
        "    for t in range(epochs):\n",
        "        Loss[t] = train_step(neural_net, loss_fn, optimizer)\n",
        "        V_Loss[t] = validate_step(neural_net, loss_fn)\n",
        "        if np.mod(t, 200) == 0:\n",
        "\n",
        "            print(f\"Loss at Epoch {t+1} is \", Loss[t])"
      ]
    },
    {
      "cell_type": "code",
      "execution_count": 62,
      "metadata": {
        "colab": {
          "base_uri": "https://localhost:8080/",
          "height": 695
        },
        "id": "FMi5nxaVwDCd",
        "outputId": "bd69aae1-02ed-48dc-a3f5-ada56ff71de0"
      },
      "outputs": [
        {
          "output_type": "display_data",
          "data": {
            "text/plain": [
              "<Figure size 960x720 with 1 Axes>"
            ],
            "image/png": "[encoded data removed]"
          },
          "metadata": {}
        }
      ],
      "source": [
        "plt.figure(dpi=150)\n",
        "plt.plot(Loss, label = \"Training\")\n",
        "plt.plot(V_Loss, label = \"Validation\")\n",
        "plt.xlabel(\"Iteration\")\n",
        "plt.ylabel(\"Loss\")\n",
        "plt.yscale(\"log\")\n",
        "plt.title(\"Loss vs Iteration\")\n",
        "plt.legend()\n",
        "plt.show()"
      ]
    },
    {
      "cell_type": "markdown",
      "metadata": {
        "id": "iH7Xh3R2wDCf"
      },
      "source": [
        "# Testing"
      ]
    },
    {
      "cell_type": "markdown",
      "metadata": {
        "id": "NVWrFaupwDCh"
      },
      "source": [
        "### Creating Test-Data-Set"
      ]
    },
    {
      "cell_type": "code",
      "source": [
        "data_t = xr.open_dataset(\"/content/drive/MyDrive/ictp2024_icepack_project/testing/Arctic.0it.20120101.nc\", decode_times=False)"
      ],
      "metadata": {
        "id": "b1PpZN8iXLZy"
      },
      "execution_count": 63,
      "outputs": []
    },
    {
      "cell_type": "code",
      "source": [
        "len(data_t.time)"
      ],
      "metadata": {
        "colab": {
          "base_uri": "https://localhost:8080/"
        },
        "id": "v8BoKDBUVSeY",
        "outputId": "fa1bfbb5-6185-4e45-e49b-40bf7b6eb920"
      },
      "execution_count": 64,
      "outputs": [
        {
          "output_type": "execute_result",
          "data": {
            "text/plain": [
              "8760"
            ]
          },
          "metadata": {},
          "execution_count": 64
        }
      ]
    },
    {
      "cell_type": "code",
      "source": [
        "n = 8000 #len(data_t.time)\n",
        "y_ml_pred = torch.zeros(n+1)\n",
        "xt = torch.ones(n,9)\n",
        "\n",
        "data_xt = []\n",
        "for var in input_vars:\n",
        "    data_xt += [data_t[var].values[:n, 2]]\n",
        "\n",
        "for i in range(n):\n",
        "    for j in range(9):\n",
        "        xt[i][j]= data_xt[j][i]\n",
        "\n",
        "if lnorm:\n",
        "    std_t = std\n",
        "    mean_t = mean\n",
        "\n",
        "    for i in range(9):\n",
        "        #std_t.append(torch.std(xt[:,i]))\n",
        "        #mean_t.append(torch.mean(xt[:,i]))\n",
        "        #if i > 0:\n",
        "        xt[:,i] = (xt[:,i] - mean_t[i]) / (std_t[i] + epsilon)\n",
        "\n",
        "# Generate some points where the predictions of the model will be tested.\n",
        "# Here we pick the testing domain to be larger than the training domain to check if the model\n",
        "# has any skill at extrapolation.\n",
        "\n",
        "y_ml_pred = torch.zeros(n+1)\n",
        "x_test = torch.ones(9)\n",
        "for i in range(n):\n",
        "    for j in range (1,9):  # to avoid writing in the place of predicted field\n",
        "        x_test[j] = xt[i,j]\n",
        "    if i == 0:\n",
        "        x_test[0] = xt[0,0]\n",
        "    else:\n",
        "        x_test[0] = (xt[i-1,0] + pred - mean[0]) / (std[0] + epsilon)\n",
        "    pred = neural_net(x_test).detach().numpy()\n",
        "    pred = torch.from_numpy(pred)\n",
        "    y_ml_pred[i+1] = pred\n",
        "\n",
        "# store icepack output for comparison with predicted result\n",
        "y_test = data_t.vice.values[1:,2] - data_t.vice.values[:-1,2]\n",
        "#y_test = (y_test - np.mean(y_test)) / (np.std(y_test) + epsilon)"
      ],
      "metadata": {
        "id": "A0jzttZnYTeS"
      },
      "execution_count": 72,
      "outputs": []
    },
    {
      "cell_type": "code",
      "execution_count": 73,
      "metadata": {
        "id": "YZ-w_W1mwDCi"
      },
      "outputs": [],
      "source": [
        "if False:\n",
        "  n = len(index_test)\n",
        "  xt = torch.ones(n,9)\n",
        "  for i in range(n):\n",
        "      for j in range(9):\n",
        "          xt[i][j]= data_x[j][index_test[i]]"
      ]
    },
    {
      "cell_type": "code",
      "execution_count": 74,
      "metadata": {
        "id": "dL8C1LUKwDCj"
      },
      "outputs": [],
      "source": [
        "if False:\n",
        "  plt.figure(dpi=150)\n",
        "  plt.plot(xt[:,0], \".\",markersize=0.5, label=\"test_norm\")\n",
        "\n",
        "  plt.legend()"
      ]
    },
    {
      "cell_type": "code",
      "execution_count": 75,
      "metadata": {
        "id": "1R1RSuSywDCl"
      },
      "outputs": [],
      "source": [
        "if False:\n",
        "  # Generate some points where the predictions of the model will be tested.\n",
        "  # Here we pick the testing domain to be larger than the training domain to check if the model\n",
        "  # has any skill at extrapolation.\n",
        "\n",
        "  y_ml_pred = torch.zeros(len(index_test)+1)\n",
        "  x_test = torch.ones(9)\n",
        "  for i in range(len(index_test)):\n",
        "      for j in range (1,9):  # to avoid writing in the place of predicted field\n",
        "          x_test[j] = xt[i,j]\n",
        "      if i == 0:\n",
        "          x_test[0] = xt[0,0]\n",
        "      else:\n",
        "          x_test[0] = (pred - mean[0]) / (std[0] + epsilon)\n",
        "      pred = neural_net(x_test).detach().numpy()\n",
        "      pred = torch.from_numpy(pred)\n",
        "      y_ml_pred[i+1] = pred\n",
        "\n",
        "  # store icepack output for comparison with predicted result\n",
        "  y_test = torch.ones(len(index_test))\n",
        "  for i in range(len(index_test)):\n",
        "      y_test[i] = data_y[index_test[i]] #- data_y[index_test[i-1]]"
      ]
    },
    {
      "cell_type": "code",
      "source": [
        "#y_ml_pred\n",
        "y_tice_pred ="
      ],
      "metadata": {
        "id": "XMt-N2ankhyS"
      },
      "execution_count": null,
      "outputs": []
    },
    {
      "cell_type": "markdown",
      "metadata": {
        "id": "Jx74MGxIwDCm"
      },
      "source": [
        "## Comparing prediction to ICEPACK-Data"
      ]
    },
    {
      "cell_type": "code",
      "execution_count": 77,
      "metadata": {
        "colab": {
          "base_uri": "https://localhost:8080/",
          "height": 652
        },
        "id": "MPOnnTD7wDCn",
        "outputId": "f9845978-2382-4fce-f752-213e8914c006"
      },
      "outputs": [
        {
          "output_type": "execute_result",
          "data": {
            "text/plain": [
              "<matplotlib.legend.Legend at 0x78fc7af3a860>"
            ]
          },
          "metadata": {},
          "execution_count": 77
        },
        {
          "output_type": "display_data",
          "data": {
            "text/plain": [
              "<Figure size 960x720 with 1 Axes>"
            ],
            "image/png": "[encoded data removed]"
          },
          "metadata": {}
        }
      ],
      "source": [
        "plt.figure(dpi=150)\n",
        "\n",
        "#plt.plot(y_test, markersize=0.5, label=\"Icepack output\")\n",
        "plt.plot(y_ml_pred, markersize=0.5, label=\"Predicted fit\")\n",
        "plt.xlim(0,n)\n",
        "plt.legend()"
      ]
    },
    {
      "cell_type": "code",
      "source": [
        "plt.figure(dpi=150)\n",
        "\n",
        "plt.plot(y_test, markersize=0.5, label=\"Icepack output\")\n",
        "#plt.plot(y_ml_pred, markersize=0.5, label=\"Predicted fit\")\n",
        "plt.xlim(0,n)\n",
        "plt.legend()"
      ],
      "metadata": {
        "colab": {
          "base_uri": "https://localhost:8080/",
          "height": 652
        },
        "id": "WD1VDjuKjhi8",
        "outputId": "a77fa0f7-572b-4755-d814-08e5bdb5c841"
      },
      "execution_count": 78,
      "outputs": [
        {
          "output_type": "execute_result",
          "data": {
            "text/plain": [
              "<matplotlib.legend.Legend at 0x78fc7b67e680>"
            ]
          },
          "metadata": {},
          "execution_count": 78
        },
        {
          "output_type": "display_data",
          "data": {
            "text/plain": [
              "<Figure size 960x720 with 1 Axes>"
            ],
            "image/png": "[encoded data removed]"
          },
          "metadata": {}
        }
      ]
    },
    {
      "cell_type": "markdown",
      "metadata": {
        "id": "O4ikAk30wDCo"
      },
      "source": [
        "## Difference between prediction and ICEPACK-Data"
      ]
    },
    {
      "cell_type": "code",
      "execution_count": null,
      "metadata": {
        "id": "I9UulL4BwDCp",
        "outputId": "25d2ea75-6d99-46d4-d016-672012b57465"
      },
      "outputs": [
        {
          "data": {
            "image/png": "[encoded data removed]",
            "text/plain": [
              "<Figure size 640x480 with 1 Axes>"
            ]
          },
          "metadata": {},
          "output_type": "display_data"
        }
      ],
      "source": [
        "plt.plot(y_test - pred.flatten(), 'o', markersize=0.5, label = 'Difference');\n",
        "plt.title(\"ICEPACK - Predicted\");\n",
        "plt.legend();"
      ]
    },
    {
      "cell_type": "markdown",
      "metadata": {
        "id": "pvNnNLEcwDCq"
      },
      "source": [
        "# Validation"
      ]
    },
    {
      "cell_type": "code",
      "execution_count": null,
      "metadata": {
        "id": "dGHCajT1wDCr"
      },
      "outputs": [],
      "source": []
    },
    {
      "cell_type": "code",
      "execution_count": null,
      "metadata": {
        "id": "cXKDWt2LwDCs"
      },
      "outputs": [],
      "source": []
    }
  ],
  "metadata": {
    "kernelspec": {
      "display_name": "Python 3 (ipykernel)",
      "language": "python",
      "name": "python3"
    },
    "language_info": {
      "codemirror_mode": {
        "name": "ipython",
        "version": 3
      },
      "file_extension": ".py",
      "mimetype": "text/x-python",
      "name": "python",
      "nbconvert_exporter": "python",
      "pygments_lexer": "ipython3",
      "version": "3.11.5"
    },
    "colab": {
      "provenance": []
    }
  },
  "nbformat": 4,
  "nbformat_minor": 0
}