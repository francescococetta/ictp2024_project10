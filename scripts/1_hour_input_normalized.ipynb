{
  "cells": [
    {
      "cell_type": "code",
      "execution_count": null,
      "metadata": {
        "colab": {
          "base_uri": "https://localhost:8080/"
        },
        "id": "xPiwhFVAwDBk",
        "outputId": "1a16b5d0-2403-477a-d676-fa6c24c36697"
      },
      "outputs": [
        {
          "output_type": "stream",
          "name": "stdout",
          "text": [
            "Mounted at /content/drive/\n"
          ]
        }
      ],
      "source": [
        "# Import machine-learning packages\n",
        "import torch\n",
        "from torch import nn\n",
        "\n",
        "# Import plotting packages\n",
        "from IPython.display import Image, HTML\n",
        "from matplotlib.animation import FuncAnimation\n",
        "import matplotlib.pyplot as plt\n",
        "import time\n",
        "import base64\n",
        "import numpy as np\n",
        "import random\n",
        "\n",
        "%matplotlib inline\n",
        "import xarray as xr\n",
        "from google.colab import drive\n",
        "drive.mount(\"/content/drive/\", force_remount=True)\n",
        "from google.colab import auth\n",
        "auth.authenticate_user()\n",
        "import requests\n",
        "gcloud_token = !gcloud auth print-access-token\n",
        "gcloud_tokeninfo = requests.get('https://www.googleapis.com/oauth2/v3/tokeninfo?access_token=' + gcloud_token[0]).json()"
      ]
    },
    {
      "cell_type": "markdown",
      "metadata": {
        "id": "k5DqaUTwwDBq"
      },
      "source": [
        "# Creating Data-Sets"
      ]
    },
    {
      "cell_type": "code",
      "source": [
        "import glob\n",
        "\n",
        "flist = glob.glob(\"/content/drive/MyDrive/ictp2024_icepack_project/training/*.20110101.nc\")\n",
        "print(flist)"
      ],
      "metadata": {
        "colab": {
          "base_uri": "https://localhost:8080/"
        },
        "id": "Ux4cV6cIwmp5",
        "outputId": "081e136c-849d-47c0-fedc-f817ef81419b"
      },
      "execution_count": null,
      "outputs": [
        {
          "output_type": "stream",
          "name": "stdout",
          "text": [
            "['/content/drive/MyDrive/ictp2024_icepack_project/training/Arctic.sit2.20110101.nc', '/content/drive/MyDrive/ictp2024_icepack_project/training/Arctic.sit1.20110101.nc', '/content/drive/MyDrive/ictp2024_icepack_project/training/Arctic.1it.20110101.nc', '/content/drive/MyDrive/ictp2024_icepack_project/training/Arctic.2it.20110101.nc', '/content/drive/MyDrive/ictp2024_icepack_project/training/Arctic.0it.20110101.nc']\n"
          ]
        }
      ]
    },
    {
      "cell_type": "code",
      "source": [
        "import pandas as pd\n",
        "\n",
        "datasets = []\n",
        "i_init = 1\n",
        "\n",
        "for file_path in flist:\n",
        "    ds = xr.open_dataset(file_path, decode_times=False)\n",
        "    time = ds['time']\n",
        "    time_values = pd.to_datetime(time.values)\n",
        "    new_time_values = [i for i in np.arange(i_init, len(time)+i_init)]\n",
        "    new_time = xr.DataArray(new_time_values, dims='time', coords={'time': new_time_values})\n",
        "    ds = ds.assign_coords(time=new_time)\n",
        "    datasets.append(ds)\n",
        "    i_init += len(time)\n",
        "\n",
        "combined_ds = xr.concat(datasets, dim='time')\n",
        "\n",
        "# Close all datasets\n",
        "for ds in datasets:\n",
        "    ds.close()\n",
        "combined_ds.close()"
      ],
      "metadata": {
        "id": "YfcGEO0c7LKJ"
      },
      "execution_count": null,
      "outputs": []
    },
    {
      "cell_type": "code",
      "source": [
        "combined_ds"
      ],
      "metadata": {
        "colab": {
          "base_uri": "https://localhost:8080/",
          "height": 270
        },
        "id": "yja-lttE8ZOW",
        "outputId": "e43a106f-a7de-42e5-bb51-857ef2405650"
      },
      "execution_count": null,
      "outputs": [
        {
          "output_type": "execute_result",
          "data": {
            "text/plain": [
              "<xarray.Dataset> Size: 243MB\n",
              "Dimensions:   (time: 43800, ni: 4, ncat: 5, ntrcr: 21)\n",
              "Coordinates:\n",
              "  * ni        (ni) int32 16B 1 2 3 4\n",
              "  * ncat      (ncat) int32 20B 1 2 3 4 5\n",
              "  * ntrcr     (ntrcr) int32 84B 1 2 3 4 5 6 7 8 9 ... 13 14 15 16 17 18 19 20 21\n",
              "  * time      (time) int64 350kB 1 2 3 4 5 6 ... 43796 43797 43798 43799 43800\n",
              "Data variables: (12/39)\n",
              "    timestep  (time) int32 175kB 1 2 3 4 5 6 7 ... 8755 8756 8757 8758 8759 8760\n",
              "    date      (time) float64 350kB 2.011e+07 2.011e+07 ... 2.015e+07 2.016e+07\n",
              "    aice      (time, ni) float64 1MB 0.0 0.9999 0.9999 0.0 ... 0.9999 0.9999 0.0\n",
              "    vice      (time, ni) float64 1MB 0.0 2.001 1.795 0.0 ... 0.9966 0.9658 0.0\n",
              "    vsno      (time, ni) float64 1MB 0.0 2.618e-06 0.2175 ... 0.0954 0.1068 0.0\n",
              "    uvel      (time, ni) float64 1MB 0.0 0.0 0.0 0.0 0.0 ... 0.0 0.0 0.0 0.0 0.0\n",
              "    ...        ...\n",
              "    fhocn     (time, ni) float64 1MB 0.0 -7.219 -12.89 0.0 ... -3.198 -3.137 0.0\n",
              "    aicen     (time, ncat, ni) float64 7MB 0.0 0.0 0.09939 ... 0.004224 0.0\n",
              "    vicen     (time, ncat, ni) float64 7MB 0.0 0.0 0.03012 ... 0.02483 0.0\n",
              "    vsnon     (time, ncat, ni) float64 7MB 0.0 0.0 0.005962 ... 0.001064 0.0\n",
              "    trcr      (time, ntrcr, ni) float64 29MB -1.905 -24.05 -29.58 ... 0.0 0.0\n",
              "    trcrn     (time, ncat, ntrcr, ni) float64 147MB -1.905 -1.905 ... 0.0 0.0"
            ],
            "text/html": [
              "<div><svg style=\"position: absolute; width: 0; height: 0; overflow: hidden\">\n",
              "<defs>\n",
              "<symbol id=\"icon-database\" viewBox=\"0 0 32 32\">\n",
              "<path d=\"M16 0c-8.837 0-16 2.239-16 5v4c0 2.761 7.163 5 16 5s16-2.239 16-5v-4c0-2.761-7.163-5-16-5z\"></path>\n",
              "<path d=\"M16 17c-8.837 0-16-2.239-16-5v6c0 2.761 7.163 5 16 5s16-2.239 16-5v-6c0 2.761-7.163 5-16 5z\"></path>\n",
              "<path d=\"M16 26c-8.837 0-16-2.239-16-5v6c0 2.761 7.163 5 16 5s16-2.239 16-5v-6c0 2.761-7.163 5-16 5z\"></path>\n",
              "</symbol>\n",
              "<symbol id=\"icon-file-text2\" viewBox=\"0 0 32 32\">\n",
              "<path d=\"M28.681 7.159c-0.694-0.947-1.662-2.053-2.724-3.116s-2.169-2.030-3.116-2.724c-1.612-1.182-2.393-1.319-2.841-1.319h-15.5c-1.378 0-2.5 1.121-2.5 2.5v27c0 1.378 1.122 2.5 2.5 2.5h23c1.378 0 2.5-1.122 2.5-2.5v-19.5c0-0.448-0.137-1.23-1.319-2.841zM24.543 5.457c0.959 0.959 1.712 1.825 2.268 2.543h-4.811v-4.811c0.718 0.556 1.584 1.309 2.543 2.268zM28 29.5c0 0.271-0.229 0.5-0.5 0.5h-23c-0.271 0-0.5-0.229-0.5-0.5v-27c0-0.271 0.229-0.5 0.5-0.5 0 0 15.499-0 15.5 0v7c0 0.552 0.448 1 1 1h7v19.5z\"></path>\n",
              "<path d=\"M23 26h-14c-0.552 0-1-0.448-1-1s0.448-1 1-1h14c0.552 0 1 0.448 1 1s-0.448 1-1 1z\"></path>\n",
              "<path d=\"M23 22h-14c-0.552 0-1-0.448-1-1s0.448-1 1-1h14c0.552 0 1 0.448 1 1s-0.448 1-1 1z\"></path>\n",
              "<path d=\"M23 18h-14c-0.552 0-1-0.448-1-1s0.448-1 1-1h14c0.552 0 1 0.448 1 1s-0.448 1-1 1z\"></path>\n",
              "</symbol>\n",
              "</defs>\n",
              "</svg>\n",
              "<style>/* CSS stylesheet for displaying xarray objects in jupyterlab.\n",
              " *\n",
              " */\n",
              "\n",
              ":root {\n",
              "  --xr-font-color0: var(--jp-content-font-color0, rgba(0, 0, 0, 1));\n",
              "  --xr-font-color2: var(--jp-content-font-color2, rgba(0, 0, 0, 0.54));\n",
              "  --xr-font-color3: var(--jp-content-font-color3, rgba(0, 0, 0, 0.38));\n",
              "  --xr-border-color: var(--jp-border-color2, #e0e0e0);\n",
              "  --xr-disabled-color: var(--jp-layout-color3, #bdbdbd);\n",
              "  --xr-background-color: var(--jp-layout-color0, white);\n",
              "  --xr-background-color-row-even: var(--jp-layout-color1, white);\n",
              "  --xr-background-color-row-odd: var(--jp-layout-color2, #eeeeee);\n",
              "}\n",
              "\n",
              "html[theme=dark],\n",
              "body[data-theme=dark],\n",
              "body.vscode-dark {\n",
              "  --xr-font-color0: rgba(255, 255, 255, 1);\n",
              "  --xr-font-color2: rgba(255, 255, 255, 0.54);\n",
              "  --xr-font-color3: rgba(255, 255, 255, 0.38);\n",
              "  --xr-border-color: #1F1F1F;\n",
              "  --xr-disabled-color: #515151;\n",
              "  --xr-background-color: #111111;\n",
              "  --xr-background-color-row-even: #111111;\n",
              "  --xr-background-color-row-odd: #313131;\n",
              "}\n",
              "\n",
              ".xr-wrap {\n",
              "  display: block !important;\n",
              "  min-width: 300px;\n",
              "  max-width: 700px;\n",
              "}\n",
              "\n",
              ".xr-text-repr-fallback {\n",
              "  /* fallback to plain text repr when CSS is not injected (untrusted notebook) */\n",
              "  display: none;\n",
              "}\n",
              "\n",
              ".xr-header {\n",
              "  padding-top: 6px;\n",
              "  padding-bottom: 6px;\n",
              "  margin-bottom: 4px;\n",
              "  border-bottom: solid 1px var(--xr-border-color);\n",
              "}\n",
              "\n",
              ".xr-header > div,\n",
              ".xr-header > ul {\n",
              "  display: inline;\n",
              "  margin-top: 0;\n",
              "  margin-bottom: 0;\n",
              "}\n",
              "\n",
              ".xr-obj-type,\n",
              ".xr-array-name {\n",
              "  margin-left: 2px;\n",
              "  margin-right: 10px;\n",
              "}\n",
              "\n",
              ".xr-obj-type {\n",
              "  color: var(--xr-font-color2);\n",
              "}\n",
              "\n",
              ".xr-sections {\n",
              "  padding-left: 0 !important;\n",
              "  display: grid;\n",
              "  grid-template-columns: 150px auto auto 1fr 20px 20px;\n",
              "}\n",
              "\n",
              ".xr-section-item {\n",
              "  display: contents;\n",
              "}\n",
              "\n",
              ".xr-section-item input {\n",
              "  display: none;\n",
              "}\n",
              "\n",
              ".xr-section-item input + label {\n",
              "  color: var(--xr-disabled-color);\n",
              "}\n",
              "\n",
              ".xr-section-item input:enabled + label {\n",
              "  cursor: pointer;\n",
              "  color: var(--xr-font-color2);\n",
              "}\n",
              "\n",
              ".xr-section-item input:enabled + label:hover {\n",
              "  color: var(--xr-font-color0);\n",
              "}\n",
              "\n",
              ".xr-section-summary {\n",
              "  grid-column: 1;\n",
              "  color: var(--xr-font-color2);\n",
              "  font-weight: 500;\n",
              "}\n",
              "\n",
              ".xr-section-summary > span {\n",
              "  display: inline-block;\n",
              "  padding-left: 0.5em;\n",
              "}\n",
              "\n",
              ".xr-section-summary-in:disabled + label {\n",
              "  color: var(--xr-font-color2);\n",
              "}\n",
              "\n",
              ".xr-section-summary-in + label:before {\n",
              "  display: inline-block;\n",
              "  content: '►';\n",
              "  font-size: 11px;\n",
              "  width: 15px;\n",
              "  text-align: center;\n",
              "}\n",
              "\n",
              ".xr-section-summary-in:disabled + label:before {\n",
              "  color: var(--xr-disabled-color);\n",
              "}\n",
              "\n",
              ".xr-section-summary-in:checked + label:before {\n",
              "  content: '▼';\n",
              "}\n",
              "\n",
              ".xr-section-summary-in:checked + label > span {\n",
              "  display: none;\n",
              "}\n",
              "\n",
              ".xr-section-summary,\n",
              ".xr-section-inline-details {\n",
              "  padding-top: 4px;\n",
              "  padding-bottom: 4px;\n",
              "}\n",
              "\n",
              ".xr-section-inline-details {\n",
              "  grid-column: 2 / -1;\n",
              "}\n",
              "\n",
              ".xr-section-details {\n",
              "  display: none;\n",
              "  grid-column: 1 / -1;\n",
              "  margin-bottom: 5px;\n",
              "}\n",
              "\n",
              ".xr-section-summary-in:checked ~ .xr-section-details {\n",
              "  display: contents;\n",
              "}\n",
              "\n",
              ".xr-array-wrap {\n",
              "  grid-column: 1 / -1;\n",
              "  display: grid;\n",
              "  grid-template-columns: 20px auto;\n",
              "}\n",
              "\n",
              ".xr-array-wrap > label {\n",
              "  grid-column: 1;\n",
              "  vertical-align: top;\n",
              "}\n",
              "\n",
              ".xr-preview {\n",
              "  color: var(--xr-font-color3);\n",
              "}\n",
              "\n",
              ".xr-array-preview,\n",
              ".xr-array-data {\n",
              "  padding: 0 5px !important;\n",
              "  grid-column: 2;\n",
              "}\n",
              "\n",
              ".xr-array-data,\n",
              ".xr-array-in:checked ~ .xr-array-preview {\n",
              "  display: none;\n",
              "}\n",
              "\n",
              ".xr-array-in:checked ~ .xr-array-data,\n",
              ".xr-array-preview {\n",
              "  display: inline-block;\n",
              "}\n",
              "\n",
              ".xr-dim-list {\n",
              "  display: inline-block !important;\n",
              "  list-style: none;\n",
              "  padding: 0 !important;\n",
              "  margin: 0;\n",
              "}\n",
              "\n",
              ".xr-dim-list li {\n",
              "  display: inline-block;\n",
              "  padding: 0;\n",
              "  margin: 0;\n",
              "}\n",
              "\n",
              ".xr-dim-list:before {\n",
              "  content: '(';\n",
              "}\n",
              "\n",
              ".xr-dim-list:after {\n",
              "  content: ')';\n",
              "}\n",
              "\n",
              ".xr-dim-list li:not(:last-child):after {\n",
              "  content: ',';\n",
              "  padding-right: 5px;\n",
              "}\n",
              "\n",
              ".xr-has-index {\n",
              "  font-weight: bold;\n",
              "}\n",
              "\n",
              ".xr-var-list,\n",
              ".xr-var-item {\n",
              "  display: contents;\n",
              "}\n",
              "\n",
              ".xr-var-item > div,\n",
              ".xr-var-item label,\n",
              ".xr-var-item > .xr-var-name span {\n",
              "  background-color: var(--xr-background-color-row-even);\n",
              "  margin-bottom: 0;\n",
              "}\n",
              "\n",
              ".xr-var-item > .xr-var-name:hover span {\n",
              "  padding-right: 5px;\n",
              "}\n",
              "\n",
              ".xr-var-list > li:nth-child(odd) > div,\n",
              ".xr-var-list > li:nth-child(odd) > label,\n",
              ".xr-var-list > li:nth-child(odd) > .xr-var-name span {\n",
              "  background-color: var(--xr-background-color-row-odd);\n",
              "}\n",
              "\n",
              ".xr-var-name {\n",
              "  grid-column: 1;\n",
              "}\n",
              "\n",
              ".xr-var-dims {\n",
              "  grid-column: 2;\n",
              "}\n",
              "\n",
              ".xr-var-dtype {\n",
              "  grid-column: 3;\n",
              "  text-align: right;\n",
              "  color: var(--xr-font-color2);\n",
              "}\n",
              "\n",
              ".xr-var-preview {\n",
              "  grid-column: 4;\n",
              "}\n",
              "\n",
              ".xr-index-preview {\n",
              "  grid-column: 2 / 5;\n",
              "  color: var(--xr-font-color2);\n",
              "}\n",
              "\n",
              ".xr-var-name,\n",
              ".xr-var-dims,\n",
              ".xr-var-dtype,\n",
              ".xr-preview,\n",
              ".xr-attrs dt {\n",
              "  white-space: nowrap;\n",
              "  overflow: hidden;\n",
              "  text-overflow: ellipsis;\n",
              "  padding-right: 10px;\n",
              "}\n",
              "\n",
              ".xr-var-name:hover,\n",
              ".xr-var-dims:hover,\n",
              ".xr-var-dtype:hover,\n",
              ".xr-attrs dt:hover {\n",
              "  overflow: visible;\n",
              "  width: auto;\n",
              "  z-index: 1;\n",
              "}\n",
              "\n",
              ".xr-var-attrs,\n",
              ".xr-var-data,\n",
              ".xr-index-data {\n",
              "  display: none;\n",
              "  background-color: var(--xr-background-color) !important;\n",
              "  padding-bottom: 5px !important;\n",
              "}\n",
              "\n",
              ".xr-var-attrs-in:checked ~ .xr-var-attrs,\n",
              ".xr-var-data-in:checked ~ .xr-var-data,\n",
              ".xr-index-data-in:checked ~ .xr-index-data {\n",
              "  display: block;\n",
              "}\n",
              "\n",
              ".xr-var-data > table {\n",
              "  float: right;\n",
              "}\n",
              "\n",
              ".xr-var-name span,\n",
              ".xr-var-data,\n",
              ".xr-index-name div,\n",
              ".xr-index-data,\n",
              ".xr-attrs {\n",
              "  padding-left: 25px !important;\n",
              "}\n",
              "\n",
              ".xr-attrs,\n",
              ".xr-var-attrs,\n",
              ".xr-var-data,\n",
              ".xr-index-data {\n",
              "  grid-column: 1 / -1;\n",
              "}\n",
              "\n",
              "dl.xr-attrs {\n",
              "  padding: 0;\n",
              "  margin: 0;\n",
              "  display: grid;\n",
              "  grid-template-columns: 125px auto;\n",
              "}\n",
              "\n",
              ".xr-attrs dt,\n",
              ".xr-attrs dd {\n",
              "  padding: 0;\n",
              "  margin: 0;\n",
              "  float: left;\n",
              "  padding-right: 10px;\n",
              "  width: auto;\n",
              "}\n",
              "\n",
              ".xr-attrs dt {\n",
              "  font-weight: normal;\n",
              "  grid-column: 1;\n",
              "}\n",
              "\n",
              ".xr-attrs dt:hover span {\n",
              "  display: inline-block;\n",
              "  background: var(--xr-background-color);\n",
              "  padding-right: 10px;\n",
              "}\n",
              "\n",
              ".xr-attrs dd {\n",
              "  grid-column: 2;\n",
              "  white-space: pre-wrap;\n",
              "  word-break: break-all;\n",
              "}\n",
              "\n",
              ".xr-icon-database,\n",
              ".xr-icon-file-text2,\n",
              ".xr-no-icon {\n",
              "  display: inline-block;\n",
              "  vertical-align: middle;\n",
              "  width: 1em;\n",
              "  height: 1.5em !important;\n",
              "  stroke-width: 0;\n",
              "  stroke: currentColor;\n",
              "  fill: currentColor;\n",
              "}\n",
              "</style><pre class='xr-text-repr-fallback'>&lt;xarray.Dataset&gt; Size: 243MB\n",
              "Dimensions:   (time: 43800, ni: 4, ncat: 5, ntrcr: 21)\n",
              "Coordinates:\n",
              "  * ni        (ni) int32 16B 1 2 3 4\n",
              "  * ncat      (ncat) int32 20B 1 2 3 4 5\n",
              "  * ntrcr     (ntrcr) int32 84B 1 2 3 4 5 6 7 8 9 ... 13 14 15 16 17 18 19 20 21\n",
              "  * time      (time) int64 350kB 1 2 3 4 5 6 ... 43796 43797 43798 43799 43800\n",
              "Data variables: (12/39)\n",
              "    timestep  (time) int32 175kB 1 2 3 4 5 6 7 ... 8755 8756 8757 8758 8759 8760\n",
              "    date      (time) float64 350kB 2.011e+07 2.011e+07 ... 2.015e+07 2.016e+07\n",
              "    aice      (time, ni) float64 1MB 0.0 0.9999 0.9999 0.0 ... 0.9999 0.9999 0.0\n",
              "    vice      (time, ni) float64 1MB 0.0 2.001 1.795 0.0 ... 0.9966 0.9658 0.0\n",
              "    vsno      (time, ni) float64 1MB 0.0 2.618e-06 0.2175 ... 0.0954 0.1068 0.0\n",
              "    uvel      (time, ni) float64 1MB 0.0 0.0 0.0 0.0 0.0 ... 0.0 0.0 0.0 0.0 0.0\n",
              "    ...        ...\n",
              "    fhocn     (time, ni) float64 1MB 0.0 -7.219 -12.89 0.0 ... -3.198 -3.137 0.0\n",
              "    aicen     (time, ncat, ni) float64 7MB 0.0 0.0 0.09939 ... 0.004224 0.0\n",
              "    vicen     (time, ncat, ni) float64 7MB 0.0 0.0 0.03012 ... 0.02483 0.0\n",
              "    vsnon     (time, ncat, ni) float64 7MB 0.0 0.0 0.005962 ... 0.001064 0.0\n",
              "    trcr      (time, ntrcr, ni) float64 29MB -1.905 -24.05 -29.58 ... 0.0 0.0\n",
              "    trcrn     (time, ncat, ntrcr, ni) float64 147MB -1.905 -1.905 ... 0.0 0.0</pre><div class='xr-wrap' style='display:none'><div class='xr-header'><div class='xr-obj-type'>xarray.Dataset</div></div><ul class='xr-sections'><li class='xr-section-item'><input id='section-6a5e8129-69bd-4f34-a708-8e166b099825' class='xr-section-summary-in' type='checkbox' disabled ><label for='section-6a5e8129-69bd-4f34-a708-8e166b099825' class='xr-section-summary'  title='Expand/collapse section'>Dimensions:</label><div class='xr-section-inline-details'><ul class='xr-dim-list'><li><span class='xr-has-index'>time</span>: 43800</li><li><span class='xr-has-index'>ni</span>: 4</li><li><span class='xr-has-index'>ncat</span>: 5</li><li><span class='xr-has-index'>ntrcr</span>: 21</li></ul></div><div class='xr-section-details'></div></li><li class='xr-section-item'><input id='section-7f0f98ac-9f16-474d-ade4-55ddf847f2b7' class='xr-section-summary-in' type='checkbox'  checked><label for='section-7f0f98ac-9f16-474d-ade4-55ddf847f2b7' class='xr-section-summary' >Coordinates: <span>(4)</span></label><div class='xr-section-inline-details'></div><div class='xr-section-details'><ul class='xr-var-list'><li class='xr-var-item'><div class='xr-var-name'><span class='xr-has-index'>ni</span></div><div class='xr-var-dims'>(ni)</div><div class='xr-var-dtype'>int32</div><div class='xr-var-preview xr-preview'>1 2 3 4</div><input id='attrs-edc6cea2-2a83-4c4f-ad6a-8f5af9d40209' class='xr-var-attrs-in' type='checkbox' ><label for='attrs-edc6cea2-2a83-4c4f-ad6a-8f5af9d40209' title='Show/Hide attributes'><svg class='icon xr-icon-file-text2'><use xlink:href='#icon-file-text2'></use></svg></label><input id='data-5e2160bd-a851-4b32-87ac-e418b642adf6' class='xr-var-data-in' type='checkbox'><label for='data-5e2160bd-a851-4b32-87ac-e418b642adf6' title='Show/Hide data repr'><svg class='icon xr-icon-database'><use xlink:href='#icon-database'></use></svg></label><div class='xr-var-attrs'><dl class='xr-attrs'><dt><span>column_name_001 :</span></dt><dd>icefree</dd><dt><span>column_name_002 :</span></dt><dd>slab</dd><dt><span>column_name_003 :</span></dt><dd>full_ITD</dd><dt><span>column_name_004 :</span></dt><dd>land</dd></dl></div><div class='xr-var-data'><pre>array([1, 2, 3, 4], dtype=int32)</pre></div></li><li class='xr-var-item'><div class='xr-var-name'><span class='xr-has-index'>ncat</span></div><div class='xr-var-dims'>(ncat)</div><div class='xr-var-dtype'>int32</div><div class='xr-var-preview xr-preview'>1 2 3 4 5</div><input id='attrs-e0b679e6-44f5-455f-9e22-879ff355c8f4' class='xr-var-attrs-in' type='checkbox' disabled><label for='attrs-e0b679e6-44f5-455f-9e22-879ff355c8f4' title='Show/Hide attributes'><svg class='icon xr-icon-file-text2'><use xlink:href='#icon-file-text2'></use></svg></label><input id='data-93312bf3-68ef-4e08-b052-45afcadc57e2' class='xr-var-data-in' type='checkbox'><label for='data-93312bf3-68ef-4e08-b052-45afcadc57e2' title='Show/Hide data repr'><svg class='icon xr-icon-database'><use xlink:href='#icon-database'></use></svg></label><div class='xr-var-attrs'><dl class='xr-attrs'></dl></div><div class='xr-var-data'><pre>array([1, 2, 3, 4, 5], dtype=int32)</pre></div></li><li class='xr-var-item'><div class='xr-var-name'><span class='xr-has-index'>ntrcr</span></div><div class='xr-var-dims'>(ntrcr)</div><div class='xr-var-dtype'>int32</div><div class='xr-var-preview xr-preview'>1 2 3 4 5 6 7 ... 16 17 18 19 20 21</div><input id='attrs-91a333e3-e752-4b01-8a8c-3735023c600f' class='xr-var-attrs-in' type='checkbox' disabled><label for='attrs-91a333e3-e752-4b01-8a8c-3735023c600f' title='Show/Hide attributes'><svg class='icon xr-icon-file-text2'><use xlink:href='#icon-file-text2'></use></svg></label><input id='data-2267d4d9-2f13-4d07-9354-1c69bb0330a7' class='xr-var-data-in' type='checkbox'><label for='data-2267d4d9-2f13-4d07-9354-1c69bb0330a7' title='Show/Hide data repr'><svg class='icon xr-icon-database'><use xlink:href='#icon-database'></use></svg></label><div class='xr-var-attrs'><dl class='xr-attrs'></dl></div><div class='xr-var-data'><pre>array([ 1,  2,  3,  4,  5,  6,  7,  8,  9, 10, 11, 12, 13, 14, 15, 16, 17, 18,\n",
              "       19, 20, 21], dtype=int32)</pre></div></li><li class='xr-var-item'><div class='xr-var-name'><span class='xr-has-index'>time</span></div><div class='xr-var-dims'>(time)</div><div class='xr-var-dtype'>int64</div><div class='xr-var-preview xr-preview'>1 2 3 4 ... 43797 43798 43799 43800</div><input id='attrs-02369a89-073a-4e49-93f5-89dd1f863d40' class='xr-var-attrs-in' type='checkbox' disabled><label for='attrs-02369a89-073a-4e49-93f5-89dd1f863d40' title='Show/Hide attributes'><svg class='icon xr-icon-file-text2'><use xlink:href='#icon-file-text2'></use></svg></label><input id='data-1a4c6c66-8eb7-4ccc-816f-db4d39e27804' class='xr-var-data-in' type='checkbox'><label for='data-1a4c6c66-8eb7-4ccc-816f-db4d39e27804' title='Show/Hide data repr'><svg class='icon xr-icon-database'><use xlink:href='#icon-database'></use></svg></label><div class='xr-var-attrs'><dl class='xr-attrs'></dl></div><div class='xr-var-data'><pre>array([    1,     2,     3, ..., 43798, 43799, 43800])</pre></div></li></ul></div></li><li class='xr-section-item'><input id='section-a5784e26-a814-4508-8af8-85b32d557eda' class='xr-section-summary-in' type='checkbox'  ><label for='section-a5784e26-a814-4508-8af8-85b32d557eda' class='xr-section-summary' >Data variables: <span>(39)</span></label><div class='xr-section-inline-details'></div><div class='xr-section-details'><ul class='xr-var-list'><li class='xr-var-item'><div class='xr-var-name'><span>timestep</span></div><div class='xr-var-dims'>(time)</div><div class='xr-var-dtype'>int32</div><div class='xr-var-preview xr-preview'>1 2 3 4 5 ... 8757 8758 8759 8760</div><input id='attrs-88b03978-1e53-4553-bd7c-010214eeb52f' class='xr-var-attrs-in' type='checkbox' disabled><label for='attrs-88b03978-1e53-4553-bd7c-010214eeb52f' title='Show/Hide attributes'><svg class='icon xr-icon-file-text2'><use xlink:href='#icon-file-text2'></use></svg></label><input id='data-8fb7510a-7524-4102-840d-5d2a977f8292' class='xr-var-data-in' type='checkbox'><label for='data-8fb7510a-7524-4102-840d-5d2a977f8292' title='Show/Hide data repr'><svg class='icon xr-icon-database'><use xlink:href='#icon-database'></use></svg></label><div class='xr-var-attrs'><dl class='xr-attrs'></dl></div><div class='xr-var-data'><pre>array([   1,    2,    3, ..., 8758, 8759, 8760], dtype=int32)</pre></div></li><li class='xr-var-item'><div class='xr-var-name'><span>date</span></div><div class='xr-var-dims'>(time)</div><div class='xr-var-dtype'>float64</div><div class='xr-var-preview xr-preview'>2.011e+07 2.011e+07 ... 2.016e+07</div><input id='attrs-13621b08-dd0b-4c98-8172-4be2e3573e58' class='xr-var-attrs-in' type='checkbox' disabled><label for='attrs-13621b08-dd0b-4c98-8172-4be2e3573e58' title='Show/Hide attributes'><svg class='icon xr-icon-file-text2'><use xlink:href='#icon-file-text2'></use></svg></label><input id='data-c73e5719-2d10-432b-8203-46bbbb26192c' class='xr-var-data-in' type='checkbox'><label for='data-c73e5719-2d10-432b-8203-46bbbb26192c' title='Show/Hide data repr'><svg class='icon xr-icon-database'><use xlink:href='#icon-database'></use></svg></label><div class='xr-var-attrs'><dl class='xr-attrs'></dl></div><div class='xr-var-data'><pre>array([20110101.04166667, 20110101.08333333, 20110101.125     , ...,\n",
              "       20151231.91666667, 20151231.95833333, 20160101.        ])</pre></div></li><li class='xr-var-item'><div class='xr-var-name'><span>aice</span></div><div class='xr-var-dims'>(time, ni)</div><div class='xr-var-dtype'>float64</div><div class='xr-var-preview xr-preview'>0.0 0.9999 0.9999 ... 0.9999 0.0</div><input id='attrs-4a0d2107-f718-4594-8201-6688f8c288d5' class='xr-var-attrs-in' type='checkbox' disabled><label for='attrs-4a0d2107-f718-4594-8201-6688f8c288d5' title='Show/Hide attributes'><svg class='icon xr-icon-file-text2'><use xlink:href='#icon-file-text2'></use></svg></label><input id='data-035f5b02-a702-4db1-b0d7-773724180f77' class='xr-var-data-in' type='checkbox'><label for='data-035f5b02-a702-4db1-b0d7-773724180f77' title='Show/Hide data repr'><svg class='icon xr-icon-database'><use xlink:href='#icon-database'></use></svg></label><div class='xr-var-attrs'><dl class='xr-attrs'></dl></div><div class='xr-var-data'><pre>array([[0.        , 0.99988217, 0.99988217, 0.        ],\n",
              "       [0.        , 0.99978422, 0.99978421, 0.        ],\n",
              "       [0.        , 0.99970786, 0.99970781, 0.        ],\n",
              "       ...,\n",
              "       [0.99980282, 0.99980282, 0.99980282, 0.        ],\n",
              "       [0.9998304 , 0.9998304 , 0.9998304 , 0.        ],\n",
              "       [0.9998569 , 0.9998569 , 0.9998569 , 0.        ]])</pre></div></li><li class='xr-var-item'><div class='xr-var-name'><span>vice</span></div><div class='xr-var-dims'>(time, ni)</div><div class='xr-var-dtype'>float64</div><div class='xr-var-preview xr-preview'>0.0 2.001 1.795 ... 0.9658 0.0</div><input id='attrs-1f1b7ef2-f4b8-468a-b39a-4d7fef3bfe8d' class='xr-var-attrs-in' type='checkbox' disabled><label for='attrs-1f1b7ef2-f4b8-468a-b39a-4d7fef3bfe8d' title='Show/Hide attributes'><svg class='icon xr-icon-file-text2'><use xlink:href='#icon-file-text2'></use></svg></label><input id='data-c51c34bb-b0d3-4b4f-87a3-43f50c208806' class='xr-var-data-in' type='checkbox'><label for='data-c51c34bb-b0d3-4b4f-87a3-43f50c208806' title='Show/Hide data repr'><svg class='icon xr-icon-database'><use xlink:href='#icon-database'></use></svg></label><div class='xr-var-attrs'><dl class='xr-attrs'></dl></div><div class='xr-var-data'><pre>array([[0.        , 2.00054332, 1.79516303, 0.        ],\n",
              "       [0.        , 2.00101241, 1.79607838, 0.        ],\n",
              "       [0.        , 2.0015209 , 1.79696858, 0.        ],\n",
              "       ...,\n",
              "       [0.9723341 , 0.99597714, 0.96518692, 0.        ],\n",
              "       [0.9726672 , 0.99629926, 0.96550416, 0.        ],\n",
              "       [0.97302563, 0.99664744, 0.96584655, 0.        ]])</pre></div></li><li class='xr-var-item'><div class='xr-var-name'><span>vsno</span></div><div class='xr-var-dims'>(time, ni)</div><div class='xr-var-dtype'>float64</div><div class='xr-var-preview xr-preview'>0.0 2.618e-06 0.2175 ... 0.1068 0.0</div><input id='attrs-ccea8deb-91b5-4843-9b3c-79a35028dc85' class='xr-var-attrs-in' type='checkbox' disabled><label for='attrs-ccea8deb-91b5-4843-9b3c-79a35028dc85' title='Show/Hide attributes'><svg class='icon xr-icon-file-text2'><use xlink:href='#icon-file-text2'></use></svg></label><input id='data-66206cee-41d1-4468-8e0e-2136ac614fcf' class='xr-var-data-in' type='checkbox'><label for='data-66206cee-41d1-4468-8e0e-2136ac614fcf' title='Show/Hide data repr'><svg class='icon xr-icon-database'><use xlink:href='#icon-database'></use></svg></label><div class='xr-var-attrs'><dl class='xr-attrs'></dl></div><div class='xr-var-data'><pre>array([[0.00000000e+00, 2.61791733e-06, 2.17466283e-01, 0.00000000e+00],\n",
              "       [0.00000000e+00, 3.92649550e-06, 2.17454445e-01, 0.00000000e+00],\n",
              "       [0.00000000e+00, 3.92620097e-06, 2.17449330e-01, 0.00000000e+00],\n",
              "       ...,\n",
              "       [8.93866829e-02, 9.54134818e-02, 1.06768875e-01, 0.00000000e+00],\n",
              "       [8.93781974e-02, 9.54043850e-02, 1.06758538e-01, 0.00000000e+00],\n",
              "       [8.93737426e-02, 9.53995012e-02, 1.06752744e-01, 0.00000000e+00]])</pre></div></li><li class='xr-var-item'><div class='xr-var-name'><span>uvel</span></div><div class='xr-var-dims'>(time, ni)</div><div class='xr-var-dtype'>float64</div><div class='xr-var-preview xr-preview'>0.0 0.0 0.0 0.0 ... 0.0 0.0 0.0 0.0</div><input id='attrs-fc3c7987-fdb6-43d8-b20e-b362735919c7' class='xr-var-attrs-in' type='checkbox' disabled><label for='attrs-fc3c7987-fdb6-43d8-b20e-b362735919c7' title='Show/Hide attributes'><svg class='icon xr-icon-file-text2'><use xlink:href='#icon-file-text2'></use></svg></label><input id='data-59f9828d-6130-40bb-99fe-db8570dc51ee' class='xr-var-data-in' type='checkbox'><label for='data-59f9828d-6130-40bb-99fe-db8570dc51ee' title='Show/Hide data repr'><svg class='icon xr-icon-database'><use xlink:href='#icon-database'></use></svg></label><div class='xr-var-attrs'><dl class='xr-attrs'></dl></div><div class='xr-var-data'><pre>array([[0., 0., 0., 0.],\n",
              "       [0., 0., 0., 0.],\n",
              "       [0., 0., 0., 0.],\n",
              "       ...,\n",
              "       [0., 0., 0., 0.],\n",
              "       [0., 0., 0., 0.],\n",
              "       [0., 0., 0., 0.]])</pre></div></li><li class='xr-var-item'><div class='xr-var-name'><span>vvel</span></div><div class='xr-var-dims'>(time, ni)</div><div class='xr-var-dtype'>float64</div><div class='xr-var-preview xr-preview'>0.0 0.0 0.0 0.0 ... 0.0 0.0 0.0 0.0</div><input id='attrs-437f6bda-0f64-4aa4-b96a-e6a73a5522e4' class='xr-var-attrs-in' type='checkbox' disabled><label for='attrs-437f6bda-0f64-4aa4-b96a-e6a73a5522e4' title='Show/Hide attributes'><svg class='icon xr-icon-file-text2'><use xlink:href='#icon-file-text2'></use></svg></label><input id='data-2ddbebd1-2012-429b-89c1-caa7a63449c6' class='xr-var-data-in' type='checkbox'><label for='data-2ddbebd1-2012-429b-89c1-caa7a63449c6' title='Show/Hide data repr'><svg class='icon xr-icon-database'><use xlink:href='#icon-database'></use></svg></label><div class='xr-var-attrs'><dl class='xr-attrs'></dl></div><div class='xr-var-data'><pre>array([[0., 0., 0., 0.],\n",
              "       [0., 0., 0., 0.],\n",
              "       [0., 0., 0., 0.],\n",
              "       ...,\n",
              "       [0., 0., 0., 0.],\n",
              "       [0., 0., 0., 0.],\n",
              "       [0., 0., 0., 0.]])</pre></div></li><li class='xr-var-item'><div class='xr-var-name'><span>divu</span></div><div class='xr-var-dims'>(time, ni)</div><div class='xr-var-dtype'>float64</div><div class='xr-var-preview xr-preview'>0.0 0.0 0.0 0.0 ... 0.0 0.0 0.0 0.0</div><input id='attrs-6c563b72-3408-481c-8abe-1bcc8606fd64' class='xr-var-attrs-in' type='checkbox' disabled><label for='attrs-6c563b72-3408-481c-8abe-1bcc8606fd64' title='Show/Hide attributes'><svg class='icon xr-icon-file-text2'><use xlink:href='#icon-file-text2'></use></svg></label><input id='data-16a0400b-5a64-4c60-b169-911c898b8de0' class='xr-var-data-in' type='checkbox'><label for='data-16a0400b-5a64-4c60-b169-911c898b8de0' title='Show/Hide data repr'><svg class='icon xr-icon-database'><use xlink:href='#icon-database'></use></svg></label><div class='xr-var-attrs'><dl class='xr-attrs'></dl></div><div class='xr-var-data'><pre>array([[0., 0., 0., 0.],\n",
              "       [0., 0., 0., 0.],\n",
              "       [0., 0., 0., 0.],\n",
              "       ...,\n",
              "       [0., 0., 0., 0.],\n",
              "       [0., 0., 0., 0.],\n",
              "       [0., 0., 0., 0.]])</pre></div></li><li class='xr-var-item'><div class='xr-var-name'><span>shear</span></div><div class='xr-var-dims'>(time, ni)</div><div class='xr-var-dtype'>float64</div><div class='xr-var-preview xr-preview'>0.0 0.0 0.0 0.0 ... 0.0 0.0 0.0 0.0</div><input id='attrs-2ad958c7-de67-42f0-b914-65e01b45571c' class='xr-var-attrs-in' type='checkbox' disabled><label for='attrs-2ad958c7-de67-42f0-b914-65e01b45571c' title='Show/Hide attributes'><svg class='icon xr-icon-file-text2'><use xlink:href='#icon-file-text2'></use></svg></label><input id='data-43a7cf36-167a-4e3c-a818-4a251b37f558' class='xr-var-data-in' type='checkbox'><label for='data-43a7cf36-167a-4e3c-a818-4a251b37f558' title='Show/Hide data repr'><svg class='icon xr-icon-database'><use xlink:href='#icon-database'></use></svg></label><div class='xr-var-attrs'><dl class='xr-attrs'></dl></div><div class='xr-var-data'><pre>array([[0., 0., 0., 0.],\n",
              "       [0., 0., 0., 0.],\n",
              "       [0., 0., 0., 0.],\n",
              "       ...,\n",
              "       [0., 0., 0., 0.],\n",
              "       [0., 0., 0., 0.],\n",
              "       [0., 0., 0., 0.]])</pre></div></li><li class='xr-var-item'><div class='xr-var-name'><span>strength</span></div><div class='xr-var-dims'>(time, ni)</div><div class='xr-var-dtype'>float64</div><div class='xr-var-preview xr-preview'>0.0 0.0 0.0 0.0 ... 0.0 0.0 0.0 0.0</div><input id='attrs-e33548da-59cb-4465-9736-67a2e1b1f8c3' class='xr-var-attrs-in' type='checkbox' disabled><label for='attrs-e33548da-59cb-4465-9736-67a2e1b1f8c3' title='Show/Hide attributes'><svg class='icon xr-icon-file-text2'><use xlink:href='#icon-file-text2'></use></svg></label><input id='data-6308d979-b580-462f-955a-936724b70144' class='xr-var-data-in' type='checkbox'><label for='data-6308d979-b580-462f-955a-936724b70144' title='Show/Hide data repr'><svg class='icon xr-icon-database'><use xlink:href='#icon-database'></use></svg></label><div class='xr-var-attrs'><dl class='xr-attrs'></dl></div><div class='xr-var-data'><pre>array([[0., 0., 0., 0.],\n",
              "       [0., 0., 0., 0.],\n",
              "       [0., 0., 0., 0.],\n",
              "       ...,\n",
              "       [0., 0., 0., 0.],\n",
              "       [0., 0., 0., 0.],\n",
              "       [0., 0., 0., 0.]])</pre></div></li><li class='xr-var-item'><div class='xr-var-name'><span>evap</span></div><div class='xr-var-dims'>(time, ni)</div><div class='xr-var-dtype'>float64</div><div class='xr-var-preview xr-preview'>0.0 -4.84e-06 ... -7.491e-07 0.0</div><input id='attrs-bdd8e96c-9549-4333-9815-8d61144ec5ef' class='xr-var-attrs-in' type='checkbox' disabled><label for='attrs-bdd8e96c-9549-4333-9815-8d61144ec5ef' title='Show/Hide attributes'><svg class='icon xr-icon-file-text2'><use xlink:href='#icon-file-text2'></use></svg></label><input id='data-757ac666-de27-46eb-bd46-46afd4016817' class='xr-var-data-in' type='checkbox'><label for='data-757ac666-de27-46eb-bd46-46afd4016817' title='Show/Hide data repr'><svg class='icon xr-icon-database'><use xlink:href='#icon-database'></use></svg></label><div class='xr-var-attrs'><dl class='xr-attrs'></dl></div><div class='xr-var-data'><pre>array([[ 0.00000000e+00, -4.83958502e-06, -5.96407949e-07,\n",
              "         0.00000000e+00],\n",
              "       [ 0.00000000e+00, -4.17051877e-06, -3.99434057e-07,\n",
              "         0.00000000e+00],\n",
              "       [ 0.00000000e+00, -3.76615204e-06, -2.82376515e-07,\n",
              "         0.00000000e+00],\n",
              "       ...,\n",
              "       [-9.99548851e-07, -9.88812887e-07, -9.75127738e-07,\n",
              "         0.00000000e+00],\n",
              "       [-9.00924600e-07, -8.89675251e-07, -8.76157081e-07,\n",
              "         0.00000000e+00],\n",
              "       [-7.73016948e-07, -7.61664127e-07, -7.49105738e-07,\n",
              "         0.00000000e+00]])</pre></div></li><li class='xr-var-item'><div class='xr-var-name'><span>fsnow</span></div><div class='xr-var-dims'>(time, ni)</div><div class='xr-var-dtype'>float64</div><div class='xr-var-preview xr-preview'>2.4e-07 2.4e-07 ... 1.19e-06</div><input id='attrs-1d73fe8f-a38a-46cf-be89-12fb7b6ca7ec' class='xr-var-attrs-in' type='checkbox' disabled><label for='attrs-1d73fe8f-a38a-46cf-be89-12fb7b6ca7ec' title='Show/Hide attributes'><svg class='icon xr-icon-file-text2'><use xlink:href='#icon-file-text2'></use></svg></label><input id='data-fb4e6a4d-b636-4129-966b-1f6584a99d30' class='xr-var-data-in' type='checkbox'><label for='data-fb4e6a4d-b636-4129-966b-1f6584a99d30' title='Show/Hide data repr'><svg class='icon xr-icon-database'><use xlink:href='#icon-database'></use></svg></label><div class='xr-var-attrs'><dl class='xr-attrs'></dl></div><div class='xr-var-data'><pre>array([[2.40e-07, 2.40e-07, 2.40e-07, 2.40e-07],\n",
              "       [3.60e-07, 3.60e-07, 3.60e-07, 3.60e-07],\n",
              "       [3.60e-07, 3.60e-07, 3.60e-07, 3.60e-07],\n",
              "       ...,\n",
              "       [1.19e-06, 1.19e-06, 1.19e-06, 1.19e-06],\n",
              "       [1.19e-06, 1.19e-06, 1.19e-06, 1.19e-06],\n",
              "       [1.19e-06, 1.19e-06, 1.19e-06, 1.19e-06]])</pre></div></li><li class='xr-var-item'><div class='xr-var-name'><span>frazil</span></div><div class='xr-var-dims'>(time, ni)</div><div class='xr-var-dtype'>float64</div><div class='xr-var-preview xr-preview'>0.0 0.0 0.0 ... 0.0001375 0.0</div><input id='attrs-0ca671cf-e55e-4599-9634-b82eac781533' class='xr-var-attrs-in' type='checkbox' disabled><label for='attrs-0ca671cf-e55e-4599-9634-b82eac781533' title='Show/Hide attributes'><svg class='icon xr-icon-file-text2'><use xlink:href='#icon-file-text2'></use></svg></label><input id='data-39dd24a7-576a-4cc7-af3c-ec4b89c43b8b' class='xr-var-data-in' type='checkbox'><label for='data-39dd24a7-576a-4cc7-af3c-ec4b89c43b8b' title='Show/Hide data repr'><svg class='icon xr-icon-database'><use xlink:href='#icon-database'></use></svg></label><div class='xr-var-attrs'><dl class='xr-attrs'></dl></div><div class='xr-var-data'><pre>array([[0.        , 0.        , 0.        , 0.        ],\n",
              "       [0.        , 0.        , 0.        , 0.        ],\n",
              "       [0.        , 0.        , 0.        , 0.        ],\n",
              "       ...,\n",
              "       [0.00014552, 0.00014317, 0.00014061, 0.        ],\n",
              "       [0.00014375, 0.0001414 , 0.00013883, 0.        ],\n",
              "       [0.0001424 , 0.00014005, 0.00013748, 0.        ]])</pre></div></li><li class='xr-var-item'><div class='xr-var-name'><span>fswabs</span></div><div class='xr-var-dims'>(time, ni)</div><div class='xr-var-dtype'>float64</div><div class='xr-var-preview xr-preview'>0.0 0.0 0.0 0.0 ... 0.0 0.0 0.0 0.0</div><input id='attrs-5e5bd83c-442a-4ab0-b92f-6b9c595390ee' class='xr-var-attrs-in' type='checkbox' disabled><label for='attrs-5e5bd83c-442a-4ab0-b92f-6b9c595390ee' title='Show/Hide attributes'><svg class='icon xr-icon-file-text2'><use xlink:href='#icon-file-text2'></use></svg></label><input id='data-28d095f0-1731-46a2-ac79-421633d00614' class='xr-var-data-in' type='checkbox'><label for='data-28d095f0-1731-46a2-ac79-421633d00614' title='Show/Hide data repr'><svg class='icon xr-icon-database'><use xlink:href='#icon-database'></use></svg></label><div class='xr-var-attrs'><dl class='xr-attrs'></dl></div><div class='xr-var-data'><pre>array([[0., 0., 0., 0.],\n",
              "       [0., 0., 0., 0.],\n",
              "       [0., 0., 0., 0.],\n",
              "       ...,\n",
              "       [0., 0., 0., 0.],\n",
              "       [0., 0., 0., 0.],\n",
              "       [0., 0., 0., 0.]])</pre></div></li><li class='xr-var-item'><div class='xr-var-name'><span>flw</span></div><div class='xr-var-dims'>(time, ni)</div><div class='xr-var-dtype'>float64</div><div class='xr-var-preview xr-preview'>155.4 155.4 155.4 ... 160.2 160.2</div><input id='attrs-e1dfb431-70ea-4ce0-b4cb-32d627d30abb' class='xr-var-attrs-in' type='checkbox' disabled><label for='attrs-e1dfb431-70ea-4ce0-b4cb-32d627d30abb' title='Show/Hide attributes'><svg class='icon xr-icon-file-text2'><use xlink:href='#icon-file-text2'></use></svg></label><input id='data-15165337-f899-445c-b57d-6f4759db67ff' class='xr-var-data-in' type='checkbox'><label for='data-15165337-f899-445c-b57d-6f4759db67ff' title='Show/Hide data repr'><svg class='icon xr-icon-database'><use xlink:href='#icon-database'></use></svg></label><div class='xr-var-attrs'><dl class='xr-attrs'></dl></div><div class='xr-var-data'><pre>array([[155.44449, 155.44449, 155.44449, 155.44449],\n",
              "       [155.28441, 155.28441, 155.28441, 155.28441],\n",
              "       [149.37946, 149.37946, 149.37946, 149.37946],\n",
              "       ...,\n",
              "       [186.56696, 186.56696, 186.56696, 186.56696],\n",
              "       [173.57582, 173.57582, 173.57582, 173.57582],\n",
              "       [160.20718, 160.20718, 160.20718, 160.20718]])</pre></div></li><li class='xr-var-item'><div class='xr-var-name'><span>flwout</span></div><div class='xr-var-dims'>(time, ni)</div><div class='xr-var-dtype'>float64</div><div class='xr-var-preview xr-preview'>0.0 -217.4 -198.9 ... -194.0 0.0</div><input id='attrs-f976e1f5-9393-437f-ba93-fb2bf8548f47' class='xr-var-attrs-in' type='checkbox' disabled><label for='attrs-f976e1f5-9393-437f-ba93-fb2bf8548f47' title='Show/Hide attributes'><svg class='icon xr-icon-file-text2'><use xlink:href='#icon-file-text2'></use></svg></label><input id='data-02496085-4019-4bb0-a1bc-3cca79a7b4e0' class='xr-var-data-in' type='checkbox'><label for='data-02496085-4019-4bb0-a1bc-3cca79a7b4e0' title='Show/Hide data repr'><svg class='icon xr-icon-database'><use xlink:href='#icon-database'></use></svg></label><div class='xr-var-attrs'><dl class='xr-attrs'></dl></div><div class='xr-var-data'><pre>array([[   0.        , -217.37774096, -198.90170057,    0.        ],\n",
              "       [   0.        , -218.90699769, -199.63038181,    0.        ],\n",
              "       [   0.        , -216.78512407, -197.94112222,    0.        ],\n",
              "       ...,\n",
              "       [-201.28642411, -201.11638639, -200.80086568,    0.        ],\n",
              "       [-198.72615282, -198.55186967, -198.23367259,    0.        ],\n",
              "       [-194.53703488, -194.3492473 , -194.01246528,    0.        ]])</pre></div></li><li class='xr-var-item'><div class='xr-var-name'><span>fsens</span></div><div class='xr-var-dims'>(time, ni)</div><div class='xr-var-dtype'>float64</div><div class='xr-var-preview xr-preview'>0.0 -138.9 -10.38 ... -26.67 0.0</div><input id='attrs-0a5d02e3-1557-4d33-b4ab-dd302686468c' class='xr-var-attrs-in' type='checkbox' disabled><label for='attrs-0a5d02e3-1557-4d33-b4ab-dd302686468c' title='Show/Hide attributes'><svg class='icon xr-icon-file-text2'><use xlink:href='#icon-file-text2'></use></svg></label><input id='data-362c81b2-13a1-42c4-a76d-179327496f72' class='xr-var-data-in' type='checkbox'><label for='data-362c81b2-13a1-42c4-a76d-179327496f72' title='Show/Hide data repr'><svg class='icon xr-icon-database'><use xlink:href='#icon-database'></use></svg></label><div class='xr-var-attrs'><dl class='xr-attrs'></dl></div><div class='xr-var-data'><pre>array([[ 0.00000000e+00, -1.38885918e+02, -1.03810463e+01,\n",
              "         0.00000000e+00],\n",
              "       [ 0.00000000e+00, -1.14952225e+02, -5.15103035e+00,\n",
              "         0.00000000e+00],\n",
              "       [ 0.00000000e+00, -1.06042589e+02,  5.60420700e-02,\n",
              "         0.00000000e+00],\n",
              "       ...,\n",
              "       [-3.87889532e+01, -3.82049609e+01, -3.71476879e+01,\n",
              "         0.00000000e+00],\n",
              "       [-3.18341900e+01, -3.11969010e+01, -3.00699123e+01,\n",
              "         0.00000000e+00],\n",
              "       [-2.86725031e+01, -2.79415183e+01, -2.66744903e+01,\n",
              "         0.00000000e+00]])</pre></div></li><li class='xr-var-item'><div class='xr-var-name'><span>fsurf</span></div><div class='xr-var-dims'>(time, ni)</div><div class='xr-var-dtype'>float64</div><div class='xr-var-preview xr-preview'>0.0 -214.6 -55.54 ... -62.67 0.0</div><input id='attrs-39693470-7f80-43d1-8a27-cea2c368c162' class='xr-var-attrs-in' type='checkbox' disabled><label for='attrs-39693470-7f80-43d1-8a27-cea2c368c162' title='Show/Hide attributes'><svg class='icon xr-icon-file-text2'><use xlink:href='#icon-file-text2'></use></svg></label><input id='data-9a49518a-6974-43fd-b335-b911522ba9c9' class='xr-var-data-in' type='checkbox'><label for='data-9a49518a-6974-43fd-b335-b911522ba9c9' title='Show/Hide data repr'><svg class='icon xr-icon-database'><use xlink:href='#icon-database'></use></svg></label><div class='xr-var-attrs'><dl class='xr-attrs'></dl></div><div class='xr-var-data'><pre>array([[   0.        , -214.64511748,  -55.54483816,    0.        ],\n",
              "       [   0.        , -190.51123601,  -50.65946346,    0.        ],\n",
              "       [   0.        , -184.24665238,  -49.34749538,    0.        ],\n",
              "       ...,\n",
              "       [ -56.42950875,  -55.64429836,  -54.23177224,    0.        ],\n",
              "       [ -59.61432457,  -58.77012069,  -57.28574783,    0.        ],\n",
              "       [ -65.25750707,  -64.30583241,  -62.66566867,    0.        ]])</pre></div></li><li class='xr-var-item'><div class='xr-var-name'><span>flat</span></div><div class='xr-var-dims'>(time, ni)</div><div class='xr-var-dtype'>float64</div><div class='xr-var-preview xr-preview'>0.0 -13.83 -1.707 ... -2.159 0.0</div><input id='attrs-39b6ff6f-53af-4788-acdc-601e6ac4e817' class='xr-var-attrs-in' type='checkbox' disabled><label for='attrs-39b6ff6f-53af-4788-acdc-601e6ac4e817' title='Show/Hide attributes'><svg class='icon xr-icon-file-text2'><use xlink:href='#icon-file-text2'></use></svg></label><input id='data-c903a174-9f6d-4dce-87a3-ebb41b212a44' class='xr-var-data-in' type='checkbox'><label for='data-c903a174-9f6d-4dce-87a3-ebb41b212a44' title='Show/Hide data repr'><svg class='icon xr-icon-database'><use xlink:href='#icon-database'></use></svg></label><div class='xr-var-attrs'><dl class='xr-attrs'></dl></div><div class='xr-var-data'><pre>array([[  0.        , -13.82594847,  -1.70658126,   0.        ],\n",
              "       [  0.        , -11.91812674,  -1.14416426,   0.        ],\n",
              "       [  0.        , -10.766167  ,  -0.8096402 ,   0.        ],\n",
              "       ...,\n",
              "       [ -2.87898698,  -2.84780663,  -2.80807414,   0.        ],\n",
              "       [ -2.59557682,  -2.56294505,  -2.52375797,   0.        ],\n",
              "       [ -2.22797823,  -2.195076  ,  -2.15872222,   0.        ]])</pre></div></li><li class='xr-var-item'><div class='xr-var-name'><span>frain</span></div><div class='xr-var-dims'>(time, ni)</div><div class='xr-var-dtype'>float64</div><div class='xr-var-preview xr-preview'>0.0 0.0 0.0 0.0 ... 0.0 0.0 0.0 0.0</div><input id='attrs-2c7b9c30-a0e2-44f7-8593-02efbc8e86c9' class='xr-var-attrs-in' type='checkbox' disabled><label for='attrs-2c7b9c30-a0e2-44f7-8593-02efbc8e86c9' title='Show/Hide attributes'><svg class='icon xr-icon-file-text2'><use xlink:href='#icon-file-text2'></use></svg></label><input id='data-d3b1ad03-6b3a-4ab8-a09f-17682ce34105' class='xr-var-data-in' type='checkbox'><label for='data-d3b1ad03-6b3a-4ab8-a09f-17682ce34105' title='Show/Hide data repr'><svg class='icon xr-icon-database'><use xlink:href='#icon-database'></use></svg></label><div class='xr-var-attrs'><dl class='xr-attrs'></dl></div><div class='xr-var-data'><pre>array([[0., 0., 0., 0.],\n",
              "       [0., 0., 0., 0.],\n",
              "       [0., 0., 0., 0.],\n",
              "       ...,\n",
              "       [0., 0., 0., 0.],\n",
              "       [0., 0., 0., 0.],\n",
              "       [0., 0., 0., 0.]])</pre></div></li><li class='xr-var-item'><div class='xr-var-name'><span>Tair</span></div><div class='xr-var-dims'>(time, ni)</div><div class='xr-var-dtype'>float64</div><div class='xr-var-preview xr-preview'>243.1 243.1 243.1 ... 240.0 240.0</div><input id='attrs-38de0f28-297a-4533-bd2a-e1e5f565ad77' class='xr-var-attrs-in' type='checkbox' disabled><label for='attrs-38de0f28-297a-4533-bd2a-e1e5f565ad77' title='Show/Hide attributes'><svg class='icon xr-icon-file-text2'><use xlink:href='#icon-file-text2'></use></svg></label><input id='data-501c905b-758e-441d-9c69-63117610371d' class='xr-var-data-in' type='checkbox'><label for='data-501c905b-758e-441d-9c69-63117610371d' title='Show/Hide data repr'><svg class='icon xr-icon-database'><use xlink:href='#icon-database'></use></svg></label><div class='xr-var-attrs'><dl class='xr-attrs'></dl></div><div class='xr-var-data'><pre>array([[243.11963, 243.11963, 243.11963, 243.11963],\n",
              "       [243.49715, 243.49715, 243.49715, 243.49715],\n",
              "       [243.34235, 243.34235, 243.34235, 243.34235],\n",
              "       ...,\n",
              "       [240.64209, 240.64209, 240.64209, 240.64209],\n",
              "       [240.75432, 240.75432, 240.75432, 240.75432],\n",
              "       [239.95261, 239.95261, 239.95261, 239.95261]])</pre></div></li><li class='xr-var-item'><div class='xr-var-name'><span>Qa</span></div><div class='xr-var-dims'>(time, ni)</div><div class='xr-var-dtype'>float64</div><div class='xr-var-preview xr-preview'>0.0002462 0.0002462 ... 0.000175</div><input id='attrs-fc2ffa92-e4df-4d74-877d-38e2f344e788' class='xr-var-attrs-in' type='checkbox' disabled><label for='attrs-fc2ffa92-e4df-4d74-877d-38e2f344e788' title='Show/Hide attributes'><svg class='icon xr-icon-file-text2'><use xlink:href='#icon-file-text2'></use></svg></label><input id='data-4e7f7a9b-3571-475f-96ce-b642f2afe34e' class='xr-var-data-in' type='checkbox'><label for='data-4e7f7a9b-3571-475f-96ce-b642f2afe34e' title='Show/Hide data repr'><svg class='icon xr-icon-database'><use xlink:href='#icon-database'></use></svg></label><div class='xr-var-attrs'><dl class='xr-attrs'></dl></div><div class='xr-var-data'><pre>array([[0.00024625, 0.00024625, 0.00024625, 0.00024625],\n",
              "       [0.00025254, 0.00025254, 0.00025254, 0.00025254],\n",
              "       [0.00024736, 0.00024736, 0.00024736, 0.00024736],\n",
              "       ...,\n",
              "       [0.00019263, 0.00019263, 0.00019263, 0.00019263],\n",
              "       [0.00018905, 0.00018905, 0.00018905, 0.00018905],\n",
              "       [0.00017497, 0.00017497, 0.00017497, 0.00017497]])</pre></div></li><li class='xr-var-item'><div class='xr-var-name'><span>fsw</span></div><div class='xr-var-dims'>(time, ni)</div><div class='xr-var-dtype'>float64</div><div class='xr-var-preview xr-preview'>0.0 0.0 0.0 0.0 ... 0.0 0.0 0.0 0.0</div><input id='attrs-fc67809d-2672-45d2-bfdb-04c930032127' class='xr-var-attrs-in' type='checkbox' disabled><label for='attrs-fc67809d-2672-45d2-bfdb-04c930032127' title='Show/Hide attributes'><svg class='icon xr-icon-file-text2'><use xlink:href='#icon-file-text2'></use></svg></label><input id='data-166dc8d2-969e-4665-b22f-62d6702082c0' class='xr-var-data-in' type='checkbox'><label for='data-166dc8d2-969e-4665-b22f-62d6702082c0' title='Show/Hide data repr'><svg class='icon xr-icon-database'><use xlink:href='#icon-database'></use></svg></label><div class='xr-var-attrs'><dl class='xr-attrs'></dl></div><div class='xr-var-data'><pre>array([[0., 0., 0., 0.],\n",
              "       [0., 0., 0., 0.],\n",
              "       [0., 0., 0., 0.],\n",
              "       ...,\n",
              "       [0., 0., 0., 0.],\n",
              "       [0., 0., 0., 0.],\n",
              "       [0., 0., 0., 0.]])</pre></div></li><li class='xr-var-item'><div class='xr-var-name'><span>fcondtop</span></div><div class='xr-var-dims'>(time, ni)</div><div class='xr-var-dtype'>float64</div><div class='xr-var-preview xr-preview'>0.0 -214.6 -55.54 ... -62.67 0.0</div><input id='attrs-bb1f25a3-b117-4257-913a-659d856d4bff' class='xr-var-attrs-in' type='checkbox' disabled><label for='attrs-bb1f25a3-b117-4257-913a-659d856d4bff' title='Show/Hide attributes'><svg class='icon xr-icon-file-text2'><use xlink:href='#icon-file-text2'></use></svg></label><input id='data-5485b2f7-7857-4d76-ae87-e6d267060ec4' class='xr-var-data-in' type='checkbox'><label for='data-5485b2f7-7857-4d76-ae87-e6d267060ec4' title='Show/Hide data repr'><svg class='icon xr-icon-database'><use xlink:href='#icon-database'></use></svg></label><div class='xr-var-attrs'><dl class='xr-attrs'></dl></div><div class='xr-var-data'><pre>array([[   0.        , -214.64511748,  -55.54483816,    0.        ],\n",
              "       [   0.        , -190.51123601,  -50.65946346,    0.        ],\n",
              "       [   0.        , -184.24665238,  -49.34749538,    0.        ],\n",
              "       ...,\n",
              "       [ -56.42950875,  -55.64429836,  -54.23177224,    0.        ],\n",
              "       [ -59.61432457,  -58.77012069,  -57.28574783,    0.        ],\n",
              "       [ -65.25750707,  -64.30583241,  -62.66566867,    0.        ]])</pre></div></li><li class='xr-var-item'><div class='xr-var-name'><span>meltt</span></div><div class='xr-var-dims'>(time, ni)</div><div class='xr-var-dtype'>float64</div><div class='xr-var-preview xr-preview'>0.0 7.212e-18 0.0 ... 0.0 0.0 0.0</div><input id='attrs-f0eb6c4e-40d2-4806-a507-dd7fac091618' class='xr-var-attrs-in' type='checkbox' disabled><label for='attrs-f0eb6c4e-40d2-4806-a507-dd7fac091618' title='Show/Hide attributes'><svg class='icon xr-icon-file-text2'><use xlink:href='#icon-file-text2'></use></svg></label><input id='data-44ad6587-64aa-46e4-82ce-13113ca3117b' class='xr-var-data-in' type='checkbox'><label for='data-44ad6587-64aa-46e4-82ce-13113ca3117b' title='Show/Hide data repr'><svg class='icon xr-icon-database'><use xlink:href='#icon-database'></use></svg></label><div class='xr-var-attrs'><dl class='xr-attrs'></dl></div><div class='xr-var-data'><pre>array([[0.00000000e+00, 7.21189292e-18, 0.00000000e+00, 0.00000000e+00],\n",
              "       [0.00000000e+00, 0.00000000e+00, 0.00000000e+00, 0.00000000e+00],\n",
              "       [0.00000000e+00, 6.63565643e-21, 0.00000000e+00, 0.00000000e+00],\n",
              "       ...,\n",
              "       [0.00000000e+00, 0.00000000e+00, 0.00000000e+00, 0.00000000e+00],\n",
              "       [0.00000000e+00, 0.00000000e+00, 0.00000000e+00, 0.00000000e+00],\n",
              "       [0.00000000e+00, 0.00000000e+00, 0.00000000e+00, 0.00000000e+00]])</pre></div></li><li class='xr-var-item'><div class='xr-var-name'><span>meltb</span></div><div class='xr-var-dims'>(time, ni)</div><div class='xr-var-dtype'>float64</div><div class='xr-var-preview xr-preview'>0.0 0.0 0.0 ... 6.852e-07 0.0</div><input id='attrs-d1ecea4b-3629-4dfc-ad94-25f087c9b57f' class='xr-var-attrs-in' type='checkbox' disabled><label for='attrs-d1ecea4b-3629-4dfc-ad94-25f087c9b57f' title='Show/Hide attributes'><svg class='icon xr-icon-file-text2'><use xlink:href='#icon-file-text2'></use></svg></label><input id='data-7d4cf7f5-c84a-47a3-9d3b-dd54aa20a154' class='xr-var-data-in' type='checkbox'><label for='data-7d4cf7f5-c84a-47a3-9d3b-dd54aa20a154' title='Show/Hide data repr'><svg class='icon xr-icon-database'><use xlink:href='#icon-database'></use></svg></label><div class='xr-var-attrs'><dl class='xr-attrs'></dl></div><div class='xr-var-data'><pre>array([[0.00000000e+00, 0.00000000e+00, 0.00000000e+00, 0.00000000e+00],\n",
              "       [0.00000000e+00, 0.00000000e+00, 0.00000000e+00, 0.00000000e+00],\n",
              "       [0.00000000e+00, 0.00000000e+00, 0.00000000e+00, 0.00000000e+00],\n",
              "       ...,\n",
              "       [6.34605595e-07, 9.23979288e-07, 6.84986079e-07, 0.00000000e+00],\n",
              "       [6.35155040e-07, 9.24659670e-07, 6.85077022e-07, 0.00000000e+00],\n",
              "       [6.35730395e-07, 9.25364099e-07, 6.85185641e-07, 0.00000000e+00]])</pre></div></li><li class='xr-var-item'><div class='xr-var-name'><span>meltl</span></div><div class='xr-var-dims'>(time, ni)</div><div class='xr-var-dtype'>float64</div><div class='xr-var-preview xr-preview'>0.0 0.0 0.0 0.0 ... 0.0 0.0 0.0 0.0</div><input id='attrs-45cbfe0f-84e9-4c3a-b44a-dba2de7f4de1' class='xr-var-attrs-in' type='checkbox' disabled><label for='attrs-45cbfe0f-84e9-4c3a-b44a-dba2de7f4de1' title='Show/Hide attributes'><svg class='icon xr-icon-file-text2'><use xlink:href='#icon-file-text2'></use></svg></label><input id='data-05b88131-481e-4142-8a60-8783d10b6fe1' class='xr-var-data-in' type='checkbox'><label for='data-05b88131-481e-4142-8a60-8783d10b6fe1' title='Show/Hide data repr'><svg class='icon xr-icon-database'><use xlink:href='#icon-database'></use></svg></label><div class='xr-var-attrs'><dl class='xr-attrs'></dl></div><div class='xr-var-data'><pre>array([[0.00000000e+00, 0.00000000e+00, 0.00000000e+00, 0.00000000e+00],\n",
              "       [0.00000000e+00, 8.45127382e-06, 7.56240747e-06, 0.00000000e+00],\n",
              "       [0.00000000e+00, 8.41590149e-06, 7.51416275e-06, 0.00000000e+00],\n",
              "       ...,\n",
              "       [0.00000000e+00, 0.00000000e+00, 0.00000000e+00, 0.00000000e+00],\n",
              "       [0.00000000e+00, 0.00000000e+00, 0.00000000e+00, 0.00000000e+00],\n",
              "       [0.00000000e+00, 0.00000000e+00, 0.00000000e+00, 0.00000000e+00]])</pre></div></li><li class='xr-var-item'><div class='xr-var-name'><span>snoice</span></div><div class='xr-var-dims'>(time, ni)</div><div class='xr-var-dtype'>float64</div><div class='xr-var-preview xr-preview'>0.0 0.0 0.0 0.0 ... 0.0 0.0 0.0 0.0</div><input id='attrs-f814fe1a-0d5e-4da9-b2c1-ce86d2e82792' class='xr-var-attrs-in' type='checkbox' disabled><label for='attrs-f814fe1a-0d5e-4da9-b2c1-ce86d2e82792' title='Show/Hide attributes'><svg class='icon xr-icon-file-text2'><use xlink:href='#icon-file-text2'></use></svg></label><input id='data-aa942676-909c-4a76-900f-720c0b84e650' class='xr-var-data-in' type='checkbox'><label for='data-aa942676-909c-4a76-900f-720c0b84e650' title='Show/Hide data repr'><svg class='icon xr-icon-database'><use xlink:href='#icon-database'></use></svg></label><div class='xr-var-attrs'><dl class='xr-attrs'></dl></div><div class='xr-var-data'><pre>array([[0., 0., 0., 0.],\n",
              "       [0., 0., 0., 0.],\n",
              "       [0., 0., 0., 0.],\n",
              "       ...,\n",
              "       [0., 0., 0., 0.],\n",
              "       [0., 0., 0., 0.],\n",
              "       [0., 0., 0., 0.]])</pre></div></li><li class='xr-var-item'><div class='xr-var-name'><span>dsnow</span></div><div class='xr-var-dims'>(time, ni)</div><div class='xr-var-dtype'>float64</div><div class='xr-var-preview xr-preview'>0.0 2.618e-06 ... 4.808e-06 0.0</div><input id='attrs-6472017a-a65c-4855-b879-2a7d3becf71c' class='xr-var-attrs-in' type='checkbox' disabled><label for='attrs-6472017a-a65c-4855-b879-2a7d3becf71c' title='Show/Hide attributes'><svg class='icon xr-icon-file-text2'><use xlink:href='#icon-file-text2'></use></svg></label><input id='data-137e3910-7a7a-4407-93bf-fd34c2d609fd' class='xr-var-data-in' type='checkbox'><label for='data-137e3910-7a7a-4407-93bf-fd34c2d609fd' title='Show/Hide data repr'><svg class='icon xr-icon-database'><use xlink:href='#icon-database'></use></svg></label><div class='xr-var-attrs'><dl class='xr-attrs'></dl></div><div class='xr-var-data'><pre>array([[ 0.00000000e+00,  2.61818182e-06, -3.88808672e-06,\n",
              "         0.00000000e+00],\n",
              "       [ 0.00000000e+00,  1.30889265e-06, -4.30652455e-07,\n",
              "         0.00000000e+00],\n",
              "       [ 0.00000000e+00, -7.01810067e-11,  8.45954178e-07,\n",
              "         0.00000000e+00],\n",
              "       ...,\n",
              "       [ 2.07471916e-06,  2.19183877e-06,  2.34113130e-06,\n",
              "         0.00000000e+00],\n",
              "       [ 3.15099012e-06,  3.27371029e-06,  3.42118123e-06,\n",
              "         0.00000000e+00],\n",
              "       [ 4.54670433e-06,  4.67055329e-06,  4.80755389e-06,\n",
              "         0.00000000e+00]])</pre></div></li><li class='xr-var-item'><div class='xr-var-name'><span>congel</span></div><div class='xr-var-dims'>(time, ni)</div><div class='xr-var-dtype'>float64</div><div class='xr-var-preview xr-preview'>0.0 0.0006893 ... 0.0002948 0.0</div><input id='attrs-0f33e0af-ea92-406b-bade-4dc97e8a1139' class='xr-var-attrs-in' type='checkbox' disabled><label for='attrs-0f33e0af-ea92-406b-bade-4dc97e8a1139' title='Show/Hide attributes'><svg class='icon xr-icon-file-text2'><use xlink:href='#icon-file-text2'></use></svg></label><input id='data-d6322432-953b-492f-b6ef-eda5b0775663' class='xr-var-data-in' type='checkbox'><label for='data-d6322432-953b-492f-b6ef-eda5b0775663' title='Show/Hide data repr'><svg class='icon xr-icon-database'><use xlink:href='#icon-database'></use></svg></label><div class='xr-var-attrs'><dl class='xr-attrs'></dl></div><div class='xr-var-data'><pre>array([[0.        , 0.00068931, 0.00122293, 0.        ],\n",
              "       [0.        , 0.00056488, 0.00098747, 0.        ],\n",
              "       [0.        , 0.00055019, 0.00091558, 0.        ],\n",
              "       ...,\n",
              "       [0.0003114 , 0.00030595, 0.00029964, 0.        ],\n",
              "       [0.00030905, 0.00030362, 0.0002973 , 0.        ],\n",
              "       [0.00030655, 0.00030113, 0.00029482, 0.        ]])</pre></div></li><li class='xr-var-item'><div class='xr-var-name'><span>sst</span></div><div class='xr-var-dims'>(time, ni)</div><div class='xr-var-dtype'>float64</div><div class='xr-var-preview xr-preview'>-1.829 -1.8 -1.801 ... -1.905 0.0</div><input id='attrs-28cccc38-8bd8-4ae5-a252-37acaa6107d4' class='xr-var-attrs-in' type='checkbox' disabled><label for='attrs-28cccc38-8bd8-4ae5-a252-37acaa6107d4' title='Show/Hide attributes'><svg class='icon xr-icon-file-text2'><use xlink:href='#icon-file-text2'></use></svg></label><input id='data-0d978eac-a3d9-45e2-8750-3e7eb53ef3a1' class='xr-var-data-in' type='checkbox'><label for='data-0d978eac-a3d9-45e2-8750-3e7eb53ef3a1' title='Show/Hide data repr'><svg class='icon xr-icon-database'><use xlink:href='#icon-database'></use></svg></label><div class='xr-var-attrs'><dl class='xr-attrs'></dl></div><div class='xr-var-data'><pre>array([[-1.82874648, -1.80030364, -1.80053953,  0.        ],\n",
              "       [-1.85656313, -1.80064217, -1.80106373,  0.        ],\n",
              "       [-1.88425576, -1.80097611, -1.80155858,  0.        ],\n",
              "       ...,\n",
              "       [-1.90458265, -1.90458265, -1.90458265,  0.        ],\n",
              "       [-1.90458265, -1.90458265, -1.90458265,  0.        ],\n",
              "       [-1.90458265, -1.90458265, -1.90458265,  0.        ]])</pre></div></li><li class='xr-var-item'><div class='xr-var-name'><span>sss</span></div><div class='xr-var-dims'>(time, ni)</div><div class='xr-var-dtype'>float64</div><div class='xr-var-preview xr-preview'>34.0 34.0 34.0 ... 34.0 34.0 34.0</div><input id='attrs-79cd6918-bc51-4c82-9ac2-bfd45b55cb12' class='xr-var-attrs-in' type='checkbox' disabled><label for='attrs-79cd6918-bc51-4c82-9ac2-bfd45b55cb12' title='Show/Hide attributes'><svg class='icon xr-icon-file-text2'><use xlink:href='#icon-file-text2'></use></svg></label><input id='data-3ce9e94b-5713-4748-bd9e-76f6fb4dec9d' class='xr-var-data-in' type='checkbox'><label for='data-3ce9e94b-5713-4748-bd9e-76f6fb4dec9d' title='Show/Hide data repr'><svg class='icon xr-icon-database'><use xlink:href='#icon-database'></use></svg></label><div class='xr-var-attrs'><dl class='xr-attrs'></dl></div><div class='xr-var-data'><pre>array([[34., 34., 34., 34.],\n",
              "       [34., 34., 34., 34.],\n",
              "       [34., 34., 34., 34.],\n",
              "       ...,\n",
              "       [34., 34., 34., 34.],\n",
              "       [34., 34., 34., 34.],\n",
              "       [34., 34., 34., 34.]])</pre></div></li><li class='xr-var-item'><div class='xr-var-name'><span>Tf</span></div><div class='xr-var-dims'>(time, ni)</div><div class='xr-var-dtype'>float64</div><div class='xr-var-preview xr-preview'>-1.905 -1.905 ... -1.905 -1.905</div><input id='attrs-e8a0e939-6039-445f-bff3-e9ef91d8333e' class='xr-var-attrs-in' type='checkbox' disabled><label for='attrs-e8a0e939-6039-445f-bff3-e9ef91d8333e' title='Show/Hide attributes'><svg class='icon xr-icon-file-text2'><use xlink:href='#icon-file-text2'></use></svg></label><input id='data-1d7e6077-8784-49f1-a395-57b3fd82fc1c' class='xr-var-data-in' type='checkbox'><label for='data-1d7e6077-8784-49f1-a395-57b3fd82fc1c' title='Show/Hide data repr'><svg class='icon xr-icon-database'><use xlink:href='#icon-database'></use></svg></label><div class='xr-var-attrs'><dl class='xr-attrs'></dl></div><div class='xr-var-data'><pre>array([[-1.90458265, -1.90458265, -1.90458265, -1.90458265],\n",
              "       [-1.90458265, -1.90458265, -1.90458265, -1.90458265],\n",
              "       [-1.90458265, -1.90458265, -1.90458265, -1.90458265],\n",
              "       ...,\n",
              "       [-1.90458265, -1.90458265, -1.90458265, -1.90458265],\n",
              "       [-1.90458265, -1.90458265, -1.90458265, -1.90458265],\n",
              "       [-1.90458265, -1.90458265, -1.90458265, -1.90458265]])</pre></div></li><li class='xr-var-item'><div class='xr-var-name'><span>fhocn</span></div><div class='xr-var-dims'>(time, ni)</div><div class='xr-var-dtype'>float64</div><div class='xr-var-preview xr-preview'>0.0 -7.219 -12.89 ... -3.137 0.0</div><input id='attrs-83fc4c1a-8608-44ec-b34f-ed1dc8a6d4d3' class='xr-var-attrs-in' type='checkbox' disabled><label for='attrs-83fc4c1a-8608-44ec-b34f-ed1dc8a6d4d3' title='Show/Hide attributes'><svg class='icon xr-icon-file-text2'><use xlink:href='#icon-file-text2'></use></svg></label><input id='data-f207a909-1305-4db8-8e2d-643735d6d035' class='xr-var-data-in' type='checkbox'><label for='data-f207a909-1305-4db8-8e2d-643735d6d035' title='Show/Hide data repr'><svg class='icon xr-icon-database'><use xlink:href='#icon-database'></use></svg></label><div class='xr-var-attrs'><dl class='xr-attrs'></dl></div><div class='xr-var-data'><pre>array([[  0.        ,  -7.21885334, -12.89024065,   0.        ],\n",
              "       [  0.        ,  -7.99471522, -12.45875227,   0.        ],\n",
              "       [  0.        ,  -7.83381726, -11.70224929,   0.        ],\n",
              "       ...,\n",
              "       [ -3.30143334,  -3.24559062,  -3.18468613,   0.        ],\n",
              "       [ -3.2781181 ,  -3.22235396,  -3.16152739,   0.        ],\n",
              "       [ -3.25311968,  -3.19759827,  -3.13675614,   0.        ]])</pre></div></li><li class='xr-var-item'><div class='xr-var-name'><span>aicen</span></div><div class='xr-var-dims'>(time, ncat, ni)</div><div class='xr-var-dtype'>float64</div><div class='xr-var-preview xr-preview'>0.0 0.0 0.09939 ... 0.004224 0.0</div><input id='attrs-f8880882-83d6-474c-a292-aaa5300847c2' class='xr-var-attrs-in' type='checkbox' disabled><label for='attrs-f8880882-83d6-474c-a292-aaa5300847c2' title='Show/Hide attributes'><svg class='icon xr-icon-file-text2'><use xlink:href='#icon-file-text2'></use></svg></label><input id='data-30723dfd-9b0a-4d82-9b9d-b70072afcfec' class='xr-var-data-in' type='checkbox'><label for='data-30723dfd-9b0a-4d82-9b9d-b70072afcfec' title='Show/Hide data repr'><svg class='icon xr-icon-database'><use xlink:href='#icon-database'></use></svg></label><div class='xr-var-attrs'><dl class='xr-attrs'></dl></div><div class='xr-var-data'><pre>array([[[0.00000000e+00, 0.00000000e+00, 9.93927127e-02, 0.00000000e+00],\n",
              "        [0.00000000e+00, 0.00000000e+00, 2.70426460e-01, 0.00000000e+00],\n",
              "        [0.00000000e+00, 9.98789269e-01, 3.59588616e-01, 0.00000000e+00],\n",
              "        [0.00000000e+00, 1.07489868e-03, 2.70368735e-01, 0.00000000e+00],\n",
              "        [0.00000000e+00, 1.80031962e-05, 1.05647361e-04, 0.00000000e+00]],\n",
              "\n",
              "       [[0.00000000e+00, 0.00000000e+00, 9.88863714e-02, 0.00000000e+00],\n",
              "        [0.00000000e+00, 0.00000000e+00, 2.70544158e-01, 0.00000000e+00],\n",
              "        [0.00000000e+00, 9.97965968e-01, 3.59711673e-01, 0.00000000e+00],\n",
              "        [0.00000000e+00, 1.78110943e-03, 2.70474104e-01, 0.00000000e+00],\n",
              "        [0.00000000e+00, 3.71466911e-05, 1.67899957e-04, 0.00000000e+00]],\n",
              "\n",
              "       [[0.00000000e+00, 0.00000000e+00, 9.84191223e-02, 0.00000000e+00],\n",
              "        [0.00000000e+00, 0.00000000e+00, 2.70643698e-01, 0.00000000e+00],\n",
              "        [0.00000000e+00, 9.97175502e-01, 3.59831996e-01, 0.00000000e+00],\n",
              "        [0.00000000e+00, 2.47459877e-03, 2.70584287e-01, 0.00000000e+00],\n",
              "        [0.00000000e+00, 5.77597432e-05, 2.28704904e-04, 0.00000000e+00]],\n",
              "\n",
              "       ...,\n",
              "\n",
              "       [[1.03852325e-01, 1.01165872e-01, 9.17912141e-02, 0.00000000e+00],\n",
              "        [8.53395575e-01, 8.49431795e-01, 8.53850172e-01, 0.00000000e+00],\n",
              "        [3.46422610e-02, 3.36610217e-02, 4.35439456e-02, 0.00000000e+00],\n",
              "        [3.37989351e-03, 5.19237299e-03, 6.39806185e-03, 0.00000000e+00],\n",
              "        [4.53277026e-03, 1.03517623e-02, 4.21943112e-03, 0.00000000e+00]],\n",
              "\n",
              "       [[1.03842689e-01, 1.01156183e-01, 9.17872092e-02, 0.00000000e+00],\n",
              "        [8.53250772e-01, 8.49318180e-01, 8.53753984e-01, 0.00000000e+00],\n",
              "        [3.48207329e-02, 3.38092971e-02, 4.36684143e-02, 0.00000000e+00],\n",
              "        [3.38153394e-03, 5.19388860e-03, 6.39932264e-03, 0.00000000e+00],\n",
              "        [4.53467430e-03, 1.03528529e-02, 4.22147200e-03, 0.00000000e+00]],\n",
              "\n",
              "       [[1.03804292e-01, 1.01117574e-01, 9.17538765e-02, 0.00000000e+00],\n",
              "        [8.53133225e-01, 8.49231613e-01, 8.53684892e-01, 0.00000000e+00],\n",
              "        [3.49990488e-02, 3.39575533e-02, 4.37933678e-02, 0.00000000e+00],\n",
              "        [3.38342061e-03, 5.19570633e-03, 6.40092034e-03, 0.00000000e+00],\n",
              "        [4.53691292e-03, 1.03544525e-02, 4.22384211e-03, 0.00000000e+00]]])</pre></div></li><li class='xr-var-item'><div class='xr-var-name'><span>vicen</span></div><div class='xr-var-dims'>(time, ncat, ni)</div><div class='xr-var-dtype'>float64</div><div class='xr-var-preview xr-preview'>0.0 0.0 0.03012 ... 0.02483 0.0</div><input id='attrs-3d93e15b-7be3-4855-a20b-e4d6c0afadb0' class='xr-var-attrs-in' type='checkbox' disabled><label for='attrs-3d93e15b-7be3-4855-a20b-e4d6c0afadb0' title='Show/Hide attributes'><svg class='icon xr-icon-file-text2'><use xlink:href='#icon-file-text2'></use></svg></label><input id='data-b702445e-e5ba-485d-ae31-703808833f61' class='xr-var-data-in' type='checkbox'><label for='data-b702445e-e5ba-485d-ae31-703808833f61' title='Show/Hide data repr'><svg class='icon xr-icon-database'><use xlink:href='#icon-database'></use></svg></label><div class='xr-var-attrs'><dl class='xr-attrs'></dl></div><div class='xr-var-data'><pre>array([[[0.00000000e+00, 0.00000000e+00, 3.01175048e-02, 0.00000000e+00],\n",
              "        [0.00000000e+00, 0.00000000e+00, 2.70435093e-01, 0.00000000e+00],\n",
              "        [0.00000000e+00, 1.99781957e+00, 6.83187160e-01, 0.00000000e+00],\n",
              "        [0.00000000e+00, 2.58255740e-03, 8.11037861e-01, 0.00000000e+00],\n",
              "        [0.00000000e+00, 1.41197207e-04, 3.85413504e-04, 0.00000000e+00]],\n",
              "\n",
              "       [[0.00000000e+00, 0.00000000e+00, 3.01927677e-02, 0.00000000e+00],\n",
              "        [0.00000000e+00, 0.00000000e+00, 2.70568456e-01, 0.00000000e+00],\n",
              "        [0.00000000e+00, 1.99644038e+00, 6.83394696e-01, 0.00000000e+00],\n",
              "        [0.00000000e+00, 4.28068439e-03, 8.11307458e-01, 0.00000000e+00],\n",
              "        [0.00000000e+00, 2.91344231e-04, 6.15007143e-04, 0.00000000e+00]],\n",
              "\n",
              "       [[0.00000000e+00, 0.00000000e+00, 3.02475641e-02, 0.00000000e+00],\n",
              "        [0.00000000e+00, 0.00000000e+00, 2.70686166e-01, 0.00000000e+00],\n",
              "        [0.00000000e+00, 1.99511911e+00, 6.83601205e-01, 0.00000000e+00],\n",
              "        [0.00000000e+00, 5.94876752e-03, 8.11593754e-01, 0.00000000e+00],\n",
              "        [0.00000000e+00, 4.53024119e-04, 8.39888317e-04, 0.00000000e+00]],\n",
              "\n",
              "       ...,\n",
              "\n",
              "       [[4.36150825e-02, 4.21562555e-02, 3.76489390e-02, 0.00000000e+00],\n",
              "        [8.40554320e-01, 8.21820149e-01, 8.08730524e-01, 0.00000000e+00],\n",
              "        [5.14960444e-02, 5.12917668e-02, 7.60286758e-02, 0.00000000e+00],\n",
              "        [1.01370379e-02, 1.58179495e-02, 1.79722069e-02, 0.00000000e+00],\n",
              "        [2.65316152e-02, 6.48910161e-02, 2.48065740e-02, 0.00000000e+00]],\n",
              "\n",
              "       [[4.36550849e-02, 4.21983380e-02, 3.76973232e-02, 0.00000000e+00],\n",
              "        [8.40573615e-01, 8.21874969e-01, 8.08802926e-01, 0.00000000e+00],\n",
              "        [5.17537957e-02, 5.15064178e-02, 7.62093909e-02, 0.00000000e+00],\n",
              "        [1.01416757e-02, 1.58221637e-02, 1.79758231e-02, 0.00000000e+00],\n",
              "        [2.65430240e-02, 6.48973664e-02, 2.48186931e-02, 0.00000000e+00]],\n",
              "\n",
              "       [[4.36812211e-02, 4.22264757e-02, 3.77315080e-02, 0.00000000e+00],\n",
              "        [8.40628887e-01, 8.21964944e-01, 8.08909832e-01, 0.00000000e+00],\n",
              "        [5.20119705e-02, 5.17216969e-02, 7.63919043e-02, 0.00000000e+00],\n",
              "        [1.01470906e-02, 1.58273534e-02, 1.79804936e-02, 0.00000000e+00],\n",
              "        [2.65564568e-02, 6.49069693e-02, 2.48328094e-02, 0.00000000e+00]]])</pre></div></li><li class='xr-var-item'><div class='xr-var-name'><span>vsnon</span></div><div class='xr-var-dims'>(time, ncat, ni)</div><div class='xr-var-dtype'>float64</div><div class='xr-var-preview xr-preview'>0.0 0.0 0.005962 ... 0.001064 0.0</div><input id='attrs-cb7188a6-fd07-4957-bc16-87cc64a2f5f6' class='xr-var-attrs-in' type='checkbox' disabled><label for='attrs-cb7188a6-fd07-4957-bc16-87cc64a2f5f6' title='Show/Hide attributes'><svg class='icon xr-icon-file-text2'><use xlink:href='#icon-file-text2'></use></svg></label><input id='data-cc28d50e-3c88-4c5e-a8a3-ee38e533abf3' class='xr-var-data-in' type='checkbox'><label for='data-cc28d50e-3c88-4c5e-a8a3-ee38e533abf3' title='Show/Hide data repr'><svg class='icon xr-icon-database'><use xlink:href='#icon-database'></use></svg></label><div class='xr-var-attrs'><dl class='xr-attrs'></dl></div><div class='xr-var-data'><pre>array([[[0.00000000e+00, 0.00000000e+00, 5.96160173e-03, 0.00000000e+00],\n",
              "        [0.00000000e+00, 0.00000000e+00, 5.40075577e-02, 0.00000000e+00],\n",
              "        [0.00000000e+00, 2.61501190e-06, 8.98781192e-02, 0.00000000e+00],\n",
              "        [0.00000000e+00, 2.81301461e-09, 6.75918525e-02, 0.00000000e+00],\n",
              "        [0.00000000e+00, 9.24088399e-11, 2.71522531e-05, 0.00000000e+00]],\n",
              "\n",
              "       [[0.00000000e+00, 0.00000000e+00, 5.93004719e-03, 0.00000000e+00],\n",
              "        [0.00000000e+00, 0.00000000e+00, 5.39685938e-02, 0.00000000e+00],\n",
              "        [0.00000000e+00, 3.91928453e-06, 8.98936685e-02, 0.00000000e+00],\n",
              "        [0.00000000e+00, 6.99288408e-09, 6.76186290e-02, 0.00000000e+00],\n",
              "        [0.00000000e+00, 2.18084616e-10, 4.35067366e-05, 0.00000000e+00]],\n",
              "\n",
              "       [[0.00000000e+00, 0.00000000e+00, 5.90110921e-03, 0.00000000e+00],\n",
              "        [0.00000000e+00, 0.00000000e+00, 5.39321039e-02, 0.00000000e+00],\n",
              "        [0.00000000e+00, 3.91618015e-06, 8.99096595e-02, 0.00000000e+00],\n",
              "        [0.00000000e+00, 9.71625117e-09, 6.76468930e-02, 0.00000000e+00],\n",
              "        [0.00000000e+00, 3.04564064e-10, 5.95640880e-05, 0.00000000e+00]],\n",
              "\n",
              "       ...,\n",
              "\n",
              "       [[1.50594407e-03, 1.30633397e-03, 7.24988873e-04, 0.00000000e+00],\n",
              "        [8.30008779e-02, 8.69916490e-02, 9.64695275e-02, 0.00000000e+00],\n",
              "        [3.55220352e-03, 3.85698852e-03, 7.25657814e-03, 0.00000000e+00],\n",
              "        [4.73067170e-04, 9.29100381e-04, 1.25417073e-03, 0.00000000e+00],\n",
              "        [8.54590255e-04, 2.32940996e-03, 1.06360953e-03, 0.00000000e+00]],\n",
              "\n",
              "       [[1.50081902e-03, 1.30145722e-03, 7.20926087e-04, 0.00000000e+00],\n",
              "        [8.29795976e-02, 8.69718709e-02, 9.64488626e-02, 0.00000000e+00],\n",
              "        [3.56964030e-03, 3.87221529e-03, 7.27054294e-03, 0.00000000e+00],\n",
              "        [4.73200698e-04, 9.29222499e-04, 1.25423365e-03, 0.00000000e+00],\n",
              "        [8.54939852e-04, 2.32961900e-03, 1.06397237e-03, 0.00000000e+00]],\n",
              "\n",
              "       [[1.49588929e-03, 1.29676711e-03, 7.17021391e-04, 0.00000000e+00],\n",
              "        [8.29620385e-02, 8.69559194e-02, 9.64322915e-02, 0.00000000e+00],\n",
              "        [3.58709992e-03, 3.88748242e-03, 7.28467296e-03, 0.00000000e+00],\n",
              "        [4.73362157e-04, 9.29388684e-04, 1.25435112e-03, 0.00000000e+00],\n",
              "        [8.55352675e-04, 2.32994355e-03, 1.06440739e-03, 0.00000000e+00]]])</pre></div></li><li class='xr-var-item'><div class='xr-var-name'><span>trcr</span></div><div class='xr-var-dims'>(time, ntrcr, ni)</div><div class='xr-var-dtype'>float64</div><div class='xr-var-preview xr-preview'>-1.905 -24.05 -29.58 ... 0.0 0.0</div><input id='attrs-084ae2e1-4669-4978-b884-0bfe85eb739a' class='xr-var-attrs-in' type='checkbox' disabled><label for='attrs-084ae2e1-4669-4978-b884-0bfe85eb739a' title='Show/Hide attributes'><svg class='icon xr-icon-file-text2'><use xlink:href='#icon-file-text2'></use></svg></label><input id='data-5279f363-15e3-4110-b17f-d40cd4eb1dbe' class='xr-var-data-in' type='checkbox'><label for='data-5279f363-15e3-4110-b17f-d40cd4eb1dbe' title='Show/Hide data repr'><svg class='icon xr-icon-database'><use xlink:href='#icon-database'></use></svg></label><div class='xr-var-attrs'><dl class='xr-attrs'></dl></div><div class='xr-var-data'><pre>array([[[-1.90458265e+00, -2.40475167e+01, -2.95832870e+01,\n",
              "          0.00000000e+00],\n",
              "        [ 0.00000000e+00, -3.26371893e+08, -3.23817067e+08,\n",
              "          0.00000000e+00],\n",
              "        [ 0.00000000e+00, -3.19336889e+08, -3.19207443e+08,\n",
              "          0.00000000e+00],\n",
              "        ...,\n",
              "        [ 0.00000000e+00,  2.87517517e-09,  1.24762959e-10,\n",
              "          0.00000000e+00],\n",
              "        [ 0.00000000e+00,  2.30014014e-09,  9.98587408e-10,\n",
              "          0.00000000e+00],\n",
              "        [ 0.00000000e+00,  0.00000000e+00,  0.00000000e+00,\n",
              "          0.00000000e+00]],\n",
              "\n",
              "       [[-1.90458265e+00, -2.35977163e+01, -2.93494657e+01,\n",
              "          0.00000000e+00],\n",
              "        [ 0.00000000e+00, -3.28433946e+08, -3.23769626e+08,\n",
              "          0.00000000e+00],\n",
              "        [ 0.00000000e+00, -3.19537712e+08, -3.19195447e+08,\n",
              "          0.00000000e+00],\n",
              "...\n",
              "        [ 1.56534699e-09,  1.11107664e-10,  2.15316842e-09,\n",
              "          0.00000000e+00],\n",
              "        [ 4.47025200e-10,  7.56792032e-10,  9.44162729e-10,\n",
              "          0.00000000e+00],\n",
              "        [ 0.00000000e+00,  0.00000000e+00,  0.00000000e+00,\n",
              "          0.00000000e+00]],\n",
              "\n",
              "       [[-3.09706080e+01, -3.10315474e+01, -3.11428882e+01,\n",
              "          0.00000000e+00],\n",
              "        [-3.19656572e+08, -3.19326278e+08, -3.18602410e+08,\n",
              "          0.00000000e+00],\n",
              "        [-3.14324842e+08, -3.13857088e+08, -3.13726874e+08,\n",
              "          0.00000000e+00],\n",
              "        ...,\n",
              "        [ 1.27825972e-10,  1.21195591e-09,  2.47497387e-09,\n",
              "          0.00000000e+00],\n",
              "        [ 1.69830506e-10,  1.06654395e-09,  4.53881619e-10,\n",
              "          0.00000000e+00],\n",
              "        [ 0.00000000e+00,  0.00000000e+00,  0.00000000e+00,\n",
              "          0.00000000e+00]]])</pre></div></li><li class='xr-var-item'><div class='xr-var-name'><span>trcrn</span></div><div class='xr-var-dims'>(time, ncat, ntrcr, ni)</div><div class='xr-var-dtype'>float64</div><div class='xr-var-preview xr-preview'>-1.905 -1.905 -27.34 ... 0.0 0.0</div><input id='attrs-ca9b5a80-fbec-4186-ab0f-283a4ec15a0b' class='xr-var-attrs-in' type='checkbox' disabled><label for='attrs-ca9b5a80-fbec-4186-ab0f-283a4ec15a0b' title='Show/Hide attributes'><svg class='icon xr-icon-file-text2'><use xlink:href='#icon-file-text2'></use></svg></label><input id='data-8e485bd1-f795-467e-a913-2b5db2717b88' class='xr-var-data-in' type='checkbox'><label for='data-8e485bd1-f795-467e-a913-2b5db2717b88' title='Show/Hide data repr'><svg class='icon xr-icon-database'><use xlink:href='#icon-database'></use></svg></label><div class='xr-var-attrs'><dl class='xr-attrs'></dl></div><div class='xr-var-data'><pre>array([[[[-1.90458265e+00, -1.90458265e+00, -2.73429838e+01,\n",
              "          -1.90458265e+00],\n",
              "         [ 0.00000000e+00,  0.00000000e+00, -3.23629435e+08,\n",
              "           0.00000000e+00],\n",
              "         [ 0.00000000e+00,  0.00000000e+00, -3.18982229e+08,\n",
              "           0.00000000e+00],\n",
              "         ...,\n",
              "         [ 0.00000000e+00,  0.00000000e+00,  1.24823426e-09,\n",
              "           0.00000000e+00],\n",
              "         [ 0.00000000e+00,  0.00000000e+00,  9.98587408e-10,\n",
              "           0.00000000e+00],\n",
              "         [ 0.00000000e+00,  0.00000000e+00,  0.00000000e+00,\n",
              "           0.00000000e+00]],\n",
              "\n",
              "        [[-1.90458265e+00, -1.90458265e+00, -2.95972231e+01,\n",
              "          -1.90458265e+00],\n",
              "         [ 0.00000000e+00,  0.00000000e+00, -3.23624797e+08,\n",
              "           0.00000000e+00],\n",
              "         [ 0.00000000e+00,  0.00000000e+00, -3.19170071e+08,\n",
              "           0.00000000e+00],\n",
              "...\n",
              "         [ 2.61486717e-03,  6.22697473e-08,  0.00000000e+00,\n",
              "           0.00000000e+00],\n",
              "         [ 3.59987741e-10,  2.93881897e-10,  0.00000000e+00,\n",
              "           0.00000000e+00],\n",
              "         [ 0.00000000e+00,  0.00000000e+00,  0.00000000e+00,\n",
              "           0.00000000e+00]],\n",
              "\n",
              "        [[-3.32954438e+01, -3.32779990e+01, -3.34675716e+01,\n",
              "          -1.90458265e+00],\n",
              "         [-3.24875879e+08, -3.24210823e+08, -3.22812605e+08,\n",
              "           0.00000000e+00],\n",
              "         [-3.15461369e+08, -3.13322453e+08, -3.14291494e+08,\n",
              "           0.00000000e+00],\n",
              "         ...,\n",
              "         [ 0.00000000e+00,  1.72635150e-04,  0.00000000e+00,\n",
              "           0.00000000e+00],\n",
              "         [ 0.00000000e+00,  6.41386134e-10,  0.00000000e+00,\n",
              "           0.00000000e+00],\n",
              "         [ 0.00000000e+00,  0.00000000e+00,  0.00000000e+00,\n",
              "           0.00000000e+00]]]])</pre></div></li></ul></div></li><li class='xr-section-item'><input id='section-bddb6588-a786-433b-818b-73f0b6ba01a2' class='xr-section-summary-in' type='checkbox'  ><label for='section-bddb6588-a786-433b-818b-73f0b6ba01a2' class='xr-section-summary' >Indexes: <span>(4)</span></label><div class='xr-section-inline-details'></div><div class='xr-section-details'><ul class='xr-var-list'><li class='xr-var-item'><div class='xr-index-name'><div>ni</div></div><div class='xr-index-preview'>PandasIndex</div><div></div><input id='index-a3949a27-617a-412d-80fe-ae234e9440a9' class='xr-index-data-in' type='checkbox'/><label for='index-a3949a27-617a-412d-80fe-ae234e9440a9' title='Show/Hide index repr'><svg class='icon xr-icon-database'><use xlink:href='#icon-database'></use></svg></label><div class='xr-index-data'><pre>PandasIndex(Index([1, 2, 3, 4], dtype=&#x27;int32&#x27;, name=&#x27;ni&#x27;))</pre></div></li><li class='xr-var-item'><div class='xr-index-name'><div>ncat</div></div><div class='xr-index-preview'>PandasIndex</div><div></div><input id='index-05393054-ffcc-4a57-a01c-e723563888f1' class='xr-index-data-in' type='checkbox'/><label for='index-05393054-ffcc-4a57-a01c-e723563888f1' title='Show/Hide index repr'><svg class='icon xr-icon-database'><use xlink:href='#icon-database'></use></svg></label><div class='xr-index-data'><pre>PandasIndex(Index([1, 2, 3, 4, 5], dtype=&#x27;int32&#x27;, name=&#x27;ncat&#x27;))</pre></div></li><li class='xr-var-item'><div class='xr-index-name'><div>ntrcr</div></div><div class='xr-index-preview'>PandasIndex</div><div></div><input id='index-f47ae094-1639-48d6-b0d5-3ac0a82601d0' class='xr-index-data-in' type='checkbox'/><label for='index-f47ae094-1639-48d6-b0d5-3ac0a82601d0' title='Show/Hide index repr'><svg class='icon xr-icon-database'><use xlink:href='#icon-database'></use></svg></label><div class='xr-index-data'><pre>PandasIndex(Index([1, 2, 3, 4, 5, 6, 7, 8, 9, 10, 11, 12, 13, 14, 15, 16, 17, 18, 19, 20,\n",
              "       21],\n",
              "      dtype=&#x27;int32&#x27;, name=&#x27;ntrcr&#x27;))</pre></div></li><li class='xr-var-item'><div class='xr-index-name'><div>time</div></div><div class='xr-index-preview'>PandasIndex</div><div></div><input id='index-c32ade5e-9f5f-4a49-a938-aba39f84f9ca' class='xr-index-data-in' type='checkbox'/><label for='index-c32ade5e-9f5f-4a49-a938-aba39f84f9ca' title='Show/Hide index repr'><svg class='icon xr-icon-database'><use xlink:href='#icon-database'></use></svg></label><div class='xr-index-data'><pre>PandasIndex(Index([    1,     2,     3,     4,     5,     6,     7,     8,     9,    10,\n",
              "       ...\n",
              "       43791, 43792, 43793, 43794, 43795, 43796, 43797, 43798, 43799, 43800],\n",
              "      dtype=&#x27;int64&#x27;, name=&#x27;time&#x27;, length=43800))</pre></div></li></ul></div></li><li class='xr-section-item'><input id='section-ee5c7b15-6dcb-47bc-aaca-7ebc9b55dae2' class='xr-section-summary-in' type='checkbox' disabled ><label for='section-ee5c7b15-6dcb-47bc-aaca-7ebc9b55dae2' class='xr-section-summary'  title='Expand/collapse section'>Attributes: <span>(0)</span></label><div class='xr-section-inline-details'></div><div class='xr-section-details'><dl class='xr-attrs'></dl></div></li></ul></div></div>"
            ]
          },
          "metadata": {},
          "execution_count": 5
        }
      ]
    },
    {
      "cell_type": "code",
      "execution_count": null,
      "metadata": {
        "id": "Clr7LKjnwDBy"
      },
      "outputs": [],
      "source": [
        "data = combined_ds\n",
        "input_vars = [\"vice\", \"sst\", \"sss\", \"Tair\", \"Qa\", \"frain\", \"fsnow\", \"flw\", \"fsw\"]\n",
        "data_x = []\n",
        "for var in input_vars:\n",
        "    data_x += [data[var].values[:-1, 2]]\n",
        "\n",
        "data_y = data.vice.values[1:,2]  #- data.vice.values[:-1,2]"
      ]
    },
    {
      "cell_type": "markdown",
      "metadata": {
        "id": "rHKi0pLpwDB3"
      },
      "source": [
        "## Partitioning Data"
      ]
    },
    {
      "cell_type": "code",
      "execution_count": null,
      "metadata": {
        "colab": {
          "base_uri": "https://localhost:8080/"
        },
        "id": "INyOniVDwDB4",
        "outputId": "b7e5caec-5f57-47f1-be5e-e871e166d243"
      },
      "outputs": [
        {
          "output_type": "stream",
          "name": "stdout",
          "text": [
            "Train, first and last:  [0, 43798]\n",
            "Validation, first and last:  [240, 43631]\n",
            "Test, first and last:  [288, 43679]\n",
            "Train set size:  31319\n",
            "Validation set size:  6240\n",
            "Test set size:  6240\n",
            "Sum of sizes: 43799\n"
          ]
        }
      ],
      "source": [
        "num_t = len(data_x[0])\n",
        "ind = np.arange(num_t)\n",
        "train_prop, val_prop, test_prop = 0.7, 0.15, 0.15\n",
        "\n",
        "# 10 days train, 2 days validation, 2 days test\n",
        "index_train = [i for i in ind if i % (14 * 24) in np.arange(10 * 24)]\n",
        "index_val = [i for i in ind if i % (14 * 24) in np.arange(10 * 24, 12 * 24)]\n",
        "index_test = [i for i in ind if i % (14 * 24) in np.arange(12 * 24, 14 * 24)]\n",
        "\n",
        "print(\"Train, first and last: \", [index_train[0], index_train[-1]])\n",
        "print(\"Validation, first and last: \", [index_val[0], index_val[-1]])\n",
        "print(\"Test, first and last: \", [index_test[0], index_test[-1]])\n",
        "print(\"Train set size: \", len(index_train))\n",
        "print(\"Validation set size: \", len(index_val))\n",
        "print(\"Test set size: \", len(index_test))\n",
        "print(\"Sum of sizes:\", sum([len(index_train), len(index_val), len(index_test)]))\n",
        "\n",
        "# shuffle training and validation sets in place\n",
        "random.shuffle(index_train)\n",
        "random.shuffle(index_val)"
      ]
    },
    {
      "cell_type": "markdown",
      "metadata": {
        "id": "QCHodKmYwDB9"
      },
      "source": [
        "### Creating Training Set"
      ]
    },
    {
      "cell_type": "code",
      "source": [
        "epsilon = 1e-8  # Small constant"
      ],
      "metadata": {
        "id": "aiJinQLemWuQ"
      },
      "execution_count": null,
      "outputs": []
    },
    {
      "cell_type": "code",
      "execution_count": null,
      "metadata": {
        "id": "kmRaZbqewDCA"
      },
      "outputs": [],
      "source": [
        "n = len(index_train)\n",
        "x = torch.ones(n,9)\n",
        "y = torch.ones(n,1)\n",
        "for i in range(n):\n",
        "    for j in range(9):\n",
        "        x[i][j]= data_x[j][index_train[i]]\n",
        "    y[i] = data_y[index_train[i]]\n",
        "\n",
        "#y = (y - torch.mean(y)) / (torch.std(y) + epsilon)"
      ]
    },
    {
      "cell_type": "code",
      "source": [
        "std = []\n",
        "mean = []\n",
        "\n",
        "for i in range(9):\n",
        "    std.append(torch.std(x[:,i]))\n",
        "    mean.append(torch.mean(x[:,i]))\n",
        "    if i > 0:\n",
        "        x[:,i] = (x[:,i] - mean[i]) / (std[i] + epsilon)"
      ],
      "metadata": {
        "id": "kAaI0tvki32o"
      },
      "execution_count": null,
      "outputs": []
    },
    {
      "cell_type": "markdown",
      "metadata": {
        "id": "ukeuW01swDCD"
      },
      "source": [
        "### Creating Validation Set"
      ]
    },
    {
      "cell_type": "code",
      "execution_count": null,
      "metadata": {
        "id": "PObj4VY7wDCI"
      },
      "outputs": [],
      "source": [
        "n = len(index_val)\n",
        "x_val = torch.ones(n,9)\n",
        "y_val = torch.ones(n,1)\n",
        "for i in range(n):\n",
        "    for j in range(9):\n",
        "        x_val[i][j]= data_x[j][index_val[i]]\n",
        "    y_val[i] = data_y[index_val[i]]\n",
        "\n",
        "#y_val = (y_val - torch.mean(y_val)) / (torch.std(y_val) + epsilon)"
      ]
    },
    {
      "cell_type": "code",
      "source": [
        "std_val= []\n",
        "mean_val = []\n",
        "\n",
        "for i in range(9):\n",
        "    std_val.append(torch.std(x_val[:,i]))\n",
        "    mean_val.append(torch.mean(x_val[:,i]))\n",
        "    if i > 0:\n",
        "        x_val[:,i] = (x_val[:,i] - mean_val[i]) / (std[i] + epsilon)"
      ],
      "metadata": {
        "id": "m1g8cu_NkGxY"
      },
      "execution_count": null,
      "outputs": []
    },
    {
      "cell_type": "markdown",
      "metadata": {
        "id": "aWLFwrCGwDCM"
      },
      "source": [
        "Check if normalized or not:"
      ]
    },
    {
      "cell_type": "code",
      "execution_count": null,
      "metadata": {
        "colab": {
          "base_uri": "https://localhost:8080/"
        },
        "id": "RnjnT5DJwDCN",
        "outputId": "abb0e056-2384-410e-c46e-c61ecdd0dd17"
      },
      "outputs": [
        {
          "output_type": "stream",
          "name": "stdout",
          "text": [
            "tensor(0.0054) tensor(3.2488)\n"
          ]
        }
      ],
      "source": [
        "print(min(x[:,0]), max(x[:,0]))"
      ]
    },
    {
      "cell_type": "code",
      "source": [
        "import torch.utils.data as Data"
      ],
      "metadata": {
        "id": "Jry8v03x0xkv"
      },
      "execution_count": null,
      "outputs": []
    },
    {
      "cell_type": "code",
      "source": [
        "# CAN PLAY AROUND W/ # OF BATCHES/BATCH SIZES\n",
        "n_batches = 16\n",
        "BATCH_SIZE = int(np.floor(len(x) / n_batches))\n",
        "print(BATCH_SIZE)\n",
        "\n",
        "local_dataset = Data.TensorDataset(x,y)\n",
        "\n",
        "local_loader_train = Data.DataLoader(\n",
        "    dataset=local_dataset, batch_size=BATCH_SIZE, shuffle=True\n",
        ")"
      ],
      "metadata": {
        "colab": {
          "base_uri": "https://localhost:8080/"
        },
        "id": "stgexIcj00ES",
        "outputId": "895b2ed1-0407-4862-f816-ad89d3459b05"
      },
      "execution_count": null,
      "outputs": [
        {
          "output_type": "stream",
          "name": "stdout",
          "text": [
            "1957\n"
          ]
        }
      ]
    },
    {
      "cell_type": "code",
      "source": [
        "local_dataset_val = Data.TensorDataset(x_val,y_val)\n",
        "\n",
        "local_loader_val = Data.DataLoader(\n",
        "    dataset=local_dataset_val, batch_size=BATCH_SIZE, shuffle=False\n",
        ")"
      ],
      "metadata": {
        "id": "jku6VLEP05bC"
      },
      "execution_count": null,
      "outputs": []
    },
    {
      "cell_type": "markdown",
      "metadata": {
        "id": "_CnMAwoywDCQ"
      },
      "source": [
        "# Defintion Neural Network"
      ]
    },
    {
      "cell_type": "code",
      "execution_count": null,
      "metadata": {
        "id": "kSOTWAN_wDCR"
      },
      "outputs": [],
      "source": [
        "class Simple_Neural_Net(nn.Module):\n",
        "    def __init__(self):\n",
        "        super().__init__()\n",
        "        self.Dense1 = nn.Linear(9, 30)\n",
        "        self.Dense2 = nn.Linear(30, 30)\n",
        "        self.Dense3 = nn.Linear(30, 1)\n",
        "\n",
        "        self.relu = nn.ReLU()\n",
        "\n",
        "    def forward(self, x):\n",
        "        # This method is automatically executed when\n",
        "        # we call a object of this class\n",
        "        x = self.Dense1(x)\n",
        "        x = self.relu(x)\n",
        "        x = self.Dense2(x)\n",
        "        x = self.relu(x)\n",
        "        x = self.Dense3(x)\n",
        "\n",
        "        return x\n",
        "\n",
        "class FCNN(nn.Module):\n",
        "    def __init__(self):\n",
        "        super().__init__()\n",
        "        self.linear1 = nn.Linear(9, 30)\n",
        "        self.linear2 = nn.Linear(30, 20)\n",
        "        self.linear3 = nn.Linear(20, 1)\n",
        "\n",
        "        self.relu = nn.ReLU()\n",
        "\n",
        "    def forward(self, x):\n",
        "        x = self.relu(self.linear1(x))\n",
        "        x = self.relu(self.linear2(x))\n",
        "        x = self.linear3(x)\n",
        "        return x\n"
      ]
    },
    {
      "cell_type": "code",
      "execution_count": null,
      "metadata": {
        "id": "a1X-FCG_wDCT"
      },
      "outputs": [],
      "source": [
        "neural_net = Simple_Neural_Net()"
      ]
    },
    {
      "cell_type": "code",
      "execution_count": null,
      "metadata": {
        "id": "bobecfFZwDCU"
      },
      "outputs": [],
      "source": [
        "neural_net = FCNN()"
      ]
    },
    {
      "cell_type": "code",
      "execution_count": null,
      "metadata": {
        "id": "Jx4bLt5qwDCW"
      },
      "outputs": [],
      "source": [
        "# Here we use the Adam optimizer.\n",
        "learning_rate = 0.001 #0.005\n",
        "optimizer = torch.optim.Adam(neural_net.parameters())"
      ]
    },
    {
      "cell_type": "code",
      "execution_count": null,
      "metadata": {
        "id": "ga69oFA1wDCY"
      },
      "outputs": [],
      "source": [
        "# MSE loss function\n",
        "loss_fn = torch.nn.MSELoss()"
      ]
    },
    {
      "cell_type": "markdown",
      "metadata": {
        "id": "z4ykAmMGwDCZ"
      },
      "source": [
        "# Training"
      ]
    },
    {
      "cell_type": "code",
      "execution_count": null,
      "metadata": {
        "id": "zi_SJUiWwDCa"
      },
      "outputs": [],
      "source": [
        "def train_step(model, loss_fn, optimizer):\n",
        "    model.train()\n",
        "    # Set the model to training mode - important for batch normalization and dropout layers\n",
        "    # Unnecessary in this situation but added for best practices\n",
        "\n",
        "    pred = model(x)\n",
        "    loss = loss_fn(pred, y)\n",
        "\n",
        "    # Backpropagation\n",
        "    loss.backward()\n",
        "    optimizer.step()\n",
        "    optimizer.zero_grad()\n",
        "\n",
        "    loss = loss.item()\n",
        "    return loss"
      ]
    },
    {
      "cell_type": "code",
      "source": [
        "def train_step_batch(model, loss_fn, optimizer, loader):\n",
        "    model.train()\n",
        "    train_loss = 0\n",
        "    for batch_x, batch_y in loader:\n",
        "        # Get predictions\n",
        "        if len(batch_x.shape) == 1:\n",
        "            # This if block is needed to add a dummy dimension if our inputs are 1D\n",
        "            # (where each number is a different sample)\n",
        "            prediction = torch.squeeze(model(torch.unsqueeze(batch_x, 1)))\n",
        "        else:\n",
        "            prediction = model(batch_x)\n",
        "\n",
        "        # Compute the loss\n",
        "        loss = loss_fn(prediction, batch_y)\n",
        "        train_loss += loss.item()\n",
        "\n",
        "        # Clear the gradients\n",
        "        optimizer.zero_grad()\n",
        "\n",
        "        # Backpropagation to compute the gradients and update the weights\n",
        "        loss.backward()\n",
        "        optimizer.step()\n",
        "\n",
        "    return train_loss / len(loader)"
      ],
      "metadata": {
        "id": "H55oWVjK1CCM"
      },
      "execution_count": null,
      "outputs": []
    },
    {
      "cell_type": "code",
      "execution_count": null,
      "metadata": {
        "id": "AHxtMCtNwDCc"
      },
      "outputs": [],
      "source": [
        "def validate_step(model, loss_fn):\n",
        "    # Set the model to training mode - important for batch normalization and dropout layers\n",
        "    # Unnecessary in this situation but added for best practices\n",
        "\n",
        "    pred = model(x_val)\n",
        "    loss = loss_fn(pred, y_val)\n",
        "\n",
        "    loss = loss.item()\n",
        "    return loss"
      ]
    },
    {
      "cell_type": "code",
      "source": [
        "def validate_step_batch(model, loss_fn, loader):\n",
        "    model.eval()  # Evaluation mode (important when having dropout layers)\n",
        "\n",
        "    val_loss = 0\n",
        "    with torch.no_grad():\n",
        "        for batch_x, batch_y in loader:\n",
        "            # Get predictions\n",
        "            if len(batch_x.shape) == 1:\n",
        "                # This if block is needed to add a dummy dimension if our inputs are 1D\n",
        "                # (where each number is a different sample)\n",
        "                prediction = torch.squeeze(model(torch.unsqueeze(batch_x, 1)))\n",
        "            else:\n",
        "                prediction = model(batch_x)\n",
        "\n",
        "            # Compute the loss\n",
        "            loss = loss_fn(prediction, batch_y)\n",
        "            val_loss += loss.item()\n",
        "\n",
        "        # Get an average loss for the entire dataset\n",
        "        val_loss /= len(loader)\n",
        "\n",
        "    return val_loss"
      ],
      "metadata": {
        "id": "0d00-owe1HA-"
      },
      "execution_count": null,
      "outputs": []
    },
    {
      "cell_type": "code",
      "execution_count": null,
      "metadata": {
        "colab": {
          "base_uri": "https://localhost:8080/"
        },
        "id": "XaGzavTOwDCc",
        "outputId": "8d5a50a0-bdee-400e-c33a-bd679fa5e310"
      },
      "outputs": [
        {
          "output_type": "stream",
          "name": "stdout",
          "text": [
            "Loss at Epoch 1 is  2.0304131507873535\n",
            "Loss at Epoch 201 is  0.00884657260030508\n",
            "Loss at Epoch 401 is  0.0014286065706983209\n",
            "Loss at Epoch 601 is  0.0007306651095859706\n",
            "Loss at Epoch 801 is  0.0005317686009220779\n"
          ]
        }
      ],
      "source": [
        "lbatch = False\n",
        "\n",
        "if lbatch:\n",
        "    # TRAIN MODEL, WITH BATCHES\n",
        "    epochs = 1000\n",
        "    Loss = np.zeros(epochs)\n",
        "    V_Loss = np.zeros(epochs)\n",
        "    for t in range(epochs):\n",
        "        Loss[t] = train_step_batch(neural_net, loss_fn, optimizer, local_loader_train)\n",
        "        V_Loss[t] = validate_step_batch(neural_net, loss_fn, local_loader_val)\n",
        "        if np.mod(t, 200) == 0:\n",
        "            print(f\"Loss at Epoch {t+1} is \", Loss[t])\n",
        "else:\n",
        "    epochs = 1000\n",
        "    Loss = np.zeros(epochs)\n",
        "    V_Loss = np.zeros(epochs)\n",
        "    for t in range(epochs):\n",
        "        Loss[t] = train_step(neural_net, loss_fn, optimizer)\n",
        "        V_Loss[t] = validate_step(neural_net, loss_fn)\n",
        "        if np.mod(t, 200) == 0:\n",
        "            print(f\"Loss at Epoch {t+1} is \", Loss[t])"
      ]
    },
    {
      "cell_type": "code",
      "execution_count": null,
      "metadata": {
        "colab": {
          "base_uri": "https://localhost:8080/",
          "height": 695
        },
        "id": "FMi5nxaVwDCd",
        "outputId": "48e804e2-da63-4c82-bf32-13e002440404"
      },
      "outputs": [
        {
          "output_type": "display_data",
          "data": {
            "text/plain": [
              "<Figure size 960x720 with 1 Axes>"
            ],
            "image/png": "[encoded data removed]"
          },
          "metadata": {}
        }
      ],
      "source": [
        "plt.figure(dpi=150)\n",
        "plt.plot(Loss, label = \"Training\")\n",
        "plt.plot(V_Loss, label = \"Validation\")\n",
        "plt.xlabel(\"Iteration\")\n",
        "plt.ylabel(\"Loss\")\n",
        "plt.yscale(\"log\")\n",
        "plt.title(\"Loss vs Iteration\")\n",
        "plt.legend()\n",
        "plt.show()"
      ]
    },
    {
      "cell_type": "markdown",
      "metadata": {
        "id": "iH7Xh3R2wDCf"
      },
      "source": [
        "# Testing"
      ]
    },
    {
      "cell_type": "markdown",
      "metadata": {
        "id": "NVWrFaupwDCh"
      },
      "source": [
        "### Creating Test-Data-Set"
      ]
    },
    {
      "cell_type": "code",
      "source": [
        "data_t = xr.open_dataset(\"/content/drive/MyDrive/ictp2024_icepack_project/testing/Arctic.0it.20120101.nc\", decode_times=False)"
      ],
      "metadata": {
        "id": "b1PpZN8iXLZy"
      },
      "execution_count": null,
      "outputs": []
    },
    {
      "cell_type": "code",
      "source": [
        "y_ml_pred = torch.zeros(n+1)\n",
        "n = 8000\n",
        "xt = torch.ones(n,9)\n",
        "\n",
        "data_xt = []\n",
        "for var in input_vars:\n",
        "    data_xt += [data_t[var].values[:n, 2]]\n",
        "\n",
        "for i in range(n):\n",
        "    for j in range(9):\n",
        "        xt[i][j]= data_xt[j][i]\n",
        "\n",
        "std_t = []\n",
        "mean_t = []\n",
        "\n",
        "for i in range(9):\n",
        "    std_t.append(torch.std(xt[:,i]))\n",
        "    mean_t.append(torch.mean(xt[:,i]))\n",
        "    if i > 0:\n",
        "        xt[:,i] = (xt[:,i] - mean_t[i]) / (std_t[i] + epsilon)\n",
        "\n",
        "# Generate some points where the predictions of the model will be tested.\n",
        "# Here we pick the testing domain to be larger than the training domain to check if the model\n",
        "# has any skill at extrapolation.\n",
        "\n",
        "y_ml_pred = torch.zeros(n+1)\n",
        "x_test = torch.ones(9)\n",
        "for i in range(n):\n",
        "    for j in range (1,9):  # to avoid writing in the place of predicted field\n",
        "        x_test[j] = xt[i,j]\n",
        "    if i == 0:\n",
        "        x_test[0] = xt[0,0]\n",
        "    else:\n",
        "        x_test[0] = pred\n",
        "    pred = neural_net(x_test).detach().numpy()\n",
        "    pred = torch.from_numpy(pred)\n",
        "    y_ml_pred[i+1] = pred\n",
        "\n",
        "# store icepack output for comparison with predicted result\n",
        "y_test = data_t.vice.values[1:,2] #- data_t.vice.values[:-1,2]\n",
        "#y_test = (y_test - np.mean(y_test)) / (np.std(y_test) + epsilon)"
      ],
      "metadata": {
        "id": "A0jzttZnYTeS"
      },
      "execution_count": null,
      "outputs": []
    },
    {
      "cell_type": "code",
      "execution_count": null,
      "metadata": {
        "id": "YZ-w_W1mwDCi"
      },
      "outputs": [],
      "source": [
        "if False:\n",
        "  n = len(index_test)\n",
        "  xt = torch.ones(n,9)\n",
        "  for i in range(n):\n",
        "      for j in range(9):\n",
        "          xt[i][j]= data_x[j][index_test[i]]"
      ]
    },
    {
      "cell_type": "code",
      "execution_count": null,
      "metadata": {
        "id": "dL8C1LUKwDCj"
      },
      "outputs": [],
      "source": [
        "if False:\n",
        "  plt.figure(dpi=150)\n",
        "  plt.plot(xt[:,0], \".\",markersize=0.5, label=\"test_norm\")\n",
        "\n",
        "  plt.legend()"
      ]
    },
    {
      "cell_type": "code",
      "execution_count": null,
      "metadata": {
        "id": "1R1RSuSywDCl"
      },
      "outputs": [],
      "source": [
        "if False:\n",
        "  # Generate some points where the predictions of the model will be tested.\n",
        "  # Here we pick the testing domain to be larger than the training domain to check if the model\n",
        "  # has any skill at extrapolation.\n",
        "\n",
        "  y_ml_pred = torch.zeros(len(index_test)+1)\n",
        "  x_test = torch.ones(9)\n",
        "  for i in range(len(index_test)):\n",
        "      for j in range (1,9):  # to avoid writing in the place of predicted field\n",
        "          x_test[j] = xt[i,j]\n",
        "      if i == 0:\n",
        "          x_test[0] = xt[0,0]\n",
        "      else:\n",
        "          x_test[0] = pred\n",
        "      pred = neural_net(x_test).detach().numpy()\n",
        "      pred = torch.from_numpy(pred)\n",
        "      y_ml_pred[i+1] = pred\n",
        "\n",
        "  # store icepack output for comparison with predicted result\n",
        "  y_test = torch.ones(len(index_test))\n",
        "  for i in range(len(index_test)):\n",
        "      y_test[i] = data_y[index_test[i]]"
      ]
    },
    {
      "cell_type": "markdown",
      "metadata": {
        "id": "Jx74MGxIwDCm"
      },
      "source": [
        "## Comparing prediction to ICEPACK-Data"
      ]
    },
    {
      "cell_type": "code",
      "execution_count": null,
      "metadata": {
        "colab": {
          "base_uri": "https://localhost:8080/",
          "height": 652
        },
        "id": "MPOnnTD7wDCn",
        "outputId": "68f1d666-6fca-4ba5-c65b-4c3d4dbc1828"
      },
      "outputs": [
        {
          "output_type": "execute_result",
          "data": {
            "text/plain": [
              "<matplotlib.legend.Legend at 0x7b6cf3a8b580>"
            ]
          },
          "metadata": {},
          "execution_count": 461
        },
        {
          "output_type": "display_data",
          "data": {
            "text/plain": [
              "<Figure size 960x720 with 1 Axes>"
            ],
            "image/png": "[encoded data removed]"
          },
          "metadata": {}
        }
      ],
      "source": [
        "plt.figure(dpi=150)\n",
        "\n",
        "plt.plot(y_test, markersize=0.5, label=\"Icepack output\")\n",
        "plt.plot(y_ml_pred, markersize=0.5, label=\"Predicted fit\")\n",
        "plt.xlim(0,n)\n",
        "plt.legend()"
      ]
    },
    {
      "cell_type": "markdown",
      "metadata": {
        "id": "O4ikAk30wDCo"
      },
      "source": [
        "## Difference between prediction and ICEPACK-Data"
      ]
    },
    {
      "cell_type": "code",
      "execution_count": null,
      "metadata": {
        "id": "I9UulL4BwDCp",
        "outputId": "25d2ea75-6d99-46d4-d016-672012b57465"
      },
      "outputs": [
        {
          "data": {
            "image/png": "[encoded data removed]",
            "text/plain": [
              "<Figure size 640x480 with 1 Axes>"
            ]
          },
          "metadata": {},
          "output_type": "display_data"
        }
      ],
      "source": [
        "plt.plot(y_test - pred.flatten(), 'o', markersize=0.5, label = 'Difference');\n",
        "plt.title(\"ICEPACK - Predicted\");\n",
        "plt.legend();"
      ]
    },
    {
      "cell_type": "markdown",
      "metadata": {
        "id": "pvNnNLEcwDCq"
      },
      "source": [
        "# Validation"
      ]
    },
    {
      "cell_type": "code",
      "execution_count": null,
      "metadata": {
        "id": "dGHCajT1wDCr"
      },
      "outputs": [],
      "source": []
    },
    {
      "cell_type": "code",
      "execution_count": null,
      "metadata": {
        "id": "cXKDWt2LwDCs"
      },
      "outputs": [],
      "source": []
    }
  ],
  "metadata": {
    "kernelspec": {
      "display_name": "Python 3 (ipykernel)",
      "language": "python",
      "name": "python3"
    },
    "language_info": {
      "codemirror_mode": {
        "name": "ipython",
        "version": 3
      },
      "file_extension": ".py",
      "mimetype": "text/x-python",
      "name": "python",
      "nbconvert_exporter": "python",
      "pygments_lexer": "ipython3",
      "version": "3.11.5"
    },
    "colab": {
      "provenance": [],
      "toc_visible": true
    }
  },
  "nbformat": 4,
  "nbformat_minor": 0
}